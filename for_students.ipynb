{
 "cells": [
  {
   "cell_type": "markdown",
   "metadata": {},
   "source": [
    "# Курс по математическому анализу. 2й курс, астрономы. Дата начала разработки октябрь 2020"
   ]
  },
  {
   "cell_type": "markdown",
   "metadata": {},
   "source": [
    "# Oбработка данных на python\n"
   ]
  },
  {
   "cell_type": "markdown",
   "metadata": {},
   "source": [
    "# Чтение и группировка данных"
   ]
  },
  {
   "cell_type": "code",
   "execution_count": 1,
   "metadata": {
    "scrolled": true
   },
   "outputs": [
    {
     "data": {
      "text/html": [
       "<div>\n",
       "<style scoped>\n",
       "    .dataframe tbody tr th:only-of-type {\n",
       "        vertical-align: middle;\n",
       "    }\n",
       "\n",
       "    .dataframe tbody tr th {\n",
       "        vertical-align: top;\n",
       "    }\n",
       "\n",
       "    .dataframe thead th {\n",
       "        text-align: right;\n",
       "    }\n",
       "</style>\n",
       "<table border=\"1\" class=\"dataframe\">\n",
       "  <thead>\n",
       "    <tr style=\"text-align: right;\">\n",
       "      <th></th>\n",
       "      <th>Unnamed: 0</th>\n",
       "      <th>Name</th>\n",
       "      <th>Age</th>\n",
       "      <th>Nationality</th>\n",
       "      <th>Club</th>\n",
       "      <th>Value</th>\n",
       "      <th>Wage</th>\n",
       "      <th>Position</th>\n",
       "      <th>Crossing</th>\n",
       "      <th>Finishing</th>\n",
       "      <th>...</th>\n",
       "      <th>Penalties</th>\n",
       "      <th>Composure</th>\n",
       "      <th>Marking</th>\n",
       "      <th>StandingTackle</th>\n",
       "      <th>SlidingTackle</th>\n",
       "      <th>GKDiving</th>\n",
       "      <th>GKHandling</th>\n",
       "      <th>GKKicking</th>\n",
       "      <th>GKPositioning</th>\n",
       "      <th>GKReflexes</th>\n",
       "    </tr>\n",
       "  </thead>\n",
       "  <tbody>\n",
       "    <tr>\n",
       "      <th>0</th>\n",
       "      <td>0</td>\n",
       "      <td>L. Messi</td>\n",
       "      <td>31</td>\n",
       "      <td>Argentina</td>\n",
       "      <td>FC Barcelona</td>\n",
       "      <td>110500000</td>\n",
       "      <td>565000</td>\n",
       "      <td>RF</td>\n",
       "      <td>84</td>\n",
       "      <td>95</td>\n",
       "      <td>...</td>\n",
       "      <td>75</td>\n",
       "      <td>96</td>\n",
       "      <td>33</td>\n",
       "      <td>28</td>\n",
       "      <td>26</td>\n",
       "      <td>6</td>\n",
       "      <td>11</td>\n",
       "      <td>15</td>\n",
       "      <td>14</td>\n",
       "      <td>8</td>\n",
       "    </tr>\n",
       "    <tr>\n",
       "      <th>1</th>\n",
       "      <td>1</td>\n",
       "      <td>Cristiano Ronaldo</td>\n",
       "      <td>33</td>\n",
       "      <td>Portugal</td>\n",
       "      <td>Juventus</td>\n",
       "      <td>77000000</td>\n",
       "      <td>405000</td>\n",
       "      <td>ST</td>\n",
       "      <td>84</td>\n",
       "      <td>94</td>\n",
       "      <td>...</td>\n",
       "      <td>85</td>\n",
       "      <td>95</td>\n",
       "      <td>28</td>\n",
       "      <td>31</td>\n",
       "      <td>23</td>\n",
       "      <td>7</td>\n",
       "      <td>11</td>\n",
       "      <td>15</td>\n",
       "      <td>14</td>\n",
       "      <td>11</td>\n",
       "    </tr>\n",
       "    <tr>\n",
       "      <th>2</th>\n",
       "      <td>2</td>\n",
       "      <td>Neymar Jr</td>\n",
       "      <td>26</td>\n",
       "      <td>Brazil</td>\n",
       "      <td>Paris Saint-Germain</td>\n",
       "      <td>118500000</td>\n",
       "      <td>290000</td>\n",
       "      <td>LW</td>\n",
       "      <td>79</td>\n",
       "      <td>87</td>\n",
       "      <td>...</td>\n",
       "      <td>81</td>\n",
       "      <td>94</td>\n",
       "      <td>27</td>\n",
       "      <td>24</td>\n",
       "      <td>33</td>\n",
       "      <td>9</td>\n",
       "      <td>9</td>\n",
       "      <td>15</td>\n",
       "      <td>15</td>\n",
       "      <td>11</td>\n",
       "    </tr>\n",
       "    <tr>\n",
       "      <th>3</th>\n",
       "      <td>3</td>\n",
       "      <td>De Gea</td>\n",
       "      <td>27</td>\n",
       "      <td>Spain</td>\n",
       "      <td>Manchester United</td>\n",
       "      <td>72000000</td>\n",
       "      <td>260000</td>\n",
       "      <td>GK</td>\n",
       "      <td>17</td>\n",
       "      <td>13</td>\n",
       "      <td>...</td>\n",
       "      <td>40</td>\n",
       "      <td>68</td>\n",
       "      <td>15</td>\n",
       "      <td>21</td>\n",
       "      <td>13</td>\n",
       "      <td>90</td>\n",
       "      <td>85</td>\n",
       "      <td>87</td>\n",
       "      <td>88</td>\n",
       "      <td>94</td>\n",
       "    </tr>\n",
       "    <tr>\n",
       "      <th>4</th>\n",
       "      <td>4</td>\n",
       "      <td>K. De Bruyne</td>\n",
       "      <td>27</td>\n",
       "      <td>Belgium</td>\n",
       "      <td>Manchester City</td>\n",
       "      <td>102000000</td>\n",
       "      <td>355000</td>\n",
       "      <td>RCM</td>\n",
       "      <td>93</td>\n",
       "      <td>82</td>\n",
       "      <td>...</td>\n",
       "      <td>79</td>\n",
       "      <td>88</td>\n",
       "      <td>68</td>\n",
       "      <td>58</td>\n",
       "      <td>51</td>\n",
       "      <td>15</td>\n",
       "      <td>13</td>\n",
       "      <td>5</td>\n",
       "      <td>10</td>\n",
       "      <td>13</td>\n",
       "    </tr>\n",
       "  </tbody>\n",
       "</table>\n",
       "<p>5 rows × 42 columns</p>\n",
       "</div>"
      ],
      "text/plain": [
       "   Unnamed: 0               Name  Age Nationality                 Club  \\\n",
       "0           0           L. Messi   31   Argentina         FC Barcelona   \n",
       "1           1  Cristiano Ronaldo   33    Portugal             Juventus   \n",
       "2           2          Neymar Jr   26      Brazil  Paris Saint-Germain   \n",
       "3           3             De Gea   27       Spain    Manchester United   \n",
       "4           4       K. De Bruyne   27     Belgium      Manchester City   \n",
       "\n",
       "       Value    Wage Position  Crossing  Finishing  ...  Penalties  Composure  \\\n",
       "0  110500000  565000       RF        84         95  ...         75         96   \n",
       "1   77000000  405000       ST        84         94  ...         85         95   \n",
       "2  118500000  290000       LW        79         87  ...         81         94   \n",
       "3   72000000  260000       GK        17         13  ...         40         68   \n",
       "4  102000000  355000      RCM        93         82  ...         79         88   \n",
       "\n",
       "   Marking  StandingTackle  SlidingTackle  GKDiving  GKHandling  GKKicking  \\\n",
       "0       33              28             26         6          11         15   \n",
       "1       28              31             23         7          11         15   \n",
       "2       27              24             33         9           9         15   \n",
       "3       15              21             13        90          85         87   \n",
       "4       68              58             51        15          13          5   \n",
       "\n",
       "   GKPositioning  GKReflexes  \n",
       "0             14           8  \n",
       "1             14          11  \n",
       "2             15          11  \n",
       "3             88          94  \n",
       "4             10          13  \n",
       "\n",
       "[5 rows x 42 columns]"
      ]
     },
     "metadata": {},
     "output_type": "display_data"
    }
   ],
   "source": [
    "import pandas as pd # импорт библиотеки Пандас\n",
    "\n",
    "football = pd.read_csv('data_sf.csv')\n",
    "display(football.head())"
   ]
  },
  {
   "cell_type": "markdown",
   "metadata": {},
   "source": [
    "### Краткое описание файла метод .info()"
   ]
  },
  {
   "cell_type": "code",
   "execution_count": 3,
   "metadata": {},
   "outputs": [
    {
     "name": "stdout",
     "output_type": "stream",
     "text": [
      "<class 'pandas.core.frame.DataFrame'>\n",
      "RangeIndex: 12897 entries, 0 to 12896\n",
      "Data columns (total 42 columns):\n",
      " #   Column           Non-Null Count  Dtype \n",
      "---  ------           --------------  ----- \n",
      " 0   Unnamed: 0       12897 non-null  int64 \n",
      " 1   Name             12897 non-null  object\n",
      " 2   Age              12897 non-null  int64 \n",
      " 3   Nationality      12897 non-null  object\n",
      " 4   Club             12897 non-null  object\n",
      " 5   Value            12897 non-null  int64 \n",
      " 6   Wage             12897 non-null  int64 \n",
      " 7   Position         12897 non-null  object\n",
      " 8   Crossing         12897 non-null  int64 \n",
      " 9   Finishing        12897 non-null  int64 \n",
      " 10  HeadingAccuracy  12897 non-null  int64 \n",
      " 11  ShortPassing     12897 non-null  int64 \n",
      " 12  Volleys          12897 non-null  int64 \n",
      " 13  Dribbling        12897 non-null  int64 \n",
      " 14  Curve            12897 non-null  int64 \n",
      " 15  FKAccuracy       12897 non-null  int64 \n",
      " 16  LongPassing      12897 non-null  int64 \n",
      " 17  BallControl      12897 non-null  int64 \n",
      " 18  Acceleration     12897 non-null  int64 \n",
      " 19  SprintSpeed      12897 non-null  int64 \n",
      " 20  Agility          12897 non-null  int64 \n",
      " 21  Reactions        12897 non-null  int64 \n",
      " 22  Balance          12897 non-null  int64 \n",
      " 23  ShotPower        12897 non-null  int64 \n",
      " 24  Jumping          12897 non-null  int64 \n",
      " 25  Stamina          12897 non-null  int64 \n",
      " 26  Strength         12897 non-null  int64 \n",
      " 27  LongShots        12897 non-null  int64 \n",
      " 28  Aggression       12897 non-null  int64 \n",
      " 29  Interceptions    12897 non-null  int64 \n",
      " 30  Positioning      12897 non-null  int64 \n",
      " 31  Vision           12897 non-null  int64 \n",
      " 32  Penalties        12897 non-null  int64 \n",
      " 33  Composure        12897 non-null  int64 \n",
      " 34  Marking          12897 non-null  int64 \n",
      " 35  StandingTackle   12897 non-null  int64 \n",
      " 36  SlidingTackle    12897 non-null  int64 \n",
      " 37  GKDiving         12897 non-null  int64 \n",
      " 38  GKHandling       12897 non-null  int64 \n",
      " 39  GKKicking        12897 non-null  int64 \n",
      " 40  GKPositioning    12897 non-null  int64 \n",
      " 41  GKReflexes       12897 non-null  int64 \n",
      "dtypes: int64(38), object(4)\n",
      "memory usage: 4.1+ MB\n"
     ]
    },
    {
     "data": {
      "text/plain": [
       "None"
      ]
     },
     "metadata": {},
     "output_type": "display_data"
    }
   ],
   "source": [
    "display(football.info())"
   ]
  },
  {
   "cell_type": "markdown",
   "metadata": {},
   "source": [
    "### Подробное описание, метод .describe()"
   ]
  },
  {
   "cell_type": "code",
   "execution_count": 8,
   "metadata": {},
   "outputs": [
    {
     "data": {
      "text/html": [
       "<div>\n",
       "<style scoped>\n",
       "    .dataframe tbody tr th:only-of-type {\n",
       "        vertical-align: middle;\n",
       "    }\n",
       "\n",
       "    .dataframe tbody tr th {\n",
       "        vertical-align: top;\n",
       "    }\n",
       "\n",
       "    .dataframe thead th {\n",
       "        text-align: right;\n",
       "    }\n",
       "</style>\n",
       "<table border=\"1\" class=\"dataframe\">\n",
       "  <thead>\n",
       "    <tr style=\"text-align: right;\">\n",
       "      <th></th>\n",
       "      <th>Unnamed: 0</th>\n",
       "      <th>Age</th>\n",
       "      <th>Value</th>\n",
       "      <th>Wage</th>\n",
       "      <th>Crossing</th>\n",
       "      <th>Finishing</th>\n",
       "      <th>HeadingAccuracy</th>\n",
       "      <th>ShortPassing</th>\n",
       "      <th>Volleys</th>\n",
       "      <th>Dribbling</th>\n",
       "      <th>...</th>\n",
       "      <th>Penalties</th>\n",
       "      <th>Composure</th>\n",
       "      <th>Marking</th>\n",
       "      <th>StandingTackle</th>\n",
       "      <th>SlidingTackle</th>\n",
       "      <th>GKDiving</th>\n",
       "      <th>GKHandling</th>\n",
       "      <th>GKKicking</th>\n",
       "      <th>GKPositioning</th>\n",
       "      <th>GKReflexes</th>\n",
       "    </tr>\n",
       "  </thead>\n",
       "  <tbody>\n",
       "    <tr>\n",
       "      <th>count</th>\n",
       "      <td>12897.000000</td>\n",
       "      <td>12897.000000</td>\n",
       "      <td>1.289700e+04</td>\n",
       "      <td>12897.000000</td>\n",
       "      <td>12897.000000</td>\n",
       "      <td>12897.000000</td>\n",
       "      <td>12897.000000</td>\n",
       "      <td>12897.000000</td>\n",
       "      <td>12897.000000</td>\n",
       "      <td>12897.000000</td>\n",
       "      <td>...</td>\n",
       "      <td>12897.000000</td>\n",
       "      <td>12897.000000</td>\n",
       "      <td>12897.000000</td>\n",
       "      <td>12897.000000</td>\n",
       "      <td>12897.000000</td>\n",
       "      <td>12897.000000</td>\n",
       "      <td>12897.000000</td>\n",
       "      <td>12897.000000</td>\n",
       "      <td>12897.000000</td>\n",
       "      <td>12897.000000</td>\n",
       "    </tr>\n",
       "    <tr>\n",
       "      <th>mean</th>\n",
       "      <td>6605.040862</td>\n",
       "      <td>24.795379</td>\n",
       "      <td>2.112449e+06</td>\n",
       "      <td>7517.562224</td>\n",
       "      <td>47.076374</td>\n",
       "      <td>42.876328</td>\n",
       "      <td>50.202528</td>\n",
       "      <td>56.026983</td>\n",
       "      <td>40.295030</td>\n",
       "      <td>52.461735</td>\n",
       "      <td>...</td>\n",
       "      <td>46.459874</td>\n",
       "      <td>55.942932</td>\n",
       "      <td>45.655811</td>\n",
       "      <td>46.186710</td>\n",
       "      <td>44.386679</td>\n",
       "      <td>17.218345</td>\n",
       "      <td>16.962317</td>\n",
       "      <td>16.797938</td>\n",
       "      <td>16.950221</td>\n",
       "      <td>17.315965</td>\n",
       "    </tr>\n",
       "    <tr>\n",
       "      <th>std</th>\n",
       "      <td>3782.545526</td>\n",
       "      <td>4.872212</td>\n",
       "      <td>6.498424e+06</td>\n",
       "      <td>23061.985387</td>\n",
       "      <td>18.043470</td>\n",
       "      <td>19.096935</td>\n",
       "      <td>17.281593</td>\n",
       "      <td>14.740436</td>\n",
       "      <td>17.080687</td>\n",
       "      <td>18.871643</td>\n",
       "      <td>...</td>\n",
       "      <td>15.479313</td>\n",
       "      <td>11.280631</td>\n",
       "      <td>19.456346</td>\n",
       "      <td>21.172586</td>\n",
       "      <td>20.726546</td>\n",
       "      <td>18.085618</td>\n",
       "      <td>17.349624</td>\n",
       "      <td>16.971411</td>\n",
       "      <td>17.369297</td>\n",
       "      <td>18.335817</td>\n",
       "    </tr>\n",
       "    <tr>\n",
       "      <th>min</th>\n",
       "      <td>0.000000</td>\n",
       "      <td>16.000000</td>\n",
       "      <td>0.000000e+00</td>\n",
       "      <td>1000.000000</td>\n",
       "      <td>5.000000</td>\n",
       "      <td>2.000000</td>\n",
       "      <td>4.000000</td>\n",
       "      <td>7.000000</td>\n",
       "      <td>4.000000</td>\n",
       "      <td>4.000000</td>\n",
       "      <td>...</td>\n",
       "      <td>5.000000</td>\n",
       "      <td>12.000000</td>\n",
       "      <td>3.000000</td>\n",
       "      <td>2.000000</td>\n",
       "      <td>3.000000</td>\n",
       "      <td>1.000000</td>\n",
       "      <td>1.000000</td>\n",
       "      <td>1.000000</td>\n",
       "      <td>1.000000</td>\n",
       "      <td>1.000000</td>\n",
       "    </tr>\n",
       "    <tr>\n",
       "      <th>25%</th>\n",
       "      <td>3357.000000</td>\n",
       "      <td>21.000000</td>\n",
       "      <td>2.500000e+05</td>\n",
       "      <td>1000.000000</td>\n",
       "      <td>35.000000</td>\n",
       "      <td>28.000000</td>\n",
       "      <td>43.000000</td>\n",
       "      <td>50.000000</td>\n",
       "      <td>28.000000</td>\n",
       "      <td>45.000000</td>\n",
       "      <td>...</td>\n",
       "      <td>37.000000</td>\n",
       "      <td>49.000000</td>\n",
       "      <td>29.000000</td>\n",
       "      <td>25.000000</td>\n",
       "      <td>23.000000</td>\n",
       "      <td>8.000000</td>\n",
       "      <td>8.000000</td>\n",
       "      <td>8.000000</td>\n",
       "      <td>8.000000</td>\n",
       "      <td>8.000000</td>\n",
       "    </tr>\n",
       "    <tr>\n",
       "      <th>50%</th>\n",
       "      <td>6622.000000</td>\n",
       "      <td>24.000000</td>\n",
       "      <td>5.000000e+05</td>\n",
       "      <td>2000.000000</td>\n",
       "      <td>51.000000</td>\n",
       "      <td>45.000000</td>\n",
       "      <td>54.000000</td>\n",
       "      <td>60.000000</td>\n",
       "      <td>41.000000</td>\n",
       "      <td>58.000000</td>\n",
       "      <td>...</td>\n",
       "      <td>47.000000</td>\n",
       "      <td>56.000000</td>\n",
       "      <td>51.000000</td>\n",
       "      <td>54.000000</td>\n",
       "      <td>51.000000</td>\n",
       "      <td>11.000000</td>\n",
       "      <td>11.000000</td>\n",
       "      <td>11.000000</td>\n",
       "      <td>11.000000</td>\n",
       "      <td>11.000000</td>\n",
       "    </tr>\n",
       "    <tr>\n",
       "      <th>75%</th>\n",
       "      <td>9876.000000</td>\n",
       "      <td>28.000000</td>\n",
       "      <td>8.500000e+05</td>\n",
       "      <td>4000.000000</td>\n",
       "      <td>61.000000</td>\n",
       "      <td>59.000000</td>\n",
       "      <td>62.000000</td>\n",
       "      <td>65.000000</td>\n",
       "      <td>53.000000</td>\n",
       "      <td>65.000000</td>\n",
       "      <td>...</td>\n",
       "      <td>58.000000</td>\n",
       "      <td>63.000000</td>\n",
       "      <td>62.000000</td>\n",
       "      <td>64.000000</td>\n",
       "      <td>62.000000</td>\n",
       "      <td>14.000000</td>\n",
       "      <td>14.000000</td>\n",
       "      <td>14.000000</td>\n",
       "      <td>14.000000</td>\n",
       "      <td>14.000000</td>\n",
       "    </tr>\n",
       "    <tr>\n",
       "      <th>max</th>\n",
       "      <td>13125.000000</td>\n",
       "      <td>45.000000</td>\n",
       "      <td>1.185000e+08</td>\n",
       "      <td>565000.000000</td>\n",
       "      <td>93.000000</td>\n",
       "      <td>95.000000</td>\n",
       "      <td>94.000000</td>\n",
       "      <td>93.000000</td>\n",
       "      <td>90.000000</td>\n",
       "      <td>97.000000</td>\n",
       "      <td>...</td>\n",
       "      <td>91.000000</td>\n",
       "      <td>96.000000</td>\n",
       "      <td>93.000000</td>\n",
       "      <td>93.000000</td>\n",
       "      <td>91.000000</td>\n",
       "      <td>90.000000</td>\n",
       "      <td>92.000000</td>\n",
       "      <td>91.000000</td>\n",
       "      <td>90.000000</td>\n",
       "      <td>94.000000</td>\n",
       "    </tr>\n",
       "  </tbody>\n",
       "</table>\n",
       "<p>8 rows × 38 columns</p>\n",
       "</div>"
      ],
      "text/plain": [
       "         Unnamed: 0           Age         Value           Wage      Crossing  \\\n",
       "count  12897.000000  12897.000000  1.289700e+04   12897.000000  12897.000000   \n",
       "mean    6605.040862     24.795379  2.112449e+06    7517.562224     47.076374   \n",
       "std     3782.545526      4.872212  6.498424e+06   23061.985387     18.043470   \n",
       "min        0.000000     16.000000  0.000000e+00    1000.000000      5.000000   \n",
       "25%     3357.000000     21.000000  2.500000e+05    1000.000000     35.000000   \n",
       "50%     6622.000000     24.000000  5.000000e+05    2000.000000     51.000000   \n",
       "75%     9876.000000     28.000000  8.500000e+05    4000.000000     61.000000   \n",
       "max    13125.000000     45.000000  1.185000e+08  565000.000000     93.000000   \n",
       "\n",
       "          Finishing  HeadingAccuracy  ShortPassing       Volleys  \\\n",
       "count  12897.000000     12897.000000  12897.000000  12897.000000   \n",
       "mean      42.876328        50.202528     56.026983     40.295030   \n",
       "std       19.096935        17.281593     14.740436     17.080687   \n",
       "min        2.000000         4.000000      7.000000      4.000000   \n",
       "25%       28.000000        43.000000     50.000000     28.000000   \n",
       "50%       45.000000        54.000000     60.000000     41.000000   \n",
       "75%       59.000000        62.000000     65.000000     53.000000   \n",
       "max       95.000000        94.000000     93.000000     90.000000   \n",
       "\n",
       "          Dribbling  ...     Penalties     Composure       Marking  \\\n",
       "count  12897.000000  ...  12897.000000  12897.000000  12897.000000   \n",
       "mean      52.461735  ...     46.459874     55.942932     45.655811   \n",
       "std       18.871643  ...     15.479313     11.280631     19.456346   \n",
       "min        4.000000  ...      5.000000     12.000000      3.000000   \n",
       "25%       45.000000  ...     37.000000     49.000000     29.000000   \n",
       "50%       58.000000  ...     47.000000     56.000000     51.000000   \n",
       "75%       65.000000  ...     58.000000     63.000000     62.000000   \n",
       "max       97.000000  ...     91.000000     96.000000     93.000000   \n",
       "\n",
       "       StandingTackle  SlidingTackle      GKDiving    GKHandling  \\\n",
       "count    12897.000000   12897.000000  12897.000000  12897.000000   \n",
       "mean        46.186710      44.386679     17.218345     16.962317   \n",
       "std         21.172586      20.726546     18.085618     17.349624   \n",
       "min          2.000000       3.000000      1.000000      1.000000   \n",
       "25%         25.000000      23.000000      8.000000      8.000000   \n",
       "50%         54.000000      51.000000     11.000000     11.000000   \n",
       "75%         64.000000      62.000000     14.000000     14.000000   \n",
       "max         93.000000      91.000000     90.000000     92.000000   \n",
       "\n",
       "          GKKicking  GKPositioning    GKReflexes  \n",
       "count  12897.000000   12897.000000  12897.000000  \n",
       "mean      16.797938      16.950221     17.315965  \n",
       "std       16.971411      17.369297     18.335817  \n",
       "min        1.000000       1.000000      1.000000  \n",
       "25%        8.000000       8.000000      8.000000  \n",
       "50%       11.000000      11.000000     11.000000  \n",
       "75%       14.000000      14.000000     14.000000  \n",
       "max       91.000000      90.000000     94.000000  \n",
       "\n",
       "[8 rows x 38 columns]"
      ]
     },
     "execution_count": 8,
     "metadata": {},
     "output_type": "execute_result"
    }
   ],
   "source": [
    "football.describe()"
   ]
  },
  {
   "cell_type": "code",
   "execution_count": 9,
   "metadata": {},
   "outputs": [
    {
     "data": {
      "text/plain": [
       "count    12897.000000\n",
       "mean        24.795379\n",
       "std          4.872212\n",
       "min         16.000000\n",
       "25%         21.000000\n",
       "50%         24.000000\n",
       "75%         28.000000\n",
       "max         45.000000\n",
       "Name: Age, dtype: float64"
      ]
     },
     "execution_count": 9,
     "metadata": {},
     "output_type": "execute_result"
    }
   ],
   "source": [
    "football.describe()['Age'] # Хотим выделить контректный столбец"
   ]
  },
  {
   "cell_type": "markdown",
   "metadata": {},
   "source": [
    "football.describe()['Age']['mean'] # берем конкретное значение"
   ]
  },
  {
   "cell_type": "markdown",
   "metadata": {},
   "source": [
    "#### Что делать если данные не числовые ? параметр  .describe(include = ['object'])\n",
    "\n"
   ]
  },
  {
   "cell_type": "code",
   "execution_count": 11,
   "metadata": {},
   "outputs": [
    {
     "data": {
      "text/html": [
       "<div>\n",
       "<style scoped>\n",
       "    .dataframe tbody tr th:only-of-type {\n",
       "        vertical-align: middle;\n",
       "    }\n",
       "\n",
       "    .dataframe tbody tr th {\n",
       "        vertical-align: top;\n",
       "    }\n",
       "\n",
       "    .dataframe thead th {\n",
       "        text-align: right;\n",
       "    }\n",
       "</style>\n",
       "<table border=\"1\" class=\"dataframe\">\n",
       "  <thead>\n",
       "    <tr style=\"text-align: right;\">\n",
       "      <th></th>\n",
       "      <th>Name</th>\n",
       "      <th>Nationality</th>\n",
       "      <th>Club</th>\n",
       "      <th>Position</th>\n",
       "    </tr>\n",
       "  </thead>\n",
       "  <tbody>\n",
       "    <tr>\n",
       "      <th>count</th>\n",
       "      <td>12897</td>\n",
       "      <td>12897</td>\n",
       "      <td>12897</td>\n",
       "      <td>12897</td>\n",
       "    </tr>\n",
       "    <tr>\n",
       "      <th>unique</th>\n",
       "      <td>12326</td>\n",
       "      <td>156</td>\n",
       "      <td>650</td>\n",
       "      <td>27</td>\n",
       "    </tr>\n",
       "    <tr>\n",
       "      <th>top</th>\n",
       "      <td>J. Rodríguez</td>\n",
       "      <td>England</td>\n",
       "      <td>Shonan Bellmare</td>\n",
       "      <td>GK</td>\n",
       "    </tr>\n",
       "    <tr>\n",
       "      <th>freq</th>\n",
       "      <td>9</td>\n",
       "      <td>1368</td>\n",
       "      <td>30</td>\n",
       "      <td>1641</td>\n",
       "    </tr>\n",
       "  </tbody>\n",
       "</table>\n",
       "</div>"
      ],
      "text/plain": [
       "                Name Nationality             Club Position\n",
       "count          12897       12897            12897    12897\n",
       "unique         12326         156              650       27\n",
       "top     J. Rodríguez     England  Shonan Bellmare       GK\n",
       "freq               9        1368               30     1641"
      ]
     },
     "execution_count": 11,
     "metadata": {},
     "output_type": "execute_result"
    }
   ],
   "source": [
    "football.describe(include = ['object'])"
   ]
  },
  {
   "cell_type": "markdown",
   "metadata": {},
   "source": [
    "Здесь для каждой колонки с типом object (строчные данные) выводится количество непустых строк, уникальных значений, самое частое значение (top) и частота этого значения (freq). "
   ]
  },
  {
   "cell_type": "markdown",
   "metadata": {},
   "source": [
    "# Примеры"
   ]
  },
  {
   "cell_type": "markdown",
   "metadata": {},
   "source": [
    "1. Каково среднее значение возраста футболистов в наборе данных (округлите до целого)?"
   ]
  },
  {
   "cell_type": "code",
   "execution_count": 19,
   "metadata": {},
   "outputs": [
    {
     "name": "stdout",
     "output_type": "stream",
     "text": [
      "25\n"
     ]
    }
   ],
   "source": [
    "import math \n",
    "aver_age = math.ceil(football.describe()['Age'] ['mean'])\n",
    "print(aver_age)"
   ]
  },
  {
   "cell_type": "markdown",
   "metadata": {},
   "source": [
    "2. Какое значение у первого (25%) квартиля параметра ShortPassing?"
   ]
  },
  {
   "cell_type": "code",
   "execution_count": 20,
   "metadata": {},
   "outputs": [
    {
     "name": "stdout",
     "output_type": "stream",
     "text": [
      "50.0\n"
     ]
    }
   ],
   "source": [
    "val_q1 = football.describe()['ShortPassing'] ['25%']\n",
    "print(val_q1)"
   ]
  },
  {
   "cell_type": "markdown",
   "metadata": {},
   "source": [
    "3. Какова самая частая национальность (Nationality) футболистов?"
   ]
  },
  {
   "cell_type": "code",
   "execution_count": 23,
   "metadata": {},
   "outputs": [
    {
     "name": "stdout",
     "output_type": "stream",
     "text": [
      "England\n"
     ]
    }
   ],
   "source": [
    "top_national = football.describe(include = ['object'])['Nationality']['top']\n",
    "print(top_national)"
   ]
  },
  {
   "cell_type": "markdown",
   "metadata": {},
   "source": [
    "4. Сколько разных клубов в наборе данных о футболистах?"
   ]
  },
  {
   "cell_type": "code",
   "execution_count": 26,
   "metadata": {},
   "outputs": [
    {
     "name": "stdout",
     "output_type": "stream",
     "text": [
      "650\n"
     ]
    }
   ],
   "source": [
    "unique_club = football.describe(include = ['object'])['Club']['unique']\n",
    "print(unique_club)"
   ]
  },
  {
   "cell_type": "markdown",
   "metadata": {},
   "source": [
    "# Извлекаем данные по условиям"
   ]
  },
  {
   "cell_type": "markdown",
   "metadata": {},
   "source": [
    "Хотим выбрать только тех, у кого возраст больше 20 лет"
   ]
  },
  {
   "cell_type": "code",
   "execution_count": 27,
   "metadata": {},
   "outputs": [
    {
     "data": {
      "text/html": [
       "<div>\n",
       "<style scoped>\n",
       "    .dataframe tbody tr th:only-of-type {\n",
       "        vertical-align: middle;\n",
       "    }\n",
       "\n",
       "    .dataframe tbody tr th {\n",
       "        vertical-align: top;\n",
       "    }\n",
       "\n",
       "    .dataframe thead th {\n",
       "        text-align: right;\n",
       "    }\n",
       "</style>\n",
       "<table border=\"1\" class=\"dataframe\">\n",
       "  <thead>\n",
       "    <tr style=\"text-align: right;\">\n",
       "      <th></th>\n",
       "      <th>Unnamed: 0</th>\n",
       "      <th>Name</th>\n",
       "      <th>Age</th>\n",
       "      <th>Nationality</th>\n",
       "      <th>Club</th>\n",
       "      <th>Value</th>\n",
       "      <th>Wage</th>\n",
       "      <th>Position</th>\n",
       "      <th>Crossing</th>\n",
       "      <th>Finishing</th>\n",
       "      <th>...</th>\n",
       "      <th>Penalties</th>\n",
       "      <th>Composure</th>\n",
       "      <th>Marking</th>\n",
       "      <th>StandingTackle</th>\n",
       "      <th>SlidingTackle</th>\n",
       "      <th>GKDiving</th>\n",
       "      <th>GKHandling</th>\n",
       "      <th>GKKicking</th>\n",
       "      <th>GKPositioning</th>\n",
       "      <th>GKReflexes</th>\n",
       "    </tr>\n",
       "  </thead>\n",
       "  <tbody>\n",
       "    <tr>\n",
       "      <th>0</th>\n",
       "      <td>0</td>\n",
       "      <td>L. Messi</td>\n",
       "      <td>31</td>\n",
       "      <td>Argentina</td>\n",
       "      <td>FC Barcelona</td>\n",
       "      <td>110500000</td>\n",
       "      <td>565000</td>\n",
       "      <td>RF</td>\n",
       "      <td>84</td>\n",
       "      <td>95</td>\n",
       "      <td>...</td>\n",
       "      <td>75</td>\n",
       "      <td>96</td>\n",
       "      <td>33</td>\n",
       "      <td>28</td>\n",
       "      <td>26</td>\n",
       "      <td>6</td>\n",
       "      <td>11</td>\n",
       "      <td>15</td>\n",
       "      <td>14</td>\n",
       "      <td>8</td>\n",
       "    </tr>\n",
       "    <tr>\n",
       "      <th>1</th>\n",
       "      <td>1</td>\n",
       "      <td>Cristiano Ronaldo</td>\n",
       "      <td>33</td>\n",
       "      <td>Portugal</td>\n",
       "      <td>Juventus</td>\n",
       "      <td>77000000</td>\n",
       "      <td>405000</td>\n",
       "      <td>ST</td>\n",
       "      <td>84</td>\n",
       "      <td>94</td>\n",
       "      <td>...</td>\n",
       "      <td>85</td>\n",
       "      <td>95</td>\n",
       "      <td>28</td>\n",
       "      <td>31</td>\n",
       "      <td>23</td>\n",
       "      <td>7</td>\n",
       "      <td>11</td>\n",
       "      <td>15</td>\n",
       "      <td>14</td>\n",
       "      <td>11</td>\n",
       "    </tr>\n",
       "    <tr>\n",
       "      <th>2</th>\n",
       "      <td>2</td>\n",
       "      <td>Neymar Jr</td>\n",
       "      <td>26</td>\n",
       "      <td>Brazil</td>\n",
       "      <td>Paris Saint-Germain</td>\n",
       "      <td>118500000</td>\n",
       "      <td>290000</td>\n",
       "      <td>LW</td>\n",
       "      <td>79</td>\n",
       "      <td>87</td>\n",
       "      <td>...</td>\n",
       "      <td>81</td>\n",
       "      <td>94</td>\n",
       "      <td>27</td>\n",
       "      <td>24</td>\n",
       "      <td>33</td>\n",
       "      <td>9</td>\n",
       "      <td>9</td>\n",
       "      <td>15</td>\n",
       "      <td>15</td>\n",
       "      <td>11</td>\n",
       "    </tr>\n",
       "    <tr>\n",
       "      <th>3</th>\n",
       "      <td>3</td>\n",
       "      <td>De Gea</td>\n",
       "      <td>27</td>\n",
       "      <td>Spain</td>\n",
       "      <td>Manchester United</td>\n",
       "      <td>72000000</td>\n",
       "      <td>260000</td>\n",
       "      <td>GK</td>\n",
       "      <td>17</td>\n",
       "      <td>13</td>\n",
       "      <td>...</td>\n",
       "      <td>40</td>\n",
       "      <td>68</td>\n",
       "      <td>15</td>\n",
       "      <td>21</td>\n",
       "      <td>13</td>\n",
       "      <td>90</td>\n",
       "      <td>85</td>\n",
       "      <td>87</td>\n",
       "      <td>88</td>\n",
       "      <td>94</td>\n",
       "    </tr>\n",
       "    <tr>\n",
       "      <th>4</th>\n",
       "      <td>4</td>\n",
       "      <td>K. De Bruyne</td>\n",
       "      <td>27</td>\n",
       "      <td>Belgium</td>\n",
       "      <td>Manchester City</td>\n",
       "      <td>102000000</td>\n",
       "      <td>355000</td>\n",
       "      <td>RCM</td>\n",
       "      <td>93</td>\n",
       "      <td>82</td>\n",
       "      <td>...</td>\n",
       "      <td>79</td>\n",
       "      <td>88</td>\n",
       "      <td>68</td>\n",
       "      <td>58</td>\n",
       "      <td>51</td>\n",
       "      <td>15</td>\n",
       "      <td>13</td>\n",
       "      <td>5</td>\n",
       "      <td>10</td>\n",
       "      <td>13</td>\n",
       "    </tr>\n",
       "    <tr>\n",
       "      <th>...</th>\n",
       "      <td>...</td>\n",
       "      <td>...</td>\n",
       "      <td>...</td>\n",
       "      <td>...</td>\n",
       "      <td>...</td>\n",
       "      <td>...</td>\n",
       "      <td>...</td>\n",
       "      <td>...</td>\n",
       "      <td>...</td>\n",
       "      <td>...</td>\n",
       "      <td>...</td>\n",
       "      <td>...</td>\n",
       "      <td>...</td>\n",
       "      <td>...</td>\n",
       "      <td>...</td>\n",
       "      <td>...</td>\n",
       "      <td>...</td>\n",
       "      <td>...</td>\n",
       "      <td>...</td>\n",
       "      <td>...</td>\n",
       "      <td>...</td>\n",
       "    </tr>\n",
       "    <tr>\n",
       "      <th>12838</th>\n",
       "      <td>13067</td>\n",
       "      <td>D. Mackay</td>\n",
       "      <td>21</td>\n",
       "      <td>Scotland</td>\n",
       "      <td>Kilmarnock</td>\n",
       "      <td>30000</td>\n",
       "      <td>1000</td>\n",
       "      <td>GK</td>\n",
       "      <td>14</td>\n",
       "      <td>20</td>\n",
       "      <td>...</td>\n",
       "      <td>24</td>\n",
       "      <td>30</td>\n",
       "      <td>12</td>\n",
       "      <td>18</td>\n",
       "      <td>18</td>\n",
       "      <td>48</td>\n",
       "      <td>50</td>\n",
       "      <td>47</td>\n",
       "      <td>48</td>\n",
       "      <td>48</td>\n",
       "    </tr>\n",
       "    <tr>\n",
       "      <th>12857</th>\n",
       "      <td>13086</td>\n",
       "      <td>Wu Lei</td>\n",
       "      <td>21</td>\n",
       "      <td>China PR</td>\n",
       "      <td>Tianjin Quanjian FC</td>\n",
       "      <td>9000000</td>\n",
       "      <td>2000</td>\n",
       "      <td>LDM</td>\n",
       "      <td>52</td>\n",
       "      <td>29</td>\n",
       "      <td>...</td>\n",
       "      <td>46</td>\n",
       "      <td>39</td>\n",
       "      <td>52</td>\n",
       "      <td>40</td>\n",
       "      <td>49</td>\n",
       "      <td>8</td>\n",
       "      <td>15</td>\n",
       "      <td>11</td>\n",
       "      <td>8</td>\n",
       "      <td>5</td>\n",
       "    </tr>\n",
       "    <tr>\n",
       "      <th>12861</th>\n",
       "      <td>13090</td>\n",
       "      <td>Y. Uchimura</td>\n",
       "      <td>33</td>\n",
       "      <td>Japan</td>\n",
       "      <td>Hokkaido Consadole Sapporo</td>\n",
       "      <td>20000</td>\n",
       "      <td>1000</td>\n",
       "      <td>CAM</td>\n",
       "      <td>51</td>\n",
       "      <td>31</td>\n",
       "      <td>...</td>\n",
       "      <td>33</td>\n",
       "      <td>62</td>\n",
       "      <td>45</td>\n",
       "      <td>48</td>\n",
       "      <td>42</td>\n",
       "      <td>13</td>\n",
       "      <td>15</td>\n",
       "      <td>7</td>\n",
       "      <td>15</td>\n",
       "      <td>15</td>\n",
       "    </tr>\n",
       "    <tr>\n",
       "      <th>12870</th>\n",
       "      <td>13099</td>\n",
       "      <td>M. Hurst</td>\n",
       "      <td>22</td>\n",
       "      <td>Scotland</td>\n",
       "      <td>St. Johnstone FC</td>\n",
       "      <td>40000</td>\n",
       "      <td>1000</td>\n",
       "      <td>GK</td>\n",
       "      <td>19</td>\n",
       "      <td>15</td>\n",
       "      <td>...</td>\n",
       "      <td>29</td>\n",
       "      <td>28</td>\n",
       "      <td>12</td>\n",
       "      <td>15</td>\n",
       "      <td>16</td>\n",
       "      <td>45</td>\n",
       "      <td>49</td>\n",
       "      <td>50</td>\n",
       "      <td>50</td>\n",
       "      <td>45</td>\n",
       "    </tr>\n",
       "    <tr>\n",
       "      <th>12873</th>\n",
       "      <td>13102</td>\n",
       "      <td>K. Pilkington</td>\n",
       "      <td>44</td>\n",
       "      <td>England</td>\n",
       "      <td>Cambridge United</td>\n",
       "      <td>0</td>\n",
       "      <td>1000</td>\n",
       "      <td>GK</td>\n",
       "      <td>11</td>\n",
       "      <td>12</td>\n",
       "      <td>...</td>\n",
       "      <td>22</td>\n",
       "      <td>56</td>\n",
       "      <td>15</td>\n",
       "      <td>15</td>\n",
       "      <td>13</td>\n",
       "      <td>45</td>\n",
       "      <td>48</td>\n",
       "      <td>44</td>\n",
       "      <td>49</td>\n",
       "      <td>46</td>\n",
       "    </tr>\n",
       "  </tbody>\n",
       "</table>\n",
       "<p>10025 rows × 42 columns</p>\n",
       "</div>"
      ],
      "text/plain": [
       "       Unnamed: 0               Name  Age Nationality  \\\n",
       "0               0           L. Messi   31   Argentina   \n",
       "1               1  Cristiano Ronaldo   33    Portugal   \n",
       "2               2          Neymar Jr   26      Brazil   \n",
       "3               3             De Gea   27       Spain   \n",
       "4               4       K. De Bruyne   27     Belgium   \n",
       "...           ...                ...  ...         ...   \n",
       "12838       13067          D. Mackay   21    Scotland   \n",
       "12857       13086             Wu Lei   21    China PR   \n",
       "12861       13090        Y. Uchimura   33       Japan   \n",
       "12870       13099           M. Hurst   22    Scotland   \n",
       "12873       13102      K. Pilkington   44     England   \n",
       "\n",
       "                             Club      Value    Wage Position  Crossing  \\\n",
       "0                    FC Barcelona  110500000  565000       RF        84   \n",
       "1                        Juventus   77000000  405000       ST        84   \n",
       "2             Paris Saint-Germain  118500000  290000       LW        79   \n",
       "3               Manchester United   72000000  260000       GK        17   \n",
       "4                 Manchester City  102000000  355000      RCM        93   \n",
       "...                           ...        ...     ...      ...       ...   \n",
       "12838                  Kilmarnock      30000    1000       GK        14   \n",
       "12857         Tianjin Quanjian FC    9000000    2000      LDM        52   \n",
       "12861  Hokkaido Consadole Sapporo      20000    1000      CAM        51   \n",
       "12870            St. Johnstone FC      40000    1000       GK        19   \n",
       "12873            Cambridge United          0    1000       GK        11   \n",
       "\n",
       "       Finishing  ...  Penalties  Composure  Marking  StandingTackle  \\\n",
       "0             95  ...         75         96       33              28   \n",
       "1             94  ...         85         95       28              31   \n",
       "2             87  ...         81         94       27              24   \n",
       "3             13  ...         40         68       15              21   \n",
       "4             82  ...         79         88       68              58   \n",
       "...          ...  ...        ...        ...      ...             ...   \n",
       "12838         20  ...         24         30       12              18   \n",
       "12857         29  ...         46         39       52              40   \n",
       "12861         31  ...         33         62       45              48   \n",
       "12870         15  ...         29         28       12              15   \n",
       "12873         12  ...         22         56       15              15   \n",
       "\n",
       "       SlidingTackle  GKDiving  GKHandling  GKKicking  GKPositioning  \\\n",
       "0                 26         6          11         15             14   \n",
       "1                 23         7          11         15             14   \n",
       "2                 33         9           9         15             15   \n",
       "3                 13        90          85         87             88   \n",
       "4                 51        15          13          5             10   \n",
       "...              ...       ...         ...        ...            ...   \n",
       "12838             18        48          50         47             48   \n",
       "12857             49         8          15         11              8   \n",
       "12861             42        13          15          7             15   \n",
       "12870             16        45          49         50             50   \n",
       "12873             13        45          48         44             49   \n",
       "\n",
       "       GKReflexes  \n",
       "0               8  \n",
       "1              11  \n",
       "2              11  \n",
       "3              94  \n",
       "4              13  \n",
       "...           ...  \n",
       "12838          48  \n",
       "12857           5  \n",
       "12861          15  \n",
       "12870          45  \n",
       "12873          46  \n",
       "\n",
       "[10025 rows x 42 columns]"
      ]
     },
     "execution_count": 27,
     "metadata": {},
     "output_type": "execute_result"
    }
   ],
   "source": [
    "football[football.Age > 20]"
   ]
  },
  {
   "cell_type": "markdown",
   "metadata": {},
   "source": [
    "Возраст больше 20 и все из Японии"
   ]
  },
  {
   "cell_type": "code",
   "execution_count": 29,
   "metadata": {},
   "outputs": [
    {
     "data": {
      "text/html": [
       "<div>\n",
       "<style scoped>\n",
       "    .dataframe tbody tr th:only-of-type {\n",
       "        vertical-align: middle;\n",
       "    }\n",
       "\n",
       "    .dataframe tbody tr th {\n",
       "        vertical-align: top;\n",
       "    }\n",
       "\n",
       "    .dataframe thead th {\n",
       "        text-align: right;\n",
       "    }\n",
       "</style>\n",
       "<table border=\"1\" class=\"dataframe\">\n",
       "  <thead>\n",
       "    <tr style=\"text-align: right;\">\n",
       "      <th></th>\n",
       "      <th>Unnamed: 0</th>\n",
       "      <th>Name</th>\n",
       "      <th>Age</th>\n",
       "      <th>Nationality</th>\n",
       "      <th>Club</th>\n",
       "      <th>Value</th>\n",
       "      <th>Wage</th>\n",
       "      <th>Position</th>\n",
       "      <th>Crossing</th>\n",
       "      <th>Finishing</th>\n",
       "      <th>...</th>\n",
       "      <th>Penalties</th>\n",
       "      <th>Composure</th>\n",
       "      <th>Marking</th>\n",
       "      <th>StandingTackle</th>\n",
       "      <th>SlidingTackle</th>\n",
       "      <th>GKDiving</th>\n",
       "      <th>GKHandling</th>\n",
       "      <th>GKKicking</th>\n",
       "      <th>GKPositioning</th>\n",
       "      <th>GKReflexes</th>\n",
       "    </tr>\n",
       "  </thead>\n",
       "  <tbody>\n",
       "    <tr>\n",
       "      <th>305</th>\n",
       "      <td>306</td>\n",
       "      <td>T. Inui</td>\n",
       "      <td>30</td>\n",
       "      <td>Japan</td>\n",
       "      <td>Real Betis</td>\n",
       "      <td>14000000</td>\n",
       "      <td>30000</td>\n",
       "      <td>LM</td>\n",
       "      <td>77</td>\n",
       "      <td>70</td>\n",
       "      <td>...</td>\n",
       "      <td>51</td>\n",
       "      <td>76</td>\n",
       "      <td>65</td>\n",
       "      <td>39</td>\n",
       "      <td>31</td>\n",
       "      <td>11</td>\n",
       "      <td>12</td>\n",
       "      <td>11</td>\n",
       "      <td>15</td>\n",
       "      <td>8</td>\n",
       "    </tr>\n",
       "    <tr>\n",
       "      <th>450</th>\n",
       "      <td>454</td>\n",
       "      <td>S. Nakajima</td>\n",
       "      <td>23</td>\n",
       "      <td>Japan</td>\n",
       "      <td>Portimonense SC</td>\n",
       "      <td>14000000</td>\n",
       "      <td>12000</td>\n",
       "      <td>LW</td>\n",
       "      <td>66</td>\n",
       "      <td>73</td>\n",
       "      <td>...</td>\n",
       "      <td>64</td>\n",
       "      <td>81</td>\n",
       "      <td>28</td>\n",
       "      <td>41</td>\n",
       "      <td>36</td>\n",
       "      <td>7</td>\n",
       "      <td>10</td>\n",
       "      <td>10</td>\n",
       "      <td>8</td>\n",
       "      <td>6</td>\n",
       "    </tr>\n",
       "    <tr>\n",
       "      <th>490</th>\n",
       "      <td>494</td>\n",
       "      <td>H. Sakai</td>\n",
       "      <td>28</td>\n",
       "      <td>Japan</td>\n",
       "      <td>Olympique de Marseille</td>\n",
       "      <td>8000000</td>\n",
       "      <td>44000</td>\n",
       "      <td>RB</td>\n",
       "      <td>74</td>\n",
       "      <td>33</td>\n",
       "      <td>...</td>\n",
       "      <td>36</td>\n",
       "      <td>68</td>\n",
       "      <td>77</td>\n",
       "      <td>77</td>\n",
       "      <td>80</td>\n",
       "      <td>13</td>\n",
       "      <td>8</td>\n",
       "      <td>11</td>\n",
       "      <td>10</td>\n",
       "      <td>9</td>\n",
       "    </tr>\n",
       "    <tr>\n",
       "      <th>527</th>\n",
       "      <td>531</td>\n",
       "      <td>K. Honda</td>\n",
       "      <td>32</td>\n",
       "      <td>Japan</td>\n",
       "      <td>Melbourne Victory</td>\n",
       "      <td>8000000</td>\n",
       "      <td>12000</td>\n",
       "      <td>RM</td>\n",
       "      <td>75</td>\n",
       "      <td>65</td>\n",
       "      <td>...</td>\n",
       "      <td>76</td>\n",
       "      <td>80</td>\n",
       "      <td>59</td>\n",
       "      <td>48</td>\n",
       "      <td>48</td>\n",
       "      <td>3</td>\n",
       "      <td>3</td>\n",
       "      <td>5</td>\n",
       "      <td>5</td>\n",
       "      <td>3</td>\n",
       "    </tr>\n",
       "    <tr>\n",
       "      <th>635</th>\n",
       "      <td>643</td>\n",
       "      <td>G. Shibasaki</td>\n",
       "      <td>26</td>\n",
       "      <td>Japan</td>\n",
       "      <td>Getafe CF</td>\n",
       "      <td>11000000</td>\n",
       "      <td>24000</td>\n",
       "      <td>LM</td>\n",
       "      <td>68</td>\n",
       "      <td>70</td>\n",
       "      <td>...</td>\n",
       "      <td>71</td>\n",
       "      <td>75</td>\n",
       "      <td>61</td>\n",
       "      <td>73</td>\n",
       "      <td>72</td>\n",
       "      <td>10</td>\n",
       "      <td>13</td>\n",
       "      <td>13</td>\n",
       "      <td>9</td>\n",
       "      <td>6</td>\n",
       "    </tr>\n",
       "    <tr>\n",
       "      <th>...</th>\n",
       "      <td>...</td>\n",
       "      <td>...</td>\n",
       "      <td>...</td>\n",
       "      <td>...</td>\n",
       "      <td>...</td>\n",
       "      <td>...</td>\n",
       "      <td>...</td>\n",
       "      <td>...</td>\n",
       "      <td>...</td>\n",
       "      <td>...</td>\n",
       "      <td>...</td>\n",
       "      <td>...</td>\n",
       "      <td>...</td>\n",
       "      <td>...</td>\n",
       "      <td>...</td>\n",
       "      <td>...</td>\n",
       "      <td>...</td>\n",
       "      <td>...</td>\n",
       "      <td>...</td>\n",
       "      <td>...</td>\n",
       "      <td>...</td>\n",
       "    </tr>\n",
       "    <tr>\n",
       "      <th>12577</th>\n",
       "      <td>12806</td>\n",
       "      <td>T. Nagaishi</td>\n",
       "      <td>22</td>\n",
       "      <td>Japan</td>\n",
       "      <td>Cerezo Osaka</td>\n",
       "      <td>60000</td>\n",
       "      <td>1000</td>\n",
       "      <td>GK</td>\n",
       "      <td>12</td>\n",
       "      <td>7</td>\n",
       "      <td>...</td>\n",
       "      <td>10</td>\n",
       "      <td>33</td>\n",
       "      <td>17</td>\n",
       "      <td>12</td>\n",
       "      <td>12</td>\n",
       "      <td>56</td>\n",
       "      <td>46</td>\n",
       "      <td>44</td>\n",
       "      <td>51</td>\n",
       "      <td>53</td>\n",
       "    </tr>\n",
       "    <tr>\n",
       "      <th>12623</th>\n",
       "      <td>12852</td>\n",
       "      <td>T. Nakagawa</td>\n",
       "      <td>25</td>\n",
       "      <td>Japan</td>\n",
       "      <td>Yokohama F. Marinos</td>\n",
       "      <td>40000</td>\n",
       "      <td>1000</td>\n",
       "      <td>RW</td>\n",
       "      <td>40</td>\n",
       "      <td>61</td>\n",
       "      <td>...</td>\n",
       "      <td>64</td>\n",
       "      <td>52</td>\n",
       "      <td>34</td>\n",
       "      <td>10</td>\n",
       "      <td>11</td>\n",
       "      <td>10</td>\n",
       "      <td>11</td>\n",
       "      <td>11</td>\n",
       "      <td>13</td>\n",
       "      <td>9</td>\n",
       "    </tr>\n",
       "    <tr>\n",
       "      <th>12737</th>\n",
       "      <td>12966</td>\n",
       "      <td>A. Suzuki</td>\n",
       "      <td>31</td>\n",
       "      <td>Japan</td>\n",
       "      <td>Yokohama F. Marinos</td>\n",
       "      <td>20000</td>\n",
       "      <td>1000</td>\n",
       "      <td>GK</td>\n",
       "      <td>11</td>\n",
       "      <td>9</td>\n",
       "      <td>...</td>\n",
       "      <td>18</td>\n",
       "      <td>31</td>\n",
       "      <td>13</td>\n",
       "      <td>10</td>\n",
       "      <td>14</td>\n",
       "      <td>49</td>\n",
       "      <td>48</td>\n",
       "      <td>54</td>\n",
       "      <td>52</td>\n",
       "      <td>54</td>\n",
       "    </tr>\n",
       "    <tr>\n",
       "      <th>12780</th>\n",
       "      <td>13009</td>\n",
       "      <td>M. Ichimaru</td>\n",
       "      <td>21</td>\n",
       "      <td>Japan</td>\n",
       "      <td>Gamba Osaka</td>\n",
       "      <td>60000</td>\n",
       "      <td>1000</td>\n",
       "      <td>CDM</td>\n",
       "      <td>39</td>\n",
       "      <td>27</td>\n",
       "      <td>...</td>\n",
       "      <td>37</td>\n",
       "      <td>47</td>\n",
       "      <td>47</td>\n",
       "      <td>39</td>\n",
       "      <td>51</td>\n",
       "      <td>7</td>\n",
       "      <td>9</td>\n",
       "      <td>10</td>\n",
       "      <td>12</td>\n",
       "      <td>14</td>\n",
       "    </tr>\n",
       "    <tr>\n",
       "      <th>12861</th>\n",
       "      <td>13090</td>\n",
       "      <td>Y. Uchimura</td>\n",
       "      <td>33</td>\n",
       "      <td>Japan</td>\n",
       "      <td>Hokkaido Consadole Sapporo</td>\n",
       "      <td>20000</td>\n",
       "      <td>1000</td>\n",
       "      <td>CAM</td>\n",
       "      <td>51</td>\n",
       "      <td>31</td>\n",
       "      <td>...</td>\n",
       "      <td>33</td>\n",
       "      <td>62</td>\n",
       "      <td>45</td>\n",
       "      <td>48</td>\n",
       "      <td>42</td>\n",
       "      <td>13</td>\n",
       "      <td>15</td>\n",
       "      <td>7</td>\n",
       "      <td>15</td>\n",
       "      <td>15</td>\n",
       "    </tr>\n",
       "  </tbody>\n",
       "</table>\n",
       "<p>347 rows × 42 columns</p>\n",
       "</div>"
      ],
      "text/plain": [
       "       Unnamed: 0          Name  Age Nationality                        Club  \\\n",
       "305           306       T. Inui   30       Japan                  Real Betis   \n",
       "450           454   S. Nakajima   23       Japan             Portimonense SC   \n",
       "490           494      H. Sakai   28       Japan      Olympique de Marseille   \n",
       "527           531      K. Honda   32       Japan           Melbourne Victory   \n",
       "635           643  G. Shibasaki   26       Japan                   Getafe CF   \n",
       "...           ...           ...  ...         ...                         ...   \n",
       "12577       12806   T. Nagaishi   22       Japan                Cerezo Osaka   \n",
       "12623       12852   T. Nakagawa   25       Japan         Yokohama F. Marinos   \n",
       "12737       12966     A. Suzuki   31       Japan         Yokohama F. Marinos   \n",
       "12780       13009   M. Ichimaru   21       Japan                 Gamba Osaka   \n",
       "12861       13090   Y. Uchimura   33       Japan  Hokkaido Consadole Sapporo   \n",
       "\n",
       "          Value   Wage Position  Crossing  Finishing  ...  Penalties  \\\n",
       "305    14000000  30000       LM        77         70  ...         51   \n",
       "450    14000000  12000       LW        66         73  ...         64   \n",
       "490     8000000  44000       RB        74         33  ...         36   \n",
       "527     8000000  12000       RM        75         65  ...         76   \n",
       "635    11000000  24000       LM        68         70  ...         71   \n",
       "...         ...    ...      ...       ...        ...  ...        ...   \n",
       "12577     60000   1000       GK        12          7  ...         10   \n",
       "12623     40000   1000       RW        40         61  ...         64   \n",
       "12737     20000   1000       GK        11          9  ...         18   \n",
       "12780     60000   1000      CDM        39         27  ...         37   \n",
       "12861     20000   1000      CAM        51         31  ...         33   \n",
       "\n",
       "       Composure  Marking  StandingTackle  SlidingTackle  GKDiving  \\\n",
       "305           76       65              39             31        11   \n",
       "450           81       28              41             36         7   \n",
       "490           68       77              77             80        13   \n",
       "527           80       59              48             48         3   \n",
       "635           75       61              73             72        10   \n",
       "...          ...      ...             ...            ...       ...   \n",
       "12577         33       17              12             12        56   \n",
       "12623         52       34              10             11        10   \n",
       "12737         31       13              10             14        49   \n",
       "12780         47       47              39             51         7   \n",
       "12861         62       45              48             42        13   \n",
       "\n",
       "       GKHandling  GKKicking  GKPositioning  GKReflexes  \n",
       "305            12         11             15           8  \n",
       "450            10         10              8           6  \n",
       "490             8         11             10           9  \n",
       "527             3          5              5           3  \n",
       "635            13         13              9           6  \n",
       "...           ...        ...            ...         ...  \n",
       "12577          46         44             51          53  \n",
       "12623          11         11             13           9  \n",
       "12737          48         54             52          54  \n",
       "12780           9         10             12          14  \n",
       "12861          15          7             15          15  \n",
       "\n",
       "[347 rows x 42 columns]"
      ]
     },
     "execution_count": 29,
     "metadata": {},
     "output_type": "execute_result"
    }
   ],
   "source": [
    "football[(football.Age > 20)&(football.Nationality=='Japan')]"
   ]
  },
  {
   "cell_type": "markdown",
   "metadata": {},
   "source": [
    "Возраст больше 20 и все из Японии игроки на позициях GK. Каково у них значение Wage. Показать отсортированный ряд"
   ]
  },
  {
   "cell_type": "code",
   "execution_count": 38,
   "metadata": {},
   "outputs": [
    {
     "name": "stdout",
     "output_type": "stream",
     "text": [
      "1504     6000\n",
      "2756     4000\n",
      "1854     3000\n",
      "2601     3000\n",
      "5559     2000\n",
      "9816     2000\n",
      "9539     2000\n",
      "8859     2000\n",
      "7382     2000\n",
      "4111     2000\n",
      "2306     2000\n",
      "5394     1000\n",
      "5796     1000\n",
      "6539     1000\n",
      "10120    1000\n",
      "7868     1000\n",
      "7911     1000\n",
      "8149     1000\n",
      "8593     1000\n",
      "4351     1000\n",
      "8972     1000\n",
      "9678     1000\n",
      "9820     1000\n",
      "9895     1000\n",
      "12737    1000\n",
      "12577    1000\n",
      "10492    1000\n",
      "12561    1000\n",
      "12377    1000\n",
      "12304    1000\n",
      "12254    1000\n",
      "12140    1000\n",
      "12075    1000\n",
      "12043    1000\n",
      "12041    1000\n",
      "11957    1000\n",
      "11951    1000\n",
      "11913    1000\n",
      "11879    1000\n",
      "11850    1000\n",
      "11677    1000\n",
      "11646    1000\n",
      "11551    1000\n",
      "11497    1000\n",
      "11478    1000\n",
      "11163    1000\n",
      "10761    1000\n",
      "10746    1000\n",
      "10374    1000\n",
      "Name: Wage, dtype: int64\n"
     ]
    }
   ],
   "source": [
    "nihonjin = football[(football.Age > 20)&(football.Nationality=='Japan')&(football.Position=='GK')]['Wage'].sort_values(ascending=False)\n",
    "print(nihonjin)"
   ]
  },
  {
   "cell_type": "markdown",
   "metadata": {},
   "source": [
    "У нас много одинаковых значений. Давайте посмотрим количество уникальных значений"
   ]
  },
  {
   "cell_type": "markdown",
   "metadata": {},
   "source": [
    "## метод  value_counts()"
   ]
  },
  {
   "cell_type": "code",
   "execution_count": 47,
   "metadata": {},
   "outputs": [
    {
     "data": {
      "text/plain": [
       "1000    38\n",
       "2000     7\n",
       "3000     2\n",
       "6000     1\n",
       "4000     1\n",
       "Name: Wage, dtype: int64"
      ]
     },
     "execution_count": 47,
     "metadata": {},
     "output_type": "execute_result"
    }
   ],
   "source": [
    "nihonjin.value_counts()"
   ]
  },
  {
   "cell_type": "markdown",
   "metadata": {},
   "source": [
    "Преобразование в список методом $.tolist()$"
   ]
  },
  {
   "cell_type": "code",
   "execution_count": 49,
   "metadata": {},
   "outputs": [
    {
     "data": {
      "text/plain": [
       "[38, 7, 2, 1, 1]"
      ]
     },
     "execution_count": 49,
     "metadata": {},
     "output_type": "execute_result"
    }
   ],
   "source": [
    "nihonjin.value_counts().tolist()"
   ]
  },
  {
   "cell_type": "raw",
   "metadata": {},
   "source": [
    "Найти среднюю заработную плату футболистов с возрастом меньше среднего и из 'FC Barcelona':"
   ]
  },
  {
   "cell_type": "code",
   "execution_count": 58,
   "metadata": {},
   "outputs": [
    {
     "data": {
      "text/plain": [
       "77454.54545454546"
      ]
     },
     "execution_count": 58,
     "metadata": {},
     "output_type": "execute_result"
    }
   ],
   "source": [
    "football[(football.Age < football.Age.mean())&\n",
    "        (football.Club == 'FC Barcelona')].Wage.mean()"
   ]
  },
  {
   "cell_type": "markdown",
   "metadata": {},
   "source": [
    "# Задания"
   ]
  },
  {
   "cell_type": "markdown",
   "metadata": {},
   "source": [
    "### 1. Какова средняя скорость (SprintSpeed) футболистов, зарплата (Wage) которых выше среднего? Ответ округлите до сотых. Ответ $67.56$\n",
    "### 2. Какова средняя скорость (SprintSpeed) футболистов, зарплата (Wage) которых ниже среднего? Ответ округлите до сотых. Ответ $62.41$\n",
    "### 3. Какую позицию (Position) занимает футболист с самой высокой зарплатой (Wage)?  Ответ $RF$\n",
    "### 4. Сколько пенальти (Penalties) забили бразильские (Nationality, Brazil) футболисты за период, данные о котором представлены в датасете? Ответ $22789$\n",
    "### 5. Укажите средний возраст (Age) игроков, у которых точность удара головой (HeadingAccuracy) > 50. Ответ округлите до сотых. Ответ $25.59$\n",
    "### 6. Укажите возраст (Age) самого молодого игрока, у которого хладнокровие (Composure) и реакция (Reactions) превышают 90% от максимального значения, представленного в датасете. Ответ $24$\n",
    "### 7. Определите, насколько средняя реакция (Reactions) самых взрослых игроков (т.е. игроков, чей возраст (Age) равен максимальному) больше средней реакции самых молодых игроков. Ответ округлите до сотых.  Ответ $22.64$\n",
    "### 8. Из какой страны (Nationality) происходит больше всего игроков, чья стоимость (Value) превышает среднее значение?  Ответ $Spain$\n",
    "### 9. Определите, во сколько раз средняя зарплата (Wage) голкипера (Position, GK) с максимальным значением показателя \" Рефлексы\" (GKReflexes) выше средней зарплаты голкипера с максимальным значением показателя \"Владение мячом\" (GKHandling). Ответ округлите до сотых. Ответ $2.77$\n",
    "### 10. Определите, во сколько раз средняя сила удара (ShotPower) самых агрессивных игроков (игроков с максимальным значением показателя \"Агрессивность\" (Aggression)) выше средней силы удара игроков с минимальной агрессией. Ответ округлите до сотых. Ответ $2.08$"
   ]
  },
  {
   "cell_type": "markdown",
   "metadata": {},
   "source": [
    "# Решение"
   ]
  },
  {
   "cell_type": "markdown",
   "metadata": {},
   "source": [
    "### Задача 1"
   ]
  },
  {
   "cell_type": "code",
   "execution_count": 84,
   "metadata": {},
   "outputs": [
    {
     "data": {
      "text/plain": [
       "67.56638061585058"
      ]
     },
     "execution_count": 84,
     "metadata": {},
     "output_type": "execute_result"
    }
   ],
   "source": [
    "football[football.Wage>football.Wage.mean()].SprintSpeed.mean() # Задача 1"
   ]
  },
  {
   "cell_type": "markdown",
   "metadata": {},
   "source": [
    "### Задача 2"
   ]
  },
  {
   "cell_type": "code",
   "execution_count": 83,
   "metadata": {},
   "outputs": [
    {
     "data": {
      "text/plain": [
       "62.41425430560645"
      ]
     },
     "execution_count": 83,
     "metadata": {},
     "output_type": "execute_result"
    }
   ],
   "source": [
    "football[football.Wage<football.Wage.mean()].SprintSpeed.mean() # Задача 2"
   ]
  },
  {
   "cell_type": "markdown",
   "metadata": {},
   "source": [
    "### Задача 3"
   ]
  },
  {
   "cell_type": "code",
   "execution_count": 82,
   "metadata": {},
   "outputs": [
    {
     "data": {
      "text/plain": [
       "0    RF\n",
       "Name: Position, dtype: object"
      ]
     },
     "execution_count": 82,
     "metadata": {},
     "output_type": "execute_result"
    }
   ],
   "source": [
    "football[football.Wage == football.Wage.max()].Position         # Задача 3"
   ]
  },
  {
   "cell_type": "markdown",
   "metadata": {},
   "source": [
    "### Задача 4"
   ]
  },
  {
   "cell_type": "code",
   "execution_count": 81,
   "metadata": {},
   "outputs": [
    {
     "data": {
      "text/plain": [
       "22789"
      ]
     },
     "execution_count": 81,
     "metadata": {},
     "output_type": "execute_result"
    }
   ],
   "source": [
    "football[football.Nationality == 'Brazil'].Penalties.sum()      # Задача 4"
   ]
  },
  {
   "cell_type": "markdown",
   "metadata": {},
   "source": [
    "### Задача 5"
   ]
  },
  {
   "cell_type": "code",
   "execution_count": 79,
   "metadata": {},
   "outputs": [
    {
     "data": {
      "text/plain": [
       "25.58771113179944"
      ]
     },
     "execution_count": 79,
     "metadata": {},
     "output_type": "execute_result"
    }
   ],
   "source": [
    "football[football.HeadingAccuracy > 50].Age.mean()              # Задача 5"
   ]
  },
  {
   "cell_type": "markdown",
   "metadata": {},
   "source": [
    "### Задача 6"
   ]
  },
  {
   "cell_type": "code",
   "execution_count": 78,
   "metadata": {},
   "outputs": [
    {
     "data": {
      "text/plain": [
       "24"
      ]
     },
     "execution_count": 78,
     "metadata": {},
     "output_type": "execute_result"
    }
   ],
   "source": [
    "football[(football.Composure>0.9*football.Composure.max())&\n",
    "         (football.Reactions>0.9*football.Reactions.max())].Age.min()  # Задача 6\n"
   ]
  },
  {
   "cell_type": "markdown",
   "metadata": {},
   "source": [
    "### Задача 7"
   ]
  },
  {
   "cell_type": "code",
   "execution_count": 77,
   "metadata": {},
   "outputs": [
    {
     "name": "stdout",
     "output_type": "stream",
     "text": [
      "1628    22.642857\n",
      "Name: Reactions, dtype: float64\n"
     ]
    }
   ],
   "source": [
    "a = football[football.Age==football.Age.max()].Reactions            # Задача 7\n",
    "b = football[football.Age==football.Age.min()].Reactions.mean()     # Задача 7\n",
    "print(a-b)"
   ]
  },
  {
   "cell_type": "markdown",
   "metadata": {},
   "source": [
    "### Задача 8"
   ]
  },
  {
   "cell_type": "code",
   "execution_count": 62,
   "metadata": {},
   "outputs": [
    {
     "data": {
      "text/plain": [
       "0                  Argentina\n",
       "1                   Portugal\n",
       "2                     Brazil\n",
       "3                      Spain\n",
       "4                    Belgium\n",
       "                ...         \n",
       "12736                England\n",
       "12774    Republic of Ireland\n",
       "12812                England\n",
       "12857               China PR\n",
       "12869                England\n",
       "Name: Nationality, Length: 1747, dtype: object"
      ]
     },
     "execution_count": 62,
     "metadata": {},
     "output_type": "execute_result"
    }
   ],
   "source": [
    "# способ 1\n",
    "series_national = football[football.Value > football.Value.mean()].Nationality\n",
    "series_national"
   ]
  },
  {
   "cell_type": "code",
   "execution_count": 63,
   "metadata": {},
   "outputs": [
    {
     "name": "stdout",
     "output_type": "stream",
     "text": [
      "Spain\n"
     ]
    }
   ],
   "source": [
    "dict_national = {}\n",
    "for i in series_national:\n",
    "    if i in dict_national:\n",
    "        dict_national[i]+=1\n",
    "    else:\n",
    "        dict_national[i] = {}\n",
    "        dict_national[i] = 1\n",
    "max_nat=0\n",
    "for i in dict_national:\n",
    "    if dict_national[i] > max_nat:\n",
    "        max_nat = dict_national[i]\n",
    "        name = i\n",
    "print(name)"
   ]
  },
  {
   "cell_type": "code",
   "execution_count": 74,
   "metadata": {},
   "outputs": [
    {
     "data": {
      "text/plain": [
       "211"
      ]
     },
     "execution_count": 74,
     "metadata": {},
     "output_type": "execute_result"
    }
   ],
   "source": [
    "# Способ 2\n",
    "series_national.value_counts()#.loc['Spain']"
   ]
  },
  {
   "cell_type": "markdown",
   "metadata": {},
   "source": [
    "### Задача 9"
   ]
  },
  {
   "cell_type": "code",
   "execution_count": 75,
   "metadata": {},
   "outputs": [
    {
     "name": "stdout",
     "output_type": "stream",
     "text": [
      "3    2.765957\n",
      "Name: Wage, dtype: float64\n"
     ]
    }
   ],
   "source": [
    "gk_1 = football[(football.Position == 'GK')&(football.GKReflexes == football.GKReflexes.max())].Wage\n",
    "gk_2 = football[(football.Position == 'GK')&(football.GKHandling == football.GKHandling.max())].Wage.mean()\n",
    "print(gk_1/gk_2)"
   ]
  },
  {
   "cell_type": "markdown",
   "metadata": {},
   "source": [
    "### Задача 10"
   ]
  },
  {
   "cell_type": "code",
   "execution_count": 76,
   "metadata": {},
   "outputs": [
    {
     "name": "stdout",
     "output_type": "stream",
     "text": [
      "2.076923076923077\n"
     ]
    }
   ],
   "source": [
    "ag_1 = football[football.Aggression==football.Aggression.max()].ShotPower.mean()\n",
    "ag_2 = football[football.Aggression==football.Aggression.min()].ShotPower.mean()\n",
    "print(ag_1/ag_2)"
   ]
  },
  {
   "cell_type": "markdown",
   "metadata": {},
   "source": [
    "# Группировка данных. Метод .value_counts()"
   ]
  },
  {
   "cell_type": "code",
   "execution_count": 85,
   "metadata": {},
   "outputs": [
    {
     "data": {
      "text/plain": [
       "England                 1368\n",
       "Germany                  919\n",
       "Spain                    671\n",
       "France                   614\n",
       "Argentina                574\n",
       "                        ... \n",
       "Andorra                    1\n",
       "Puerto Rico                1\n",
       "Central African Rep.       1\n",
       "Bermuda                    1\n",
       "Guam                       1\n",
       "Name: Nationality, Length: 156, dtype: int64"
      ]
     },
     "metadata": {},
     "output_type": "display_data"
    }
   ],
   "source": [
    "s = football['Nationality'].value_counts()\n",
    "display(s)"
   ]
  },
  {
   "cell_type": "code",
   "execution_count": 86,
   "metadata": {},
   "outputs": [
    {
     "data": {
      "text/plain": [
       "Index(['England', 'Germany', 'Spain', 'France', 'Argentina', 'Italy',\n",
       "       'Colombia', 'Japan', 'Brazil', 'China PR',\n",
       "       ...\n",
       "       'Grenada', 'St Lucia', 'Lebanon', 'Nicaragua', 'Jordan', 'Andorra',\n",
       "       'Puerto Rico', 'Central African Rep.', 'Bermuda', 'Guam'],\n",
       "      dtype='object', length=156)"
      ]
     },
     "execution_count": 86,
     "metadata": {},
     "output_type": "execute_result"
    }
   ],
   "source": [
    "s.index"
   ]
  },
  {
   "cell_type": "code",
   "execution_count": 88,
   "metadata": {},
   "outputs": [
    {
     "data": {
      "text/plain": [
       "'England'"
      ]
     },
     "execution_count": 88,
     "metadata": {},
     "output_type": "execute_result"
    }
   ],
   "source": [
    "s.index[0]"
   ]
  },
  {
   "cell_type": "code",
   "execution_count": 89,
   "metadata": {},
   "outputs": [
    {
     "data": {
      "text/plain": [
       "1368"
      ]
     },
     "execution_count": 89,
     "metadata": {},
     "output_type": "execute_result"
    }
   ],
   "source": [
    "s['England']"
   ]
  },
  {
   "cell_type": "code",
   "execution_count": 93,
   "metadata": {},
   "outputs": [
    {
     "data": {
      "text/plain": [
       "England                1368\n",
       "Germany                 919\n",
       "Spain                   671\n",
       "France                  614\n",
       "Argentina               574\n",
       "Italy                   469\n",
       "Colombia                445\n",
       "Japan                   425\n",
       "Brazil                  423\n",
       "China PR                349\n",
       "Republic of Ireland     332\n",
       "Saudi Arabia            324\n",
       "Sweden                  319\n",
       "Netherlands             309\n",
       "Name: Nationality, dtype: int64"
      ]
     },
     "execution_count": 93,
     "metadata": {},
     "output_type": "execute_result"
    }
   ],
   "source": [
    "s.loc[s > 300] # Страны в которых количество футболистов болшье 300 человек"
   ]
  },
  {
   "cell_type": "markdown",
   "metadata": {},
   "source": [
    "### Сколько футбольных клубов представлено в датасете?"
   ]
  },
  {
   "cell_type": "code",
   "execution_count": 94,
   "metadata": {},
   "outputs": [
    {
     "data": {
      "text/plain": [
       "Shonan Bellmare      30\n",
       "V-Varen Nagasaki     30\n",
       "FC Emmen             29\n",
       "Padova               29\n",
       "De Graafschap        29\n",
       "                     ..\n",
       "Dijon FCO             8\n",
       "Vitória Guimarães     7\n",
       "Dinamo Zagreb         7\n",
       "GD Chaves             7\n",
       "Atlético Mineiro      6\n",
       "Name: Club, Length: 650, dtype: int64"
      ]
     },
     "metadata": {},
     "output_type": "display_data"
    }
   ],
   "source": [
    "s = football['Club'].value_counts()\n",
    "display(s)"
   ]
  },
  {
   "cell_type": "markdown",
   "metadata": {},
   "source": [
    "Всего разных клубов 650"
   ]
  },
  {
   "cell_type": "markdown",
   "metadata": {},
   "source": [
    "### Нормализация данных относительно общего числа данных $12897$"
   ]
  },
  {
   "cell_type": "code",
   "execution_count": 96,
   "metadata": {},
   "outputs": [
    {
     "data": {
      "text/plain": [
       "Shonan Bellmare      0.002326\n",
       "V-Varen Nagasaki     0.002326\n",
       "FC Emmen             0.002249\n",
       "Padova               0.002249\n",
       "De Graafschap        0.002249\n",
       "                       ...   \n",
       "Dijon FCO            0.000620\n",
       "Vitória Guimarães    0.000543\n",
       "Dinamo Zagreb        0.000543\n",
       "GD Chaves            0.000543\n",
       "Atlético Mineiro     0.000465\n",
       "Name: Club, Length: 650, dtype: float64"
      ]
     },
     "metadata": {},
     "output_type": "display_data"
    }
   ],
   "source": [
    "s = football['Club'].value_counts(normalize=True)\n",
    "display(s)"
   ]
  },
  {
   "cell_type": "markdown",
   "metadata": {},
   "source": [
    "### Группировка данных в диапазоне , методом .value_counts(bins=4), где 4 означает что данные разбиваем на 4 подгруппы то есть по 25%"
   ]
  },
  {
   "cell_type": "code",
   "execution_count": 99,
   "metadata": {},
   "outputs": [
    {
     "data": {
      "text/plain": [
       "1000      4601\n",
       "2000      2652\n",
       "3000      1596\n",
       "4000       929\n",
       "5000       566\n",
       "          ... \n",
       "250000       1\n",
       "185000       1\n",
       "87000        1\n",
       "300000       1\n",
       "265000       1\n",
       "Name: Wage, Length: 142, dtype: int64"
      ]
     },
     "metadata": {},
     "output_type": "display_data"
    }
   ],
   "source": [
    "s = football['Wage'].value_counts()\n",
    "display(s)"
   ]
  },
  {
   "cell_type": "code",
   "execution_count": 101,
   "metadata": {},
   "outputs": [
    {
     "data": {
      "text/plain": [
       "(435.999, 142000.0]     12818\n",
       "(142000.0, 283000.0]       61\n",
       "(283000.0, 424000.0]       16\n",
       "(424000.0, 565000.0]        2\n",
       "Name: Wage, dtype: int64"
      ]
     },
     "metadata": {},
     "output_type": "display_data"
    }
   ],
   "source": [
    "s = football['Wage'].value_counts(bins=4)\n",
    "display(s)"
   ]
  },
  {
   "cell_type": "code",
   "execution_count": 103,
   "metadata": {},
   "outputs": [
    {
     "data": {
      "text/plain": [
       "Interval(435.999, 142000.0, closed='right')"
      ]
     },
     "execution_count": 103,
     "metadata": {},
     "output_type": "execute_result"
    }
   ],
   "source": [
    "s.index[0]"
   ]
  },
  {
   "cell_type": "code",
   "execution_count": 104,
   "metadata": {},
   "outputs": [
    {
     "data": {
      "text/plain": [
       "142000.0"
      ]
     },
     "execution_count": 104,
     "metadata": {},
     "output_type": "execute_result"
    }
   ],
   "source": [
    "s.index[0].right"
   ]
  },
  {
   "cell_type": "code",
   "execution_count": 105,
   "metadata": {},
   "outputs": [
    {
     "data": {
      "text/plain": [
       "435.999"
      ]
     },
     "execution_count": 105,
     "metadata": {},
     "output_type": "execute_result"
    }
   ],
   "source": [
    "s.index[0].left"
   ]
  },
  {
   "cell_type": "code",
   "execution_count": 111,
   "metadata": {},
   "outputs": [
    {
     "data": {
      "text/plain": [
       "12818"
      ]
     },
     "execution_count": 111,
     "metadata": {},
     "output_type": "execute_result"
    }
   ],
   "source": [
    "s.loc[s.index[0]]"
   ]
  },
  {
   "cell_type": "markdown",
   "metadata": {},
   "source": [
    "### Теперь видно, что распределение неравномерное и только 2 футболиста из 25 получают сверхвысокую зарплату."
   ]
  },
  {
   "cell_type": "code",
   "execution_count": 114,
   "metadata": {},
   "outputs": [
    {
     "data": {
      "text/html": [
       "<div>\n",
       "<style scoped>\n",
       "    .dataframe tbody tr th:only-of-type {\n",
       "        vertical-align: middle;\n",
       "    }\n",
       "\n",
       "    .dataframe tbody tr th {\n",
       "        vertical-align: top;\n",
       "    }\n",
       "\n",
       "    .dataframe thead th {\n",
       "        text-align: right;\n",
       "    }\n",
       "</style>\n",
       "<table border=\"1\" class=\"dataframe\">\n",
       "  <thead>\n",
       "    <tr style=\"text-align: right;\">\n",
       "      <th></th>\n",
       "      <th>Unnamed: 0</th>\n",
       "      <th>Name</th>\n",
       "      <th>Age</th>\n",
       "      <th>Nationality</th>\n",
       "      <th>Club</th>\n",
       "      <th>Value</th>\n",
       "      <th>Wage</th>\n",
       "      <th>Position</th>\n",
       "      <th>Crossing</th>\n",
       "      <th>Finishing</th>\n",
       "      <th>...</th>\n",
       "      <th>Penalties</th>\n",
       "      <th>Composure</th>\n",
       "      <th>Marking</th>\n",
       "      <th>StandingTackle</th>\n",
       "      <th>SlidingTackle</th>\n",
       "      <th>GKDiving</th>\n",
       "      <th>GKHandling</th>\n",
       "      <th>GKKicking</th>\n",
       "      <th>GKPositioning</th>\n",
       "      <th>GKReflexes</th>\n",
       "    </tr>\n",
       "  </thead>\n",
       "  <tbody>\n",
       "    <tr>\n",
       "      <th>0</th>\n",
       "      <td>0</td>\n",
       "      <td>L. Messi</td>\n",
       "      <td>31</td>\n",
       "      <td>Argentina</td>\n",
       "      <td>FC Barcelona</td>\n",
       "      <td>110500000</td>\n",
       "      <td>565000</td>\n",
       "      <td>RF</td>\n",
       "      <td>84</td>\n",
       "      <td>95</td>\n",
       "      <td>...</td>\n",
       "      <td>75</td>\n",
       "      <td>96</td>\n",
       "      <td>33</td>\n",
       "      <td>28</td>\n",
       "      <td>26</td>\n",
       "      <td>6</td>\n",
       "      <td>11</td>\n",
       "      <td>15</td>\n",
       "      <td>14</td>\n",
       "      <td>8</td>\n",
       "    </tr>\n",
       "    <tr>\n",
       "      <th>7</th>\n",
       "      <td>7</td>\n",
       "      <td>L. Suárez</td>\n",
       "      <td>31</td>\n",
       "      <td>Uruguay</td>\n",
       "      <td>FC Barcelona</td>\n",
       "      <td>80000000</td>\n",
       "      <td>455000</td>\n",
       "      <td>RS</td>\n",
       "      <td>77</td>\n",
       "      <td>93</td>\n",
       "      <td>...</td>\n",
       "      <td>85</td>\n",
       "      <td>85</td>\n",
       "      <td>62</td>\n",
       "      <td>45</td>\n",
       "      <td>38</td>\n",
       "      <td>27</td>\n",
       "      <td>25</td>\n",
       "      <td>31</td>\n",
       "      <td>33</td>\n",
       "      <td>37</td>\n",
       "    </tr>\n",
       "  </tbody>\n",
       "</table>\n",
       "<p>2 rows × 42 columns</p>\n",
       "</div>"
      ],
      "text/plain": [
       "   Unnamed: 0       Name  Age Nationality          Club      Value    Wage  \\\n",
       "0           0   L. Messi   31   Argentina  FC Barcelona  110500000  565000   \n",
       "7           7  L. Suárez   31     Uruguay  FC Barcelona   80000000  455000   \n",
       "\n",
       "  Position  Crossing  Finishing  ...  Penalties  Composure  Marking  \\\n",
       "0       RF        84         95  ...         75         96       33   \n",
       "7       RS        77         93  ...         85         85       62   \n",
       "\n",
       "   StandingTackle  SlidingTackle  GKDiving  GKHandling  GKKicking  \\\n",
       "0              28             26         6          11         15   \n",
       "7              45             38        27          25         31   \n",
       "\n",
       "   GKPositioning  GKReflexes  \n",
       "0             14           8  \n",
       "7             33          37  \n",
       "\n",
       "[2 rows x 42 columns]"
      ]
     },
     "execution_count": 114,
     "metadata": {},
     "output_type": "execute_result"
    }
   ],
   "source": [
    "football.loc[(football['Wage'] > s.index[3].left) & (football['Wage'] <= s.index[3].right)]"
   ]
  },
  {
   "cell_type": "markdown",
   "metadata": {},
   "source": [
    "# Задание: В каких пределах находятся худшие 20% показателей точности ударов ногой (FKAccuracy)?"
   ]
  },
  {
   "cell_type": "code",
   "execution_count": 115,
   "metadata": {},
   "outputs": [
    {
     "data": {
      "text/plain": [
       "(21.2, 39.4]     4859\n",
       "(39.4, 57.6]     3957\n",
       "(57.6, 75.8]     2108\n",
       "(2.908, 21.2]    1760\n",
       "(75.8, 94.0]      213\n",
       "Name: FKAccuracy, dtype: int64"
      ]
     },
     "execution_count": 115,
     "metadata": {},
     "output_type": "execute_result"
    }
   ],
   "source": [
    "football['FKAccuracy'].value_counts(bins=5)"
   ]
  },
  {
   "cell_type": "markdown",
   "metadata": {},
   "source": [
    "# Преобразование в dataFrame( в таблицу). Метод .reset_index()"
   ]
  },
  {
   "cell_type": "code",
   "execution_count": 116,
   "metadata": {},
   "outputs": [
    {
     "data": {
      "text/html": [
       "<div>\n",
       "<style scoped>\n",
       "    .dataframe tbody tr th:only-of-type {\n",
       "        vertical-align: middle;\n",
       "    }\n",
       "\n",
       "    .dataframe tbody tr th {\n",
       "        vertical-align: top;\n",
       "    }\n",
       "\n",
       "    .dataframe thead th {\n",
       "        text-align: right;\n",
       "    }\n",
       "</style>\n",
       "<table border=\"1\" class=\"dataframe\">\n",
       "  <thead>\n",
       "    <tr style=\"text-align: right;\">\n",
       "      <th></th>\n",
       "      <th>index</th>\n",
       "      <th>Nationality</th>\n",
       "    </tr>\n",
       "  </thead>\n",
       "  <tbody>\n",
       "    <tr>\n",
       "      <th>0</th>\n",
       "      <td>England</td>\n",
       "      <td>1368</td>\n",
       "    </tr>\n",
       "    <tr>\n",
       "      <th>1</th>\n",
       "      <td>Germany</td>\n",
       "      <td>919</td>\n",
       "    </tr>\n",
       "    <tr>\n",
       "      <th>2</th>\n",
       "      <td>Spain</td>\n",
       "      <td>671</td>\n",
       "    </tr>\n",
       "    <tr>\n",
       "      <th>3</th>\n",
       "      <td>France</td>\n",
       "      <td>614</td>\n",
       "    </tr>\n",
       "    <tr>\n",
       "      <th>4</th>\n",
       "      <td>Argentina</td>\n",
       "      <td>574</td>\n",
       "    </tr>\n",
       "    <tr>\n",
       "      <th>...</th>\n",
       "      <td>...</td>\n",
       "      <td>...</td>\n",
       "    </tr>\n",
       "    <tr>\n",
       "      <th>151</th>\n",
       "      <td>Andorra</td>\n",
       "      <td>1</td>\n",
       "    </tr>\n",
       "    <tr>\n",
       "      <th>152</th>\n",
       "      <td>Puerto Rico</td>\n",
       "      <td>1</td>\n",
       "    </tr>\n",
       "    <tr>\n",
       "      <th>153</th>\n",
       "      <td>Central African Rep.</td>\n",
       "      <td>1</td>\n",
       "    </tr>\n",
       "    <tr>\n",
       "      <th>154</th>\n",
       "      <td>Bermuda</td>\n",
       "      <td>1</td>\n",
       "    </tr>\n",
       "    <tr>\n",
       "      <th>155</th>\n",
       "      <td>Guam</td>\n",
       "      <td>1</td>\n",
       "    </tr>\n",
       "  </tbody>\n",
       "</table>\n",
       "<p>156 rows × 2 columns</p>\n",
       "</div>"
      ],
      "text/plain": [
       "                    index  Nationality\n",
       "0                 England         1368\n",
       "1                 Germany          919\n",
       "2                   Spain          671\n",
       "3                  France          614\n",
       "4               Argentina          574\n",
       "..                    ...          ...\n",
       "151               Andorra            1\n",
       "152           Puerto Rico            1\n",
       "153  Central African Rep.            1\n",
       "154               Bermuda            1\n",
       "155                  Guam            1\n",
       "\n",
       "[156 rows x 2 columns]"
      ]
     },
     "metadata": {},
     "output_type": "display_data"
    }
   ],
   "source": [
    "s = football['Nationality'].value_counts()\n",
    "s_df = s.reset_index()\n",
    "isplay(s_df)"
   ]
  },
  {
   "cell_type": "markdown",
   "metadata": {},
   "source": [
    "### Замена названия колонок"
   ]
  },
  {
   "cell_type": "code",
   "execution_count": 117,
   "metadata": {},
   "outputs": [
    {
     "data": {
      "text/html": [
       "<div>\n",
       "<style scoped>\n",
       "    .dataframe tbody tr th:only-of-type {\n",
       "        vertical-align: middle;\n",
       "    }\n",
       "\n",
       "    .dataframe tbody tr th {\n",
       "        vertical-align: top;\n",
       "    }\n",
       "\n",
       "    .dataframe thead th {\n",
       "        text-align: right;\n",
       "    }\n",
       "</style>\n",
       "<table border=\"1\" class=\"dataframe\">\n",
       "  <thead>\n",
       "    <tr style=\"text-align: right;\">\n",
       "      <th></th>\n",
       "      <th>Nationality</th>\n",
       "      <th>Players Count</th>\n",
       "    </tr>\n",
       "  </thead>\n",
       "  <tbody>\n",
       "    <tr>\n",
       "      <th>0</th>\n",
       "      <td>England</td>\n",
       "      <td>1368</td>\n",
       "    </tr>\n",
       "    <tr>\n",
       "      <th>1</th>\n",
       "      <td>Germany</td>\n",
       "      <td>919</td>\n",
       "    </tr>\n",
       "    <tr>\n",
       "      <th>2</th>\n",
       "      <td>Spain</td>\n",
       "      <td>671</td>\n",
       "    </tr>\n",
       "    <tr>\n",
       "      <th>3</th>\n",
       "      <td>France</td>\n",
       "      <td>614</td>\n",
       "    </tr>\n",
       "    <tr>\n",
       "      <th>4</th>\n",
       "      <td>Argentina</td>\n",
       "      <td>574</td>\n",
       "    </tr>\n",
       "    <tr>\n",
       "      <th>...</th>\n",
       "      <td>...</td>\n",
       "      <td>...</td>\n",
       "    </tr>\n",
       "    <tr>\n",
       "      <th>151</th>\n",
       "      <td>Andorra</td>\n",
       "      <td>1</td>\n",
       "    </tr>\n",
       "    <tr>\n",
       "      <th>152</th>\n",
       "      <td>Puerto Rico</td>\n",
       "      <td>1</td>\n",
       "    </tr>\n",
       "    <tr>\n",
       "      <th>153</th>\n",
       "      <td>Central African Rep.</td>\n",
       "      <td>1</td>\n",
       "    </tr>\n",
       "    <tr>\n",
       "      <th>154</th>\n",
       "      <td>Bermuda</td>\n",
       "      <td>1</td>\n",
       "    </tr>\n",
       "    <tr>\n",
       "      <th>155</th>\n",
       "      <td>Guam</td>\n",
       "      <td>1</td>\n",
       "    </tr>\n",
       "  </tbody>\n",
       "</table>\n",
       "<p>156 rows × 2 columns</p>\n",
       "</div>"
      ],
      "text/plain": [
       "              Nationality  Players Count\n",
       "0                 England           1368\n",
       "1                 Germany            919\n",
       "2                   Spain            671\n",
       "3                  France            614\n",
       "4               Argentina            574\n",
       "..                    ...            ...\n",
       "151               Andorra              1\n",
       "152           Puerto Rico              1\n",
       "153  Central African Rep.              1\n",
       "154               Bermuda              1\n",
       "155                  Guam              1\n",
       "\n",
       "[156 rows x 2 columns]"
      ]
     },
     "metadata": {},
     "output_type": "display_data"
    }
   ],
   "source": [
    "s_df.columns = ['Nationality','Players Count']\n",
    "display(s_df)"
   ]
  },
  {
   "cell_type": "markdown",
   "metadata": {},
   "source": [
    "# Решение задач:"
   ]
  },
  {
   "cell_type": "markdown",
   "metadata": {},
   "source": [
    "1. У какого процента испанских футболистов (Nationality = 'Spain') зарплата (Wage) находится в пределах 25% минимума от наблюдаемого уровня зарплат среди испанских игроков? Ответ дайте в виде целого числа (округлите полученный результат) без знака %. Ответ $97$\n",
    "2. Укажите количество уникальных сборных (Nationality), к которым относятся футболисты, выступающие за клуб (Club) \"Manchester United\". Ответ $13$\n",
    "3. Oпределите двух футболистов из Бразилии (Nationality = 'Brazil'), выступающих за клуб (Club) 'Juventus'. Перечислите их имена (Name, как в датафрейме) через запятую в алфавитном порядке. Ответ $Alex Sandro,Douglas Costa$\n",
    "4. Укажите, какой из клубов (Club) насчитывает большее количество футболистов возрастом (Age) старше 35 лет. Ответ $ Club Atlético Huracán, Hokkaido Consadole Sapporo $\n",
    "5. С помощью функции value_counts с параметром bins разбейте всех футболистов сборной Аргентины (Nationality = 'Argentina') на 4 равные группы по возрасту. Сколько футболистов в возрасте от 34,75 до 41 года в сборной Аргентины? Ответ $49$\n",
    "6. Сколько процентов футболистов из Испании (Nationality = 'Spain') имеют возраст (Age) 21 год? Введите с точностью до 2 знаков после запятой без указания знака % (например, 12.35). Ответ $11.77$\n"
   ]
  },
  {
   "cell_type": "markdown",
   "metadata": {},
   "source": [
    "### Задача 1"
   ]
  },
  {
   "cell_type": "code",
   "execution_count": 120,
   "metadata": {},
   "outputs": [
    {
     "data": {
      "text/plain": [
       "(620.999, 95750.0]      651\n",
       "(95750.0, 190500.0]      11\n",
       "(190500.0, 285250.0]      6\n",
       "(285250.0, 380000.0]      3\n",
       "Name: Wage, dtype: int64"
      ]
     },
     "metadata": {},
     "output_type": "display_data"
    }
   ],
   "source": [
    "s=football[football['Nationality']=='Spain'].Wage.value_counts(bins=4)\n",
    "display(s)"
   ]
  },
  {
   "cell_type": "code",
   "execution_count": 124,
   "metadata": {},
   "outputs": [
    {
     "data": {
      "text/plain": [
       "0.970193740685544"
      ]
     },
     "execution_count": 124,
     "metadata": {},
     "output_type": "execute_result"
    }
   ],
   "source": [
    "s[s.index[0]]/s.sum()"
   ]
  },
  {
   "cell_type": "markdown",
   "metadata": {},
   "source": [
    "### Задача 2"
   ]
  },
  {
   "cell_type": "code",
   "execution_count": 118,
   "metadata": {},
   "outputs": [
    {
     "data": {
      "text/plain": [
       "13"
      ]
     },
     "execution_count": 118,
     "metadata": {},
     "output_type": "execute_result"
    }
   ],
   "source": [
    "football[football['Club']=='Manchester United'].Nationality.nunique()"
   ]
  },
  {
   "cell_type": "markdown",
   "metadata": {},
   "source": [
    "### Задача 3"
   ]
  },
  {
   "cell_type": "code",
   "execution_count": 125,
   "metadata": {},
   "outputs": [
    {
     "data": {
      "text/plain": [
       "64      Alex Sandro\n",
       "65    Douglas Costa\n",
       "Name: Name, dtype: object"
      ]
     },
     "execution_count": 125,
     "metadata": {},
     "output_type": "execute_result"
    }
   ],
   "source": [
    "football[(football.Nationality == 'Brazil')&(football.Club=='Juventus')].Name"
   ]
  },
  {
   "cell_type": "markdown",
   "metadata": {},
   "source": [
    "### Задача 4"
   ]
  },
  {
   "cell_type": "code",
   "execution_count": 126,
   "metadata": {},
   "outputs": [
    {
     "data": {
      "text/plain": [
       "Hokkaido Consadole Sapporo    4\n",
       "Club Atlético Huracán         4\n",
       "Club Atlético Tigre           3\n",
       "San Martín de San Juan        3\n",
       "Estudiantes de La Plata       3\n",
       "                             ..\n",
       "Deportes Iquique              1\n",
       "Monarcas Morelia              1\n",
       "Guadalajara                   1\n",
       "Universidad de Chile          1\n",
       "Randers FC                    1\n",
       "Name: Club, Length: 212, dtype: int64"
      ]
     },
     "execution_count": 126,
     "metadata": {},
     "output_type": "execute_result"
    }
   ],
   "source": [
    "football[football.Age>35].Club.value_counts()"
   ]
  },
  {
   "cell_type": "markdown",
   "metadata": {},
   "source": [
    "### Задача 5"
   ]
  },
  {
   "cell_type": "code",
   "execution_count": 127,
   "metadata": {},
   "outputs": [
    {
     "data": {
      "text/plain": [
       "(22.25, 28.5]      200\n",
       "(15.974, 22.25]    197\n",
       "(28.5, 34.75]      128\n",
       "(34.75, 41.0]       49\n",
       "Name: Age, dtype: int64"
      ]
     },
     "execution_count": 127,
     "metadata": {},
     "output_type": "execute_result"
    }
   ],
   "source": [
    "football[football.Nationality=='Argentina'].Age.value_counts(bins=4)"
   ]
  },
  {
   "cell_type": "markdown",
   "metadata": {},
   "source": [
    "### Задача 6"
   ]
  },
  {
   "cell_type": "code",
   "execution_count": 129,
   "metadata": {},
   "outputs": [
    {
     "data": {
      "text/plain": [
       "21    0.117735\n",
       "22    0.095380\n",
       "20    0.077496\n",
       "23    0.071535\n",
       "25    0.064083\n",
       "Name: Age, dtype: float64"
      ]
     },
     "execution_count": 129,
     "metadata": {},
     "output_type": "execute_result"
    }
   ],
   "source": [
    "football[(football.Nationality=='Spain')].Age.value_counts(normalize=True).head(5)"
   ]
  },
  {
   "cell_type": "markdown",
   "metadata": {},
   "source": [
    "# Метод группировки данных $groupby$"
   ]
  },
  {
   "cell_type": "markdown",
   "metadata": {},
   "source": [
    "### Посчитайте среднюю зарплату (Wage) и цену (Value) игроков разных позиций (Position). Представители какой позиции имеют самую высокую среднюю цену?"
   ]
  },
  {
   "cell_type": "code",
   "execution_count": 3,
   "metadata": {},
   "outputs": [
    {
     "data": {
      "text/html": [
       "<div>\n",
       "<style scoped>\n",
       "    .dataframe tbody tr th:only-of-type {\n",
       "        vertical-align: middle;\n",
       "    }\n",
       "\n",
       "    .dataframe tbody tr th {\n",
       "        vertical-align: top;\n",
       "    }\n",
       "\n",
       "    .dataframe thead th {\n",
       "        text-align: right;\n",
       "    }\n",
       "</style>\n",
       "<table border=\"1\" class=\"dataframe\">\n",
       "  <thead>\n",
       "    <tr style=\"text-align: right;\">\n",
       "      <th></th>\n",
       "      <th>Wage</th>\n",
       "      <th>Value</th>\n",
       "    </tr>\n",
       "    <tr>\n",
       "      <th>Position</th>\n",
       "      <th></th>\n",
       "      <th></th>\n",
       "    </tr>\n",
       "  </thead>\n",
       "  <tbody>\n",
       "    <tr>\n",
       "      <th>LF</th>\n",
       "      <td>75125.000000</td>\n",
       "      <td>2.736250e+07</td>\n",
       "    </tr>\n",
       "    <tr>\n",
       "      <th>RF</th>\n",
       "      <td>119000.000000</td>\n",
       "      <td>2.636583e+07</td>\n",
       "    </tr>\n",
       "    <tr>\n",
       "      <th>LAM</th>\n",
       "      <td>61000.000000</td>\n",
       "      <td>1.324583e+07</td>\n",
       "    </tr>\n",
       "    <tr>\n",
       "      <th>RAM</th>\n",
       "      <td>11800.000000</td>\n",
       "      <td>8.345000e+06</td>\n",
       "    </tr>\n",
       "    <tr>\n",
       "      <th>LS</th>\n",
       "      <td>15421.487603</td>\n",
       "      <td>5.848430e+06</td>\n",
       "    </tr>\n",
       "    <tr>\n",
       "      <th>LCM</th>\n",
       "      <td>13497.854077</td>\n",
       "      <td>4.318090e+06</td>\n",
       "    </tr>\n",
       "    <tr>\n",
       "      <th>RCM</th>\n",
       "      <td>13504.166667</td>\n",
       "      <td>4.217604e+06</td>\n",
       "    </tr>\n",
       "    <tr>\n",
       "      <th>RS</th>\n",
       "      <td>13482.456140</td>\n",
       "      <td>3.645833e+06</td>\n",
       "    </tr>\n",
       "    <tr>\n",
       "      <th>LW</th>\n",
       "      <td>12169.421488</td>\n",
       "      <td>3.603099e+06</td>\n",
       "    </tr>\n",
       "    <tr>\n",
       "      <th>RW</th>\n",
       "      <td>13822.784810</td>\n",
       "      <td>3.495738e+06</td>\n",
       "    </tr>\n",
       "    <tr>\n",
       "      <th>LDM</th>\n",
       "      <td>10243.243243</td>\n",
       "      <td>3.369459e+06</td>\n",
       "    </tr>\n",
       "    <tr>\n",
       "      <th>RCB</th>\n",
       "      <td>11270.334928</td>\n",
       "      <td>3.009055e+06</td>\n",
       "    </tr>\n",
       "    <tr>\n",
       "      <th>CAM</th>\n",
       "      <td>8688.783570</td>\n",
       "      <td>2.963199e+06</td>\n",
       "    </tr>\n",
       "    <tr>\n",
       "      <th>RDM</th>\n",
       "      <td>11282.608696</td>\n",
       "      <td>2.692717e+06</td>\n",
       "    </tr>\n",
       "    <tr>\n",
       "      <th>LCB</th>\n",
       "      <td>9753.056235</td>\n",
       "      <td>2.636516e+06</td>\n",
       "    </tr>\n",
       "    <tr>\n",
       "      <th>LM</th>\n",
       "      <td>7472.527473</td>\n",
       "      <td>2.466174e+06</td>\n",
       "    </tr>\n",
       "    <tr>\n",
       "      <th>ST</th>\n",
       "      <td>7852.513228</td>\n",
       "      <td>2.157252e+06</td>\n",
       "    </tr>\n",
       "    <tr>\n",
       "      <th>RM</th>\n",
       "      <td>6655.352480</td>\n",
       "      <td>2.138734e+06</td>\n",
       "    </tr>\n",
       "    <tr>\n",
       "      <th>LWB</th>\n",
       "      <td>5783.333333</td>\n",
       "      <td>1.931333e+06</td>\n",
       "    </tr>\n",
       "    <tr>\n",
       "      <th>CF</th>\n",
       "      <td>4862.745098</td>\n",
       "      <td>1.848627e+06</td>\n",
       "    </tr>\n",
       "    <tr>\n",
       "      <th>CDM</th>\n",
       "      <td>7121.562952</td>\n",
       "      <td>1.658900e+06</td>\n",
       "    </tr>\n",
       "    <tr>\n",
       "      <th>CM</th>\n",
       "      <td>5805.060918</td>\n",
       "      <td>1.617465e+06</td>\n",
       "    </tr>\n",
       "    <tr>\n",
       "      <th>RWB</th>\n",
       "      <td>6000.000000</td>\n",
       "      <td>1.555571e+06</td>\n",
       "    </tr>\n",
       "    <tr>\n",
       "      <th>GK</th>\n",
       "      <td>5352.833638</td>\n",
       "      <td>1.502502e+06</td>\n",
       "    </tr>\n",
       "    <tr>\n",
       "      <th>LB</th>\n",
       "      <td>6083.832335</td>\n",
       "      <td>1.429032e+06</td>\n",
       "    </tr>\n",
       "    <tr>\n",
       "      <th>CB</th>\n",
       "      <td>5328.581611</td>\n",
       "      <td>1.321251e+06</td>\n",
       "    </tr>\n",
       "    <tr>\n",
       "      <th>RB</th>\n",
       "      <td>5310.126582</td>\n",
       "      <td>1.248940e+06</td>\n",
       "    </tr>\n",
       "  </tbody>\n",
       "</table>\n",
       "</div>"
      ],
      "text/plain": [
       "                   Wage         Value\n",
       "Position                             \n",
       "LF         75125.000000  2.736250e+07\n",
       "RF        119000.000000  2.636583e+07\n",
       "LAM        61000.000000  1.324583e+07\n",
       "RAM        11800.000000  8.345000e+06\n",
       "LS         15421.487603  5.848430e+06\n",
       "LCM        13497.854077  4.318090e+06\n",
       "RCM        13504.166667  4.217604e+06\n",
       "RS         13482.456140  3.645833e+06\n",
       "LW         12169.421488  3.603099e+06\n",
       "RW         13822.784810  3.495738e+06\n",
       "LDM        10243.243243  3.369459e+06\n",
       "RCB        11270.334928  3.009055e+06\n",
       "CAM         8688.783570  2.963199e+06\n",
       "RDM        11282.608696  2.692717e+06\n",
       "LCB         9753.056235  2.636516e+06\n",
       "LM          7472.527473  2.466174e+06\n",
       "ST          7852.513228  2.157252e+06\n",
       "RM          6655.352480  2.138734e+06\n",
       "LWB         5783.333333  1.931333e+06\n",
       "CF          4862.745098  1.848627e+06\n",
       "CDM         7121.562952  1.658900e+06\n",
       "CM          5805.060918  1.617465e+06\n",
       "RWB         6000.000000  1.555571e+06\n",
       "GK          5352.833638  1.502502e+06\n",
       "LB          6083.832335  1.429032e+06\n",
       "CB          5328.581611  1.321251e+06\n",
       "RB          5310.126582  1.248940e+06"
      ]
     },
     "metadata": {},
     "output_type": "display_data"
    }
   ],
   "source": [
    "grouped_df = football.groupby(['Position'])[['Wage','Value']].mean().sort_values(['Value'],ascending=False)\n",
    "display(grouped_df)"
   ]
  },
  {
   "cell_type": "code",
   "execution_count": 5,
   "metadata": {},
   "outputs": [
    {
     "data": {
      "text/plain": [
       "Wage     5.328582e+03\n",
       "Value    1.321251e+06\n",
       "Name: CB, dtype: float64"
      ]
     },
     "execution_count": 5,
     "metadata": {},
     "output_type": "execute_result"
    }
   ],
   "source": [
    "grouped_df.loc['CB'] # Обращение к строки "
   ]
  },
  {
   "cell_type": "code",
   "execution_count": 6,
   "metadata": {},
   "outputs": [
    {
     "data": {
      "text/plain": [
       "5328.581610833928"
      ]
     },
     "execution_count": 6,
     "metadata": {},
     "output_type": "execute_result"
    }
   ],
   "source": [
    "grouped_df.loc['CB']['Wage'] # Обращение к данной строке данного столбца"
   ]
  },
  {
   "cell_type": "code",
   "execution_count": 8,
   "metadata": {},
   "outputs": [
    {
     "data": {
      "text/html": [
       "<div>\n",
       "<style scoped>\n",
       "    .dataframe tbody tr th:only-of-type {\n",
       "        vertical-align: middle;\n",
       "    }\n",
       "\n",
       "    .dataframe tbody tr th {\n",
       "        vertical-align: top;\n",
       "    }\n",
       "\n",
       "    .dataframe thead th {\n",
       "        text-align: right;\n",
       "    }\n",
       "</style>\n",
       "<table border=\"1\" class=\"dataframe\">\n",
       "  <thead>\n",
       "    <tr style=\"text-align: right;\">\n",
       "      <th></th>\n",
       "      <th>Wage</th>\n",
       "      <th>Age</th>\n",
       "      <th>ShotPower</th>\n",
       "    </tr>\n",
       "    <tr>\n",
       "      <th>Nationality</th>\n",
       "      <th></th>\n",
       "      <th></th>\n",
       "      <th></th>\n",
       "    </tr>\n",
       "  </thead>\n",
       "  <tbody>\n",
       "    <tr>\n",
       "      <th>Dominican Republic</th>\n",
       "      <td>71000.000000</td>\n",
       "      <td>23.000000</td>\n",
       "      <td>75.500000</td>\n",
       "    </tr>\n",
       "    <tr>\n",
       "      <th>Egypt</th>\n",
       "      <td>35545.454545</td>\n",
       "      <td>25.818182</td>\n",
       "      <td>59.363636</td>\n",
       "    </tr>\n",
       "    <tr>\n",
       "      <th>Gabon</th>\n",
       "      <td>28900.000000</td>\n",
       "      <td>26.400000</td>\n",
       "      <td>56.900000</td>\n",
       "    </tr>\n",
       "    <tr>\n",
       "      <th>Croatia</th>\n",
       "      <td>26722.222222</td>\n",
       "      <td>24.819444</td>\n",
       "      <td>54.305556</td>\n",
       "    </tr>\n",
       "    <tr>\n",
       "      <th>Equatorial Guinea</th>\n",
       "      <td>25666.666667</td>\n",
       "      <td>28.000000</td>\n",
       "      <td>55.333333</td>\n",
       "    </tr>\n",
       "    <tr>\n",
       "      <th>Belgium</th>\n",
       "      <td>20024.390244</td>\n",
       "      <td>24.030488</td>\n",
       "      <td>56.390244</td>\n",
       "    </tr>\n",
       "    <tr>\n",
       "      <th>Ecuador</th>\n",
       "      <td>18333.333333</td>\n",
       "      <td>24.619048</td>\n",
       "      <td>60.666667</td>\n",
       "    </tr>\n",
       "    <tr>\n",
       "      <th>Uruguay</th>\n",
       "      <td>17590.361446</td>\n",
       "      <td>26.771084</td>\n",
       "      <td>56.192771</td>\n",
       "    </tr>\n",
       "    <tr>\n",
       "      <th>Brazil</th>\n",
       "      <td>17371.158392</td>\n",
       "      <td>27.898345</td>\n",
       "      <td>58.203310</td>\n",
       "    </tr>\n",
       "    <tr>\n",
       "      <th>Algeria</th>\n",
       "      <td>15810.810811</td>\n",
       "      <td>27.027027</td>\n",
       "      <td>56.567568</td>\n",
       "    </tr>\n",
       "  </tbody>\n",
       "</table>\n",
       "</div>"
      ],
      "text/plain": [
       "                            Wage        Age  ShotPower\n",
       "Nationality                                           \n",
       "Dominican Republic  71000.000000  23.000000  75.500000\n",
       "Egypt               35545.454545  25.818182  59.363636\n",
       "Gabon               28900.000000  26.400000  56.900000\n",
       "Croatia             26722.222222  24.819444  54.305556\n",
       "Equatorial Guinea   25666.666667  28.000000  55.333333\n",
       "Belgium             20024.390244  24.030488  56.390244\n",
       "Ecuador             18333.333333  24.619048  60.666667\n",
       "Uruguay             17590.361446  26.771084  56.192771\n",
       "Brazil              17371.158392  27.898345  58.203310\n",
       "Algeria             15810.810811  27.027027  56.567568"
      ]
     },
     "execution_count": 8,
     "metadata": {},
     "output_type": "execute_result"
    }
   ],
   "source": [
    "football.groupby(['Nationality'])[['Wage','Age','ShotPower']].mean().sort_values(['Wage'],ascending=False).head(10)"
   ]
  },
  {
   "cell_type": "markdown",
   "metadata": {},
   "source": [
    "## Доминиканская республика имеет самую высoкую зарплату у футболистов ?"
   ]
  },
  {
   "cell_type": "code",
   "execution_count": 10,
   "metadata": {},
   "outputs": [
    {
     "data": {
      "text/html": [
       "<div>\n",
       "<style scoped>\n",
       "    .dataframe tbody tr th:only-of-type {\n",
       "        vertical-align: middle;\n",
       "    }\n",
       "\n",
       "    .dataframe tbody tr th {\n",
       "        vertical-align: top;\n",
       "    }\n",
       "\n",
       "    .dataframe thead th {\n",
       "        text-align: right;\n",
       "    }\n",
       "</style>\n",
       "<table border=\"1\" class=\"dataframe\">\n",
       "  <thead>\n",
       "    <tr style=\"text-align: right;\">\n",
       "      <th></th>\n",
       "      <th>Name</th>\n",
       "      <th>Club</th>\n",
       "      <th>Wage</th>\n",
       "      <th>Age</th>\n",
       "      <th>ShotPower</th>\n",
       "    </tr>\n",
       "  </thead>\n",
       "  <tbody>\n",
       "    <tr>\n",
       "      <th>291</th>\n",
       "      <td>Mariano</td>\n",
       "      <td>Real Madrid</td>\n",
       "      <td>140000</td>\n",
       "      <td>24</td>\n",
       "      <td>85</td>\n",
       "    </tr>\n",
       "    <tr>\n",
       "      <th>6279</th>\n",
       "      <td>L. Quezada</td>\n",
       "      <td>Córdoba CF</td>\n",
       "      <td>2000</td>\n",
       "      <td>22</td>\n",
       "      <td>66</td>\n",
       "    </tr>\n",
       "  </tbody>\n",
       "</table>\n",
       "</div>"
      ],
      "text/plain": [
       "            Name         Club    Wage  Age  ShotPower\n",
       "291      Mariano  Real Madrid  140000   24         85\n",
       "6279  L. Quezada   Córdoba CF    2000   22         66"
      ]
     },
     "execution_count": 10,
     "metadata": {},
     "output_type": "execute_result"
    }
   ],
   "source": [
    "football.loc[football['Nationality'] == 'Dominican Republic'][['Name','Club','Wage','Age','ShotPower']]"
   ]
  },
  {
   "cell_type": "markdown",
   "metadata": {},
   "source": [
    "## параметр - подсчет уникальных значений .nunique()"
   ]
  },
  {
   "cell_type": "code",
   "execution_count": 12,
   "metadata": {},
   "outputs": [
    {
     "data": {
      "text/html": [
       "<div>\n",
       "<style scoped>\n",
       "    .dataframe tbody tr th:only-of-type {\n",
       "        vertical-align: middle;\n",
       "    }\n",
       "\n",
       "    .dataframe tbody tr th {\n",
       "        vertical-align: top;\n",
       "    }\n",
       "\n",
       "    .dataframe thead th {\n",
       "        text-align: right;\n",
       "    }\n",
       "</style>\n",
       "<table border=\"1\" class=\"dataframe\">\n",
       "  <thead>\n",
       "    <tr style=\"text-align: right;\">\n",
       "      <th></th>\n",
       "      <th>Club</th>\n",
       "      <th>Name</th>\n",
       "    </tr>\n",
       "    <tr>\n",
       "      <th>Nationality</th>\n",
       "      <th></th>\n",
       "      <th></th>\n",
       "    </tr>\n",
       "  </thead>\n",
       "  <tbody>\n",
       "    <tr>\n",
       "      <th>Brazil</th>\n",
       "      <td>173</td>\n",
       "      <td>408</td>\n",
       "    </tr>\n",
       "    <tr>\n",
       "      <th>France</th>\n",
       "      <td>146</td>\n",
       "      <td>608</td>\n",
       "    </tr>\n",
       "    <tr>\n",
       "      <th>England</th>\n",
       "      <td>138</td>\n",
       "      <td>1294</td>\n",
       "    </tr>\n",
       "    <tr>\n",
       "      <th>Argentina</th>\n",
       "      <td>133</td>\n",
       "      <td>554</td>\n",
       "    </tr>\n",
       "    <tr>\n",
       "      <th>Spain</th>\n",
       "      <td>117</td>\n",
       "      <td>650</td>\n",
       "    </tr>\n",
       "    <tr>\n",
       "      <th>...</th>\n",
       "      <td>...</td>\n",
       "      <td>...</td>\n",
       "    </tr>\n",
       "    <tr>\n",
       "      <th>Central African Rep.</th>\n",
       "      <td>1</td>\n",
       "      <td>1</td>\n",
       "    </tr>\n",
       "    <tr>\n",
       "      <th>Jordan</th>\n",
       "      <td>1</td>\n",
       "      <td>1</td>\n",
       "    </tr>\n",
       "    <tr>\n",
       "      <th>Rwanda</th>\n",
       "      <td>1</td>\n",
       "      <td>1</td>\n",
       "    </tr>\n",
       "    <tr>\n",
       "      <th>Puerto Rico</th>\n",
       "      <td>1</td>\n",
       "      <td>1</td>\n",
       "    </tr>\n",
       "    <tr>\n",
       "      <th>Nicaragua</th>\n",
       "      <td>1</td>\n",
       "      <td>1</td>\n",
       "    </tr>\n",
       "  </tbody>\n",
       "</table>\n",
       "<p>156 rows × 2 columns</p>\n",
       "</div>"
      ],
      "text/plain": [
       "                      Club  Name\n",
       "Nationality                     \n",
       "Brazil                 173   408\n",
       "France                 146   608\n",
       "England                138  1294\n",
       "Argentina              133   554\n",
       "Spain                  117   650\n",
       "...                    ...   ...\n",
       "Central African Rep.     1     1\n",
       "Jordan                   1     1\n",
       "Rwanda                   1     1\n",
       "Puerto Rico              1     1\n",
       "Nicaragua                1     1\n",
       "\n",
       "[156 rows x 2 columns]"
      ]
     },
     "execution_count": 12,
     "metadata": {},
     "output_type": "execute_result"
    }
   ],
   "source": [
    "football.groupby(['Nationality'])[['Club','Name']].nunique().sort_values('Club',ascending = False)"
   ]
  },
  {
   "cell_type": "markdown",
   "metadata": {},
   "source": [
    "# Задания\n",
    "## 1. С помощью функции groupby посчитайте сумму зарплат (Wage) футболистов клуба (Club) \"Chelsea\". Ответ $2035000$\n",
    "## 2. Определите максимальную зарплату футболиста национальности (Nationality) Аргентина (\"Argentina\") в возрасте 30 лет.  Ответ $300000$\n",
    "## 3. Определите минимальную зарплату самого младшего футболиста национальности (Nationality) Аргентина (\"Argentina\").  Ответ $1000$\n",
    "## 4. Определите максимальную силу (Strength) и баланс (Balance) среди игроков клуба (Club) \"FC Barcelona\" из Аргентины (\"Argentina\").   Ответ $59;95$"
   ]
  },
  {
   "cell_type": "markdown",
   "metadata": {},
   "source": [
    "### Задача 1"
   ]
  },
  {
   "cell_type": "code",
   "execution_count": 16,
   "metadata": {},
   "outputs": [
    {
     "data": {
      "text/plain": [
       "2035000"
      ]
     },
     "metadata": {},
     "output_type": "display_data"
    }
   ],
   "source": [
    "grouped_df = football.groupby(['Club'])['Wage'].sum()\n",
    "display(grouped_df['Chelsea'])"
   ]
  },
  {
   "cell_type": "markdown",
   "metadata": {},
   "source": [
    "### Задача 2"
   ]
  },
  {
   "cell_type": "code",
   "execution_count": 18,
   "metadata": {},
   "outputs": [
    {
     "data": {
      "text/plain": [
       "300000"
      ]
     },
     "metadata": {},
     "output_type": "display_data"
    }
   ],
   "source": [
    "grouped_df = football[football.Age==30].groupby(['Nationality']).Wage.max()\n",
    "display(grouped_df['Argentina'])"
   ]
  },
  {
   "cell_type": "markdown",
   "metadata": {},
   "source": [
    "### Задача 3"
   ]
  },
  {
   "cell_type": "code",
   "execution_count": 22,
   "metadata": {},
   "outputs": [
    {
     "data": {
      "text/plain": [
       "1000"
      ]
     },
     "metadata": {},
     "output_type": "display_data"
    }
   ],
   "source": [
    "grouped_df = football[football.Age==football.Age.min()].groupby(['Nationality']).Wage.min()\n",
    "display(grouped_df['Argentina'])"
   ]
  },
  {
   "cell_type": "markdown",
   "metadata": {},
   "source": [
    "### Задача 4"
   ]
  },
  {
   "cell_type": "code",
   "execution_count": 26,
   "metadata": {},
   "outputs": [
    {
     "name": "stdout",
     "output_type": "stream",
     "text": [
      "                   Strength  Balance\n",
      "Club                                \n",
      "AD Alcorcón              85       38\n",
      "Ajax                     63       79\n",
      "Al Fayha                 61       79\n",
      "Alanyaspor               43       84\n",
      "Alianza Petrolera        72       54\n",
      "...                     ...      ...\n",
      "Unión de Santa Fe        78       81\n",
      "Valencia CF              88       34\n",
      "VfB Stuttgart            77       87\n",
      "Vélez Sarsfield          82       76\n",
      "West Ham United          73       89\n",
      "\n",
      "[133 rows x 2 columns]\n",
      "------\n"
     ]
    },
    {
     "data": {
      "text/plain": [
       "59"
      ]
     },
     "execution_count": 26,
     "metadata": {},
     "output_type": "execute_result"
    }
   ],
   "source": [
    "grouped_df = football[football.Nationality=='Argentina'].groupby(['Club'])[['Strength','Balance']].max()\n",
    "print(grouped_df)\n",
    "print('------')\n",
    "grouped_df.loc['FC Barcelona']['Strength']"
   ]
  },
  {
   "cell_type": "markdown",
   "metadata": {},
   "source": [
    "# Метод $.pivot\\_table()$ для группировки, аналог $.groupby()$"
   ]
  },
  {
   "cell_type": "code",
   "execution_count": 29,
   "metadata": {},
   "outputs": [
    {
     "data": {
      "text/html": [
       "<div>\n",
       "<style scoped>\n",
       "    .dataframe tbody tr th:only-of-type {\n",
       "        vertical-align: middle;\n",
       "    }\n",
       "\n",
       "    .dataframe tbody tr th {\n",
       "        vertical-align: top;\n",
       "    }\n",
       "\n",
       "    .dataframe thead tr th {\n",
       "        text-align: left;\n",
       "    }\n",
       "\n",
       "    .dataframe thead tr:last-of-type th {\n",
       "        text-align: right;\n",
       "    }\n",
       "</style>\n",
       "<table border=\"1\" class=\"dataframe\">\n",
       "  <thead>\n",
       "    <tr>\n",
       "      <th></th>\n",
       "      <th colspan=\"5\" halign=\"left\">Wage</th>\n",
       "    </tr>\n",
       "    <tr>\n",
       "      <th>Club</th>\n",
       "      <th>FC Barcelona</th>\n",
       "      <th>Juventus</th>\n",
       "      <th>Manchester United</th>\n",
       "      <th>Real Madrid</th>\n",
       "      <th>All</th>\n",
       "    </tr>\n",
       "    <tr>\n",
       "      <th>Nationality</th>\n",
       "      <th></th>\n",
       "      <th></th>\n",
       "      <th></th>\n",
       "      <th></th>\n",
       "      <th></th>\n",
       "    </tr>\n",
       "  </thead>\n",
       "  <tbody>\n",
       "    <tr>\n",
       "      <th>Argentina</th>\n",
       "      <td>565000.0</td>\n",
       "      <td>205000.0</td>\n",
       "      <td>206000.0</td>\n",
       "      <td>NaN</td>\n",
       "      <td>976000</td>\n",
       "    </tr>\n",
       "    <tr>\n",
       "      <th>Belgium</th>\n",
       "      <td>110000.0</td>\n",
       "      <td>NaN</td>\n",
       "      <td>230000.0</td>\n",
       "      <td>240000.0</td>\n",
       "      <td>580000</td>\n",
       "    </tr>\n",
       "    <tr>\n",
       "      <th>Bosnia Herzegovina</th>\n",
       "      <td>NaN</td>\n",
       "      <td>180000.0</td>\n",
       "      <td>NaN</td>\n",
       "      <td>NaN</td>\n",
       "      <td>180000</td>\n",
       "    </tr>\n",
       "    <tr>\n",
       "      <th>Brazil</th>\n",
       "      <td>465000.0</td>\n",
       "      <td>335000.0</td>\n",
       "      <td>91000.0</td>\n",
       "      <td>570000.0</td>\n",
       "      <td>1461000</td>\n",
       "    </tr>\n",
       "    <tr>\n",
       "      <th>Chile</th>\n",
       "      <td>205000.0</td>\n",
       "      <td>NaN</td>\n",
       "      <td>215000.0</td>\n",
       "      <td>NaN</td>\n",
       "      <td>420000</td>\n",
       "    </tr>\n",
       "    <tr>\n",
       "      <th>Costa Rica</th>\n",
       "      <td>NaN</td>\n",
       "      <td>NaN</td>\n",
       "      <td>NaN</td>\n",
       "      <td>195000.0</td>\n",
       "      <td>195000</td>\n",
       "    </tr>\n",
       "    <tr>\n",
       "      <th>Croatia</th>\n",
       "      <td>260000.0</td>\n",
       "      <td>160000.0</td>\n",
       "      <td>NaN</td>\n",
       "      <td>420000.0</td>\n",
       "      <td>840000</td>\n",
       "    </tr>\n",
       "    <tr>\n",
       "      <th>Dominican Republic</th>\n",
       "      <td>NaN</td>\n",
       "      <td>NaN</td>\n",
       "      <td>NaN</td>\n",
       "      <td>140000.0</td>\n",
       "      <td>140000</td>\n",
       "    </tr>\n",
       "    <tr>\n",
       "      <th>Ecuador</th>\n",
       "      <td>NaN</td>\n",
       "      <td>NaN</td>\n",
       "      <td>120000.0</td>\n",
       "      <td>NaN</td>\n",
       "      <td>120000</td>\n",
       "    </tr>\n",
       "    <tr>\n",
       "      <th>England</th>\n",
       "      <td>NaN</td>\n",
       "      <td>NaN</td>\n",
       "      <td>478000.0</td>\n",
       "      <td>NaN</td>\n",
       "      <td>478000</td>\n",
       "    </tr>\n",
       "    <tr>\n",
       "      <th>France</th>\n",
       "      <td>495000.0</td>\n",
       "      <td>145000.0</td>\n",
       "      <td>375000.0</td>\n",
       "      <td>459000.0</td>\n",
       "      <td>1474000</td>\n",
       "    </tr>\n",
       "    <tr>\n",
       "      <th>Germany</th>\n",
       "      <td>240000.0</td>\n",
       "      <td>160000.0</td>\n",
       "      <td>NaN</td>\n",
       "      <td>355000.0</td>\n",
       "      <td>755000</td>\n",
       "    </tr>\n",
       "    <tr>\n",
       "      <th>Italy</th>\n",
       "      <td>NaN</td>\n",
       "      <td>460000.0</td>\n",
       "      <td>88000.0</td>\n",
       "      <td>NaN</td>\n",
       "      <td>548000</td>\n",
       "    </tr>\n",
       "    <tr>\n",
       "      <th>Ivory Coast</th>\n",
       "      <td>NaN</td>\n",
       "      <td>NaN</td>\n",
       "      <td>105000.0</td>\n",
       "      <td>NaN</td>\n",
       "      <td>105000</td>\n",
       "    </tr>\n",
       "    <tr>\n",
       "      <th>Morocco</th>\n",
       "      <td>NaN</td>\n",
       "      <td>160000.0</td>\n",
       "      <td>NaN</td>\n",
       "      <td>NaN</td>\n",
       "      <td>160000</td>\n",
       "    </tr>\n",
       "    <tr>\n",
       "      <th>Netherlands</th>\n",
       "      <td>135000.0</td>\n",
       "      <td>NaN</td>\n",
       "      <td>NaN</td>\n",
       "      <td>NaN</td>\n",
       "      <td>135000</td>\n",
       "    </tr>\n",
       "    <tr>\n",
       "      <th>Poland</th>\n",
       "      <td>NaN</td>\n",
       "      <td>125000.0</td>\n",
       "      <td>NaN</td>\n",
       "      <td>NaN</td>\n",
       "      <td>125000</td>\n",
       "    </tr>\n",
       "    <tr>\n",
       "      <th>Portugal</th>\n",
       "      <td>125000.0</td>\n",
       "      <td>405000.0</td>\n",
       "      <td>NaN</td>\n",
       "      <td>NaN</td>\n",
       "      <td>530000</td>\n",
       "    </tr>\n",
       "    <tr>\n",
       "      <th>Scotland</th>\n",
       "      <td>NaN</td>\n",
       "      <td>NaN</td>\n",
       "      <td>11000.0</td>\n",
       "      <td>NaN</td>\n",
       "      <td>11000</td>\n",
       "    </tr>\n",
       "    <tr>\n",
       "      <th>Serbia</th>\n",
       "      <td>NaN</td>\n",
       "      <td>NaN</td>\n",
       "      <td>165000.0</td>\n",
       "      <td>NaN</td>\n",
       "      <td>165000</td>\n",
       "    </tr>\n",
       "    <tr>\n",
       "      <th>Spain</th>\n",
       "      <td>912000.0</td>\n",
       "      <td>NaN</td>\n",
       "      <td>260000.0</td>\n",
       "      <td>1404000.0</td>\n",
       "      <td>2576000</td>\n",
       "    </tr>\n",
       "    <tr>\n",
       "      <th>Uruguay</th>\n",
       "      <td>455000.0</td>\n",
       "      <td>NaN</td>\n",
       "      <td>NaN</td>\n",
       "      <td>NaN</td>\n",
       "      <td>455000</td>\n",
       "    </tr>\n",
       "    <tr>\n",
       "      <th>Wales</th>\n",
       "      <td>NaN</td>\n",
       "      <td>NaN</td>\n",
       "      <td>13000.0</td>\n",
       "      <td>355000.0</td>\n",
       "      <td>368000</td>\n",
       "    </tr>\n",
       "    <tr>\n",
       "      <th>All</th>\n",
       "      <td>3967000.0</td>\n",
       "      <td>2335000.0</td>\n",
       "      <td>2357000.0</td>\n",
       "      <td>4138000.0</td>\n",
       "      <td>12797000</td>\n",
       "    </tr>\n",
       "  </tbody>\n",
       "</table>\n",
       "</div>"
      ],
      "text/plain": [
       "                           Wage                                           \\\n",
       "Club               FC Barcelona   Juventus Manchester United Real Madrid   \n",
       "Nationality                                                                \n",
       "Argentina              565000.0   205000.0          206000.0         NaN   \n",
       "Belgium                110000.0        NaN          230000.0    240000.0   \n",
       "Bosnia Herzegovina          NaN   180000.0               NaN         NaN   \n",
       "Brazil                 465000.0   335000.0           91000.0    570000.0   \n",
       "Chile                  205000.0        NaN          215000.0         NaN   \n",
       "Costa Rica                  NaN        NaN               NaN    195000.0   \n",
       "Croatia                260000.0   160000.0               NaN    420000.0   \n",
       "Dominican Republic          NaN        NaN               NaN    140000.0   \n",
       "Ecuador                     NaN        NaN          120000.0         NaN   \n",
       "England                     NaN        NaN          478000.0         NaN   \n",
       "France                 495000.0   145000.0          375000.0    459000.0   \n",
       "Germany                240000.0   160000.0               NaN    355000.0   \n",
       "Italy                       NaN   460000.0           88000.0         NaN   \n",
       "Ivory Coast                 NaN        NaN          105000.0         NaN   \n",
       "Morocco                     NaN   160000.0               NaN         NaN   \n",
       "Netherlands            135000.0        NaN               NaN         NaN   \n",
       "Poland                      NaN   125000.0               NaN         NaN   \n",
       "Portugal               125000.0   405000.0               NaN         NaN   \n",
       "Scotland                    NaN        NaN           11000.0         NaN   \n",
       "Serbia                      NaN        NaN          165000.0         NaN   \n",
       "Spain                  912000.0        NaN          260000.0   1404000.0   \n",
       "Uruguay                455000.0        NaN               NaN         NaN   \n",
       "Wales                       NaN        NaN           13000.0    355000.0   \n",
       "All                   3967000.0  2335000.0         2357000.0   4138000.0   \n",
       "\n",
       "                              \n",
       "Club                     All  \n",
       "Nationality                   \n",
       "Argentina             976000  \n",
       "Belgium               580000  \n",
       "Bosnia Herzegovina    180000  \n",
       "Brazil               1461000  \n",
       "Chile                 420000  \n",
       "Costa Rica            195000  \n",
       "Croatia               840000  \n",
       "Dominican Republic    140000  \n",
       "Ecuador               120000  \n",
       "England               478000  \n",
       "France               1474000  \n",
       "Germany               755000  \n",
       "Italy                 548000  \n",
       "Ivory Coast           105000  \n",
       "Morocco               160000  \n",
       "Netherlands           135000  \n",
       "Poland                125000  \n",
       "Portugal              530000  \n",
       "Scotland               11000  \n",
       "Serbia                165000  \n",
       "Spain                2576000  \n",
       "Uruguay               455000  \n",
       "Wales                 368000  \n",
       "All                 12797000  "
      ]
     },
     "metadata": {},
     "output_type": "display_data"
    }
   ],
   "source": [
    "pivot = football.loc[football['Club'].isin(['FC Barcelona','Real Madrid','Juventus',\n",
    "                                            'Manchester United'])].pivot_table(values=['Wage'],\n",
    "index=['Nationality'],\n",
    "columns=['Club'],\n",
    "aggfunc='sum',\n",
    "margins=True)\n",
    "display(pivot)"
   ]
  },
  {
   "cell_type": "code",
   "execution_count": 31,
   "metadata": {
    "scrolled": true
   },
   "outputs": [
    {
     "data": {
      "text/html": [
       "<div>\n",
       "<style scoped>\n",
       "    .dataframe tbody tr th:only-of-type {\n",
       "        vertical-align: middle;\n",
       "    }\n",
       "\n",
       "    .dataframe tbody tr th {\n",
       "        vertical-align: top;\n",
       "    }\n",
       "\n",
       "    .dataframe thead tr th {\n",
       "        text-align: left;\n",
       "    }\n",
       "\n",
       "    .dataframe thead tr:last-of-type th {\n",
       "        text-align: right;\n",
       "    }\n",
       "</style>\n",
       "<table border=\"1\" class=\"dataframe\">\n",
       "  <thead>\n",
       "    <tr>\n",
       "      <th></th>\n",
       "      <th colspan=\"5\" halign=\"left\">Wage</th>\n",
       "    </tr>\n",
       "    <tr>\n",
       "      <th>Club</th>\n",
       "      <th>FC Barcelona</th>\n",
       "      <th>Juventus</th>\n",
       "      <th>Manchester United</th>\n",
       "      <th>Real Madrid</th>\n",
       "      <th>All</th>\n",
       "    </tr>\n",
       "    <tr>\n",
       "      <th>Nationality</th>\n",
       "      <th></th>\n",
       "      <th></th>\n",
       "      <th></th>\n",
       "      <th></th>\n",
       "      <th></th>\n",
       "    </tr>\n",
       "  </thead>\n",
       "  <tbody>\n",
       "    <tr>\n",
       "      <th>Argentina</th>\n",
       "      <td>565000</td>\n",
       "      <td>205000</td>\n",
       "      <td>206000</td>\n",
       "      <td>0</td>\n",
       "      <td>976000</td>\n",
       "    </tr>\n",
       "    <tr>\n",
       "      <th>Belgium</th>\n",
       "      <td>110000</td>\n",
       "      <td>0</td>\n",
       "      <td>230000</td>\n",
       "      <td>240000</td>\n",
       "      <td>580000</td>\n",
       "    </tr>\n",
       "    <tr>\n",
       "      <th>Bosnia Herzegovina</th>\n",
       "      <td>0</td>\n",
       "      <td>180000</td>\n",
       "      <td>0</td>\n",
       "      <td>0</td>\n",
       "      <td>180000</td>\n",
       "    </tr>\n",
       "    <tr>\n",
       "      <th>Brazil</th>\n",
       "      <td>465000</td>\n",
       "      <td>335000</td>\n",
       "      <td>91000</td>\n",
       "      <td>570000</td>\n",
       "      <td>1461000</td>\n",
       "    </tr>\n",
       "    <tr>\n",
       "      <th>Chile</th>\n",
       "      <td>205000</td>\n",
       "      <td>0</td>\n",
       "      <td>215000</td>\n",
       "      <td>0</td>\n",
       "      <td>420000</td>\n",
       "    </tr>\n",
       "    <tr>\n",
       "      <th>Costa Rica</th>\n",
       "      <td>0</td>\n",
       "      <td>0</td>\n",
       "      <td>0</td>\n",
       "      <td>195000</td>\n",
       "      <td>195000</td>\n",
       "    </tr>\n",
       "    <tr>\n",
       "      <th>Croatia</th>\n",
       "      <td>260000</td>\n",
       "      <td>160000</td>\n",
       "      <td>0</td>\n",
       "      <td>420000</td>\n",
       "      <td>840000</td>\n",
       "    </tr>\n",
       "    <tr>\n",
       "      <th>Dominican Republic</th>\n",
       "      <td>0</td>\n",
       "      <td>0</td>\n",
       "      <td>0</td>\n",
       "      <td>140000</td>\n",
       "      <td>140000</td>\n",
       "    </tr>\n",
       "    <tr>\n",
       "      <th>Ecuador</th>\n",
       "      <td>0</td>\n",
       "      <td>0</td>\n",
       "      <td>120000</td>\n",
       "      <td>0</td>\n",
       "      <td>120000</td>\n",
       "    </tr>\n",
       "    <tr>\n",
       "      <th>England</th>\n",
       "      <td>0</td>\n",
       "      <td>0</td>\n",
       "      <td>478000</td>\n",
       "      <td>0</td>\n",
       "      <td>478000</td>\n",
       "    </tr>\n",
       "    <tr>\n",
       "      <th>France</th>\n",
       "      <td>495000</td>\n",
       "      <td>145000</td>\n",
       "      <td>375000</td>\n",
       "      <td>459000</td>\n",
       "      <td>1474000</td>\n",
       "    </tr>\n",
       "    <tr>\n",
       "      <th>Germany</th>\n",
       "      <td>240000</td>\n",
       "      <td>160000</td>\n",
       "      <td>0</td>\n",
       "      <td>355000</td>\n",
       "      <td>755000</td>\n",
       "    </tr>\n",
       "    <tr>\n",
       "      <th>Italy</th>\n",
       "      <td>0</td>\n",
       "      <td>460000</td>\n",
       "      <td>88000</td>\n",
       "      <td>0</td>\n",
       "      <td>548000</td>\n",
       "    </tr>\n",
       "    <tr>\n",
       "      <th>Ivory Coast</th>\n",
       "      <td>0</td>\n",
       "      <td>0</td>\n",
       "      <td>105000</td>\n",
       "      <td>0</td>\n",
       "      <td>105000</td>\n",
       "    </tr>\n",
       "    <tr>\n",
       "      <th>Morocco</th>\n",
       "      <td>0</td>\n",
       "      <td>160000</td>\n",
       "      <td>0</td>\n",
       "      <td>0</td>\n",
       "      <td>160000</td>\n",
       "    </tr>\n",
       "    <tr>\n",
       "      <th>Netherlands</th>\n",
       "      <td>135000</td>\n",
       "      <td>0</td>\n",
       "      <td>0</td>\n",
       "      <td>0</td>\n",
       "      <td>135000</td>\n",
       "    </tr>\n",
       "    <tr>\n",
       "      <th>Poland</th>\n",
       "      <td>0</td>\n",
       "      <td>125000</td>\n",
       "      <td>0</td>\n",
       "      <td>0</td>\n",
       "      <td>125000</td>\n",
       "    </tr>\n",
       "    <tr>\n",
       "      <th>Portugal</th>\n",
       "      <td>125000</td>\n",
       "      <td>405000</td>\n",
       "      <td>0</td>\n",
       "      <td>0</td>\n",
       "      <td>530000</td>\n",
       "    </tr>\n",
       "    <tr>\n",
       "      <th>Scotland</th>\n",
       "      <td>0</td>\n",
       "      <td>0</td>\n",
       "      <td>11000</td>\n",
       "      <td>0</td>\n",
       "      <td>11000</td>\n",
       "    </tr>\n",
       "    <tr>\n",
       "      <th>Serbia</th>\n",
       "      <td>0</td>\n",
       "      <td>0</td>\n",
       "      <td>165000</td>\n",
       "      <td>0</td>\n",
       "      <td>165000</td>\n",
       "    </tr>\n",
       "    <tr>\n",
       "      <th>Spain</th>\n",
       "      <td>912000</td>\n",
       "      <td>0</td>\n",
       "      <td>260000</td>\n",
       "      <td>1404000</td>\n",
       "      <td>2576000</td>\n",
       "    </tr>\n",
       "    <tr>\n",
       "      <th>Uruguay</th>\n",
       "      <td>455000</td>\n",
       "      <td>0</td>\n",
       "      <td>0</td>\n",
       "      <td>0</td>\n",
       "      <td>455000</td>\n",
       "    </tr>\n",
       "    <tr>\n",
       "      <th>Wales</th>\n",
       "      <td>0</td>\n",
       "      <td>0</td>\n",
       "      <td>13000</td>\n",
       "      <td>355000</td>\n",
       "      <td>368000</td>\n",
       "    </tr>\n",
       "    <tr>\n",
       "      <th>All</th>\n",
       "      <td>3967000</td>\n",
       "      <td>2335000</td>\n",
       "      <td>2357000</td>\n",
       "      <td>4138000</td>\n",
       "      <td>12797000</td>\n",
       "    </tr>\n",
       "  </tbody>\n",
       "</table>\n",
       "</div>"
      ],
      "text/plain": [
       "                           Wage                                         \\\n",
       "Club               FC Barcelona Juventus Manchester United Real Madrid   \n",
       "Nationality                                                              \n",
       "Argentina                565000   205000            206000           0   \n",
       "Belgium                  110000        0            230000      240000   \n",
       "Bosnia Herzegovina            0   180000                 0           0   \n",
       "Brazil                   465000   335000             91000      570000   \n",
       "Chile                    205000        0            215000           0   \n",
       "Costa Rica                    0        0                 0      195000   \n",
       "Croatia                  260000   160000                 0      420000   \n",
       "Dominican Republic            0        0                 0      140000   \n",
       "Ecuador                       0        0            120000           0   \n",
       "England                       0        0            478000           0   \n",
       "France                   495000   145000            375000      459000   \n",
       "Germany                  240000   160000                 0      355000   \n",
       "Italy                         0   460000             88000           0   \n",
       "Ivory Coast                   0        0            105000           0   \n",
       "Morocco                       0   160000                 0           0   \n",
       "Netherlands              135000        0                 0           0   \n",
       "Poland                        0   125000                 0           0   \n",
       "Portugal                 125000   405000                 0           0   \n",
       "Scotland                      0        0             11000           0   \n",
       "Serbia                        0        0            165000           0   \n",
       "Spain                    912000        0            260000     1404000   \n",
       "Uruguay                  455000        0                 0           0   \n",
       "Wales                         0        0             13000      355000   \n",
       "All                     3967000  2335000           2357000     4138000   \n",
       "\n",
       "                              \n",
       "Club                     All  \n",
       "Nationality                   \n",
       "Argentina             976000  \n",
       "Belgium               580000  \n",
       "Bosnia Herzegovina    180000  \n",
       "Brazil               1461000  \n",
       "Chile                 420000  \n",
       "Costa Rica            195000  \n",
       "Croatia               840000  \n",
       "Dominican Republic    140000  \n",
       "Ecuador               120000  \n",
       "England               478000  \n",
       "France               1474000  \n",
       "Germany               755000  \n",
       "Italy                 548000  \n",
       "Ivory Coast           105000  \n",
       "Morocco               160000  \n",
       "Netherlands           135000  \n",
       "Poland                125000  \n",
       "Portugal              530000  \n",
       "Scotland               11000  \n",
       "Serbia                165000  \n",
       "Spain                2576000  \n",
       "Uruguay               455000  \n",
       "Wales                 368000  \n",
       "All                 12797000  "
      ]
     },
     "metadata": {},
     "output_type": "display_data"
    }
   ],
   "source": [
    "pivot = football.loc[football['Club'].isin(['FC Barcelona','Real Madrid','Juventus',\n",
    "                                'Manchester United'])].pivot_table(values=['Wage'],\n",
    "index=['Nationality'],\n",
    "columns=['Club'],\n",
    "aggfunc='sum',\n",
    "margins=True,\n",
    "fill_value=0)\n",
    "display(pivot)"
   ]
  },
  {
   "cell_type": "markdown",
   "metadata": {},
   "source": [
    "# Если в данных есть пропуски, то метод $.groupby()$ не сработет без предварительной чистки"
   ]
  },
  {
   "cell_type": "code",
   "execution_count": 32,
   "metadata": {},
   "outputs": [
    {
     "ename": "KeyError",
     "evalue": "\"Columns not found: 'FC Barcelona', 'Manchester United', 'Real Madrid', 'Juventus'\"",
     "output_type": "error",
     "traceback": [
      "\u001b[0;31m---------------------------------------------------------------------------\u001b[0m",
      "\u001b[0;31mKeyError\u001b[0m                                  Traceback (most recent call last)",
      "\u001b[0;32m<ipython-input-32-ebb2aeb871e6>\u001b[0m in \u001b[0;36m<module>\u001b[0;34m\u001b[0m\n\u001b[1;32m      1\u001b[0m grouped_df = football.groupby(['Nationality'])[['FC Barcelona','Real Madrid','Juventus',\n\u001b[0;32m----> 2\u001b[0;31m                                 'Manchester United']].Wage.sum()\n\u001b[0m\u001b[1;32m      3\u001b[0m \u001b[0mprint\u001b[0m\u001b[0;34m(\u001b[0m\u001b[0mgrouped_df\u001b[0m\u001b[0;34m)\u001b[0m\u001b[0;34m\u001b[0m\u001b[0;34m\u001b[0m\u001b[0m\n",
      "\u001b[0;32m~/.local/lib/python3.6/site-packages/pandas/core/groupby/generic.py\u001b[0m in \u001b[0;36m__getitem__\u001b[0;34m(self, key)\u001b[0m\n\u001b[1;32m   1646\u001b[0m                 \u001b[0mstacklevel\u001b[0m\u001b[0;34m=\u001b[0m\u001b[0;36m2\u001b[0m\u001b[0;34m,\u001b[0m\u001b[0;34m\u001b[0m\u001b[0;34m\u001b[0m\u001b[0m\n\u001b[1;32m   1647\u001b[0m             )\n\u001b[0;32m-> 1648\u001b[0;31m         \u001b[0;32mreturn\u001b[0m \u001b[0msuper\u001b[0m\u001b[0;34m(\u001b[0m\u001b[0;34m)\u001b[0m\u001b[0;34m.\u001b[0m\u001b[0m__getitem__\u001b[0m\u001b[0;34m(\u001b[0m\u001b[0mkey\u001b[0m\u001b[0;34m)\u001b[0m\u001b[0;34m\u001b[0m\u001b[0;34m\u001b[0m\u001b[0m\n\u001b[0m\u001b[1;32m   1649\u001b[0m \u001b[0;34m\u001b[0m\u001b[0m\n\u001b[1;32m   1650\u001b[0m     \u001b[0;32mdef\u001b[0m \u001b[0m_gotitem\u001b[0m\u001b[0;34m(\u001b[0m\u001b[0mself\u001b[0m\u001b[0;34m,\u001b[0m \u001b[0mkey\u001b[0m\u001b[0;34m,\u001b[0m \u001b[0mndim\u001b[0m\u001b[0;34m:\u001b[0m \u001b[0mint\u001b[0m\u001b[0;34m,\u001b[0m \u001b[0msubset\u001b[0m\u001b[0;34m=\u001b[0m\u001b[0;32mNone\u001b[0m\u001b[0;34m)\u001b[0m\u001b[0;34m:\u001b[0m\u001b[0;34m\u001b[0m\u001b[0;34m\u001b[0m\u001b[0m\n",
      "\u001b[0;32m~/.local/lib/python3.6/site-packages/pandas/core/base.py\u001b[0m in \u001b[0;36m__getitem__\u001b[0;34m(self, key)\u001b[0m\n\u001b[1;32m    216\u001b[0m             \u001b[0;32mif\u001b[0m \u001b[0mlen\u001b[0m\u001b[0;34m(\u001b[0m\u001b[0mself\u001b[0m\u001b[0;34m.\u001b[0m\u001b[0mobj\u001b[0m\u001b[0;34m.\u001b[0m\u001b[0mcolumns\u001b[0m\u001b[0;34m.\u001b[0m\u001b[0mintersection\u001b[0m\u001b[0;34m(\u001b[0m\u001b[0mkey\u001b[0m\u001b[0;34m)\u001b[0m\u001b[0;34m)\u001b[0m \u001b[0;34m!=\u001b[0m \u001b[0mlen\u001b[0m\u001b[0;34m(\u001b[0m\u001b[0mkey\u001b[0m\u001b[0;34m)\u001b[0m\u001b[0;34m:\u001b[0m\u001b[0;34m\u001b[0m\u001b[0;34m\u001b[0m\u001b[0m\n\u001b[1;32m    217\u001b[0m                 \u001b[0mbad_keys\u001b[0m \u001b[0;34m=\u001b[0m \u001b[0mlist\u001b[0m\u001b[0;34m(\u001b[0m\u001b[0mset\u001b[0m\u001b[0;34m(\u001b[0m\u001b[0mkey\u001b[0m\u001b[0;34m)\u001b[0m\u001b[0;34m.\u001b[0m\u001b[0mdifference\u001b[0m\u001b[0;34m(\u001b[0m\u001b[0mself\u001b[0m\u001b[0;34m.\u001b[0m\u001b[0mobj\u001b[0m\u001b[0;34m.\u001b[0m\u001b[0mcolumns\u001b[0m\u001b[0;34m)\u001b[0m\u001b[0;34m)\u001b[0m\u001b[0;34m\u001b[0m\u001b[0;34m\u001b[0m\u001b[0m\n\u001b[0;32m--> 218\u001b[0;31m                 \u001b[0;32mraise\u001b[0m \u001b[0mKeyError\u001b[0m\u001b[0;34m(\u001b[0m\u001b[0;34mf\"Columns not found: {str(bad_keys)[1:-1]}\"\u001b[0m\u001b[0;34m)\u001b[0m\u001b[0;34m\u001b[0m\u001b[0;34m\u001b[0m\u001b[0m\n\u001b[0m\u001b[1;32m    219\u001b[0m             \u001b[0;32mreturn\u001b[0m \u001b[0mself\u001b[0m\u001b[0;34m.\u001b[0m\u001b[0m_gotitem\u001b[0m\u001b[0;34m(\u001b[0m\u001b[0mlist\u001b[0m\u001b[0;34m(\u001b[0m\u001b[0mkey\u001b[0m\u001b[0;34m)\u001b[0m\u001b[0;34m,\u001b[0m \u001b[0mndim\u001b[0m\u001b[0;34m=\u001b[0m\u001b[0;36m2\u001b[0m\u001b[0;34m)\u001b[0m\u001b[0;34m\u001b[0m\u001b[0;34m\u001b[0m\u001b[0m\n\u001b[1;32m    220\u001b[0m \u001b[0;34m\u001b[0m\u001b[0m\n",
      "\u001b[0;31mKeyError\u001b[0m: \"Columns not found: 'FC Barcelona', 'Manchester United', 'Real Madrid', 'Juventus'\""
     ]
    }
   ],
   "source": [
    "grouped_df = football.groupby(['Nationality'])[['FC Barcelona','Real Madrid','Juventus',\n",
    "                                'Manchester United']].Wage.sum()\n",
    "print(grouped_df)"
   ]
  },
  {
   "cell_type": "code",
   "execution_count": 34,
   "metadata": {},
   "outputs": [
    {
     "data": {
      "text/plain": [
       "206000"
      ]
     },
     "execution_count": 34,
     "metadata": {},
     "output_type": "execute_result"
    }
   ],
   "source": [
    "pivot.loc['Argentina']['Wage']['Manchester United']"
   ]
  },
  {
   "cell_type": "code",
   "execution_count": 35,
   "metadata": {},
   "outputs": [
    {
     "data": {
      "text/plain": [
       "      Club             \n",
       "Wage  FC Barcelona         565000\n",
       "      Juventus             205000\n",
       "      Manchester United    206000\n",
       "      Real Madrid               0\n",
       "      All                  976000\n",
       "Name: Argentina, dtype: int64"
      ]
     },
     "execution_count": 35,
     "metadata": {},
     "output_type": "execute_result"
    }
   ],
   "source": [
    "pivot.loc['Argentina']"
   ]
  },
  {
   "cell_type": "code",
   "execution_count": 36,
   "metadata": {},
   "outputs": [
    {
     "data": {
      "text/plain": [
       "976000"
      ]
     },
     "execution_count": 36,
     "metadata": {},
     "output_type": "execute_result"
    }
   ],
   "source": [
    "pivot.loc['Argentina']['Wage']['All']"
   ]
  },
  {
   "cell_type": "code",
   "execution_count": 37,
   "metadata": {},
   "outputs": [
    {
     "data": {
      "text/plain": [
       "2335000"
      ]
     },
     "execution_count": 37,
     "metadata": {},
     "output_type": "execute_result"
    }
   ],
   "source": [
    "pivot.loc['All']['Wage']['Juventus']"
   ]
  },
  {
   "cell_type": "code",
   "execution_count": 40,
   "metadata": {},
   "outputs": [
    {
     "data": {
      "text/plain": [
       "Index(['Argentina', 'Belgium', 'Bosnia Herzegovina', 'Brazil', 'Chile',\n",
       "       'Costa Rica', 'Croatia', 'Dominican Republic', 'Ecuador', 'England',\n",
       "       'France', 'Germany', 'Italy', 'Ivory Coast', 'Morocco', 'Netherlands',\n",
       "       'Poland', 'Portugal', 'Scotland', 'Serbia', 'Spain', 'Uruguay', 'Wales',\n",
       "       'All'],\n",
       "      dtype='object', name='Nationality')"
      ]
     },
     "execution_count": 40,
     "metadata": {},
     "output_type": "execute_result"
    }
   ],
   "source": [
    "pivot.index"
   ]
  },
  {
   "cell_type": "code",
   "execution_count": 41,
   "metadata": {},
   "outputs": [
    {
     "data": {
      "text/plain": [
       "'Argentina'"
      ]
     },
     "execution_count": 41,
     "metadata": {},
     "output_type": "execute_result"
    }
   ],
   "source": [
    "pivot.index[0]"
   ]
  },
  {
   "cell_type": "code",
   "execution_count": 42,
   "metadata": {},
   "outputs": [
    {
     "data": {
      "text/plain": [
       "976000"
      ]
     },
     "execution_count": 42,
     "metadata": {},
     "output_type": "execute_result"
    }
   ],
   "source": [
    "pivot.loc[pivot.index[0]]['Wage']['All']"
   ]
  },
  {
   "cell_type": "markdown",
   "metadata": {},
   "source": [
    "# Пример: Создайте сводную таблицу, содержащую сведения о количестве игроков, занимающих разные позиции в каждом клубе. Отсутствующие значения замените нулями. Каково среднее количество вратарей (GK) в клубе? Ответ округлите до трёх цифр после запятой."
   ]
  },
  {
   "cell_type": "code",
   "execution_count": 44,
   "metadata": {},
   "outputs": [
    {
     "data": {
      "text/html": [
       "<div>\n",
       "<style scoped>\n",
       "    .dataframe tbody tr th:only-of-type {\n",
       "        vertical-align: middle;\n",
       "    }\n",
       "\n",
       "    .dataframe tbody tr th {\n",
       "        vertical-align: top;\n",
       "    }\n",
       "\n",
       "    .dataframe thead tr th {\n",
       "        text-align: left;\n",
       "    }\n",
       "\n",
       "    .dataframe thead tr:last-of-type th {\n",
       "        text-align: right;\n",
       "    }\n",
       "</style>\n",
       "<table border=\"1\" class=\"dataframe\">\n",
       "  <thead>\n",
       "    <tr>\n",
       "      <th></th>\n",
       "      <th colspan=\"21\" halign=\"left\">Name</th>\n",
       "    </tr>\n",
       "    <tr>\n",
       "      <th>Club</th>\n",
       "      <th>SSV Jahn Regensburg</th>\n",
       "      <th>1. FC Heidenheim 1846</th>\n",
       "      <th>1. FC Kaiserslautern</th>\n",
       "      <th>1. FC Köln</th>\n",
       "      <th>1. FC Magdeburg</th>\n",
       "      <th>1. FC Nürnberg</th>\n",
       "      <th>1. FC Union Berlin</th>\n",
       "      <th>1. FSV Mainz 05</th>\n",
       "      <th>AC Ajaccio</th>\n",
       "      <th>AC Horsens</th>\n",
       "      <th>...</th>\n",
       "      <th>Yeni Malatyaspor</th>\n",
       "      <th>Yeovil Town</th>\n",
       "      <th>Yokohama F. Marinos</th>\n",
       "      <th>Zagłębie Lubin</th>\n",
       "      <th>Zagłębie Sosnowiec</th>\n",
       "      <th>Çaykur Rizespor</th>\n",
       "      <th>Örebro SK</th>\n",
       "      <th>Östersunds FK</th>\n",
       "      <th>Śląsk Wrocław</th>\n",
       "      <th>All</th>\n",
       "    </tr>\n",
       "    <tr>\n",
       "      <th>Position</th>\n",
       "      <th></th>\n",
       "      <th></th>\n",
       "      <th></th>\n",
       "      <th></th>\n",
       "      <th></th>\n",
       "      <th></th>\n",
       "      <th></th>\n",
       "      <th></th>\n",
       "      <th></th>\n",
       "      <th></th>\n",
       "      <th></th>\n",
       "      <th></th>\n",
       "      <th></th>\n",
       "      <th></th>\n",
       "      <th></th>\n",
       "      <th></th>\n",
       "      <th></th>\n",
       "      <th></th>\n",
       "      <th></th>\n",
       "      <th></th>\n",
       "      <th></th>\n",
       "    </tr>\n",
       "  </thead>\n",
       "  <tbody>\n",
       "    <tr>\n",
       "      <th>CAM</th>\n",
       "      <td>0</td>\n",
       "      <td>1</td>\n",
       "      <td>0</td>\n",
       "      <td>0</td>\n",
       "      <td>0</td>\n",
       "      <td>1</td>\n",
       "      <td>1</td>\n",
       "      <td>0</td>\n",
       "      <td>3</td>\n",
       "      <td>0</td>\n",
       "      <td>...</td>\n",
       "      <td>2</td>\n",
       "      <td>0</td>\n",
       "      <td>3</td>\n",
       "      <td>0</td>\n",
       "      <td>3</td>\n",
       "      <td>1</td>\n",
       "      <td>0</td>\n",
       "      <td>1</td>\n",
       "      <td>0</td>\n",
       "      <td>633</td>\n",
       "    </tr>\n",
       "    <tr>\n",
       "      <th>CB</th>\n",
       "      <td>5</td>\n",
       "      <td>3</td>\n",
       "      <td>3</td>\n",
       "      <td>1</td>\n",
       "      <td>4</td>\n",
       "      <td>1</td>\n",
       "      <td>2</td>\n",
       "      <td>2</td>\n",
       "      <td>1</td>\n",
       "      <td>3</td>\n",
       "      <td>...</td>\n",
       "      <td>2</td>\n",
       "      <td>3</td>\n",
       "      <td>4</td>\n",
       "      <td>0</td>\n",
       "      <td>2</td>\n",
       "      <td>2</td>\n",
       "      <td>4</td>\n",
       "      <td>1</td>\n",
       "      <td>1</td>\n",
       "      <td>1403</td>\n",
       "    </tr>\n",
       "    <tr>\n",
       "      <th>CDM</th>\n",
       "      <td>1</td>\n",
       "      <td>0</td>\n",
       "      <td>3</td>\n",
       "      <td>1</td>\n",
       "      <td>0</td>\n",
       "      <td>2</td>\n",
       "      <td>2</td>\n",
       "      <td>0</td>\n",
       "      <td>0</td>\n",
       "      <td>1</td>\n",
       "      <td>...</td>\n",
       "      <td>3</td>\n",
       "      <td>0</td>\n",
       "      <td>2</td>\n",
       "      <td>2</td>\n",
       "      <td>2</td>\n",
       "      <td>5</td>\n",
       "      <td>0</td>\n",
       "      <td>0</td>\n",
       "      <td>3</td>\n",
       "      <td>691</td>\n",
       "    </tr>\n",
       "    <tr>\n",
       "      <th>CF</th>\n",
       "      <td>0</td>\n",
       "      <td>0</td>\n",
       "      <td>0</td>\n",
       "      <td>0</td>\n",
       "      <td>1</td>\n",
       "      <td>0</td>\n",
       "      <td>0</td>\n",
       "      <td>0</td>\n",
       "      <td>0</td>\n",
       "      <td>0</td>\n",
       "      <td>...</td>\n",
       "      <td>0</td>\n",
       "      <td>0</td>\n",
       "      <td>0</td>\n",
       "      <td>0</td>\n",
       "      <td>0</td>\n",
       "      <td>0</td>\n",
       "      <td>0</td>\n",
       "      <td>1</td>\n",
       "      <td>0</td>\n",
       "      <td>51</td>\n",
       "    </tr>\n",
       "    <tr>\n",
       "      <th>CM</th>\n",
       "      <td>2</td>\n",
       "      <td>1</td>\n",
       "      <td>0</td>\n",
       "      <td>2</td>\n",
       "      <td>0</td>\n",
       "      <td>1</td>\n",
       "      <td>1</td>\n",
       "      <td>1</td>\n",
       "      <td>1</td>\n",
       "      <td>2</td>\n",
       "      <td>...</td>\n",
       "      <td>2</td>\n",
       "      <td>1</td>\n",
       "      <td>1</td>\n",
       "      <td>1</td>\n",
       "      <td>0</td>\n",
       "      <td>0</td>\n",
       "      <td>1</td>\n",
       "      <td>3</td>\n",
       "      <td>1</td>\n",
       "      <td>1067</td>\n",
       "    </tr>\n",
       "  </tbody>\n",
       "</table>\n",
       "<p>5 rows × 651 columns</p>\n",
       "</div>"
      ],
      "text/plain": [
       "                         Name                                             \\\n",
       "Club      SSV Jahn Regensburg 1. FC Heidenheim 1846 1. FC Kaiserslautern   \n",
       "Position                                                                   \n",
       "CAM                         0                     1                    0   \n",
       "CB                          5                     3                    3   \n",
       "CDM                         1                     0                    3   \n",
       "CF                          0                     0                    0   \n",
       "CM                          2                     1                    0   \n",
       "\n",
       "                                                                       \\\n",
       "Club     1. FC Köln 1. FC Magdeburg 1. FC Nürnberg 1. FC Union Berlin   \n",
       "Position                                                                \n",
       "CAM               0               0              1                  1   \n",
       "CB                1               4              1                  2   \n",
       "CDM               1               0              2                  2   \n",
       "CF                0               1              0                  0   \n",
       "CM                2               0              1                  1   \n",
       "\n",
       "                                                ...                   \\\n",
       "Club     1. FSV Mainz 05 AC Ajaccio AC Horsens  ... Yeni Malatyaspor   \n",
       "Position                                        ...                    \n",
       "CAM                    0          3          0  ...                2   \n",
       "CB                     2          1          3  ...                2   \n",
       "CDM                    0          0          1  ...                3   \n",
       "CF                     0          0          0  ...                0   \n",
       "CM                     1          1          2  ...                2   \n",
       "\n",
       "                                                                            \\\n",
       "Club     Yeovil Town Yokohama F. Marinos Zagłębie Lubin Zagłębie Sosnowiec   \n",
       "Position                                                                     \n",
       "CAM                0                   3              0                  3   \n",
       "CB                 3                   4              0                  2   \n",
       "CDM                0                   2              2                  2   \n",
       "CF                 0                   0              0                  0   \n",
       "CM                 1                   1              1                  0   \n",
       "\n",
       "                                                                      \n",
       "Club     Çaykur Rizespor Örebro SK Östersunds FK Śląsk Wrocław   All  \n",
       "Position                                                              \n",
       "CAM                    1         0             1             0   633  \n",
       "CB                     2         4             1             1  1403  \n",
       "CDM                    5         0             0             3   691  \n",
       "CF                     0         0             1             0    51  \n",
       "CM                     0         1             3             1  1067  \n",
       "\n",
       "[5 rows x 651 columns]"
      ]
     },
     "metadata": {},
     "output_type": "display_data"
    }
   ],
   "source": [
    "\n",
    "pivot = football.pivot_table(values=['Name'],\n",
    "index=['Position'],\n",
    "columns=['Club'],\n",
    "aggfunc='count',\n",
    "margins=True,\n",
    "fill_value=0)\n",
    "display(pivot.head())"
   ]
  },
  {
   "cell_type": "code",
   "execution_count": 50,
   "metadata": {},
   "outputs": [
    {
     "data": {
      "text/plain": [
       "5.04147465437788"
      ]
     },
     "execution_count": 50,
     "metadata": {},
     "output_type": "execute_result"
    }
   ],
   "source": [
    "pivot.loc['GK']['Name'].mean()#/2#/len(name_list)"
   ]
  },
  {
   "cell_type": "code",
   "execution_count": 51,
   "metadata": {},
   "outputs": [
    {
     "data": {
      "text/plain": [
       "5.04147465437788"
      ]
     },
     "execution_count": 51,
     "metadata": {},
     "output_type": "execute_result"
    }
   ],
   "source": [
    "pivot.loc['GK']['Name'].sum()/len(pivot.loc['GK']['Name'])"
   ]
  },
  {
   "cell_type": "markdown",
   "metadata": {},
   "source": [
    "## Используя таблицу, созданную на предыдущем шаге, определите, сколько клубов не содержат данных о центральных полузащитниках. (CM)"
   ]
  },
  {
   "cell_type": "code",
   "execution_count": 54,
   "metadata": {},
   "outputs": [
    {
     "data": {
      "text/plain": [
       "1       211\n",
       "2       149\n",
       "0       136\n",
       "3        89\n",
       "4        39\n",
       "5        21\n",
       "6         5\n",
       "1067      1\n",
       "Name: CM, dtype: int64"
      ]
     },
     "execution_count": 54,
     "metadata": {},
     "output_type": "execute_result"
    }
   ],
   "source": [
    "pivot.loc['CM']['Name'].value_counts()"
   ]
  },
  {
   "cell_type": "code",
   "execution_count": 55,
   "metadata": {},
   "outputs": [
    {
     "data": {
      "text/plain": [
       "136"
      ]
     },
     "execution_count": 55,
     "metadata": {},
     "output_type": "execute_result"
    }
   ],
   "source": [
    "pivot.loc['CM']['Name'].value_counts()[0] # указывая в скобках имя строки , в данном случае 0"
   ]
  },
  {
   "cell_type": "markdown",
   "metadata": {},
   "source": [
    "# Задачи\n",
    "## 1. С помощью сводной таблицы и функции loc посчитайте, сколько получают (\"Wage\") русские футболисты (\"Russia\"), играющие за ФК \"AS Monaco\". Ответ $61000$\n",
    "## 2. Создайте сводную таблицу, содержащую сведения о средней скорости футболистов, занимающих разные позиции (Position) в разных футбольных клубах (Club). Выпишите первые три позиции игроки котороые обладют наибольше скоростью. Ответ $RS-RM-LM$\n",
    "## 3. Используя таблицу, созданную на предыдущем шаге, отметьте названия трёх клубов, в которых центральные форварды (ST) обладают наибольшей средней скоростью. Ответ $Vitória-Sydney FC-CD Lugo$\n",
    "## 4. Составьте сводную таблицу по трем клубам $'FC Barcelona','Real Madrid','Manchester United'$ количества игроков, возраст которых больше среднего возраста "
   ]
  },
  {
   "cell_type": "markdown",
   "metadata": {},
   "source": [
    "### Задача 1"
   ]
  },
  {
   "cell_type": "code",
   "execution_count": 56,
   "metadata": {
    "scrolled": true
   },
   "outputs": [
    {
     "data": {
      "text/html": [
       "<div>\n",
       "<style scoped>\n",
       "    .dataframe tbody tr th:only-of-type {\n",
       "        vertical-align: middle;\n",
       "    }\n",
       "\n",
       "    .dataframe tbody tr th {\n",
       "        vertical-align: top;\n",
       "    }\n",
       "\n",
       "    .dataframe thead tr th {\n",
       "        text-align: left;\n",
       "    }\n",
       "\n",
       "    .dataframe thead tr:last-of-type th {\n",
       "        text-align: right;\n",
       "    }\n",
       "</style>\n",
       "<table border=\"1\" class=\"dataframe\">\n",
       "  <thead>\n",
       "    <tr>\n",
       "      <th></th>\n",
       "      <th colspan=\"21\" halign=\"left\">Wage</th>\n",
       "    </tr>\n",
       "    <tr>\n",
       "      <th>Club</th>\n",
       "      <th>SSV Jahn Regensburg</th>\n",
       "      <th>1. FC Heidenheim 1846</th>\n",
       "      <th>1. FC Kaiserslautern</th>\n",
       "      <th>1. FC Köln</th>\n",
       "      <th>1. FC Magdeburg</th>\n",
       "      <th>1. FC Nürnberg</th>\n",
       "      <th>1. FC Union Berlin</th>\n",
       "      <th>1. FSV Mainz 05</th>\n",
       "      <th>AC Ajaccio</th>\n",
       "      <th>AC Horsens</th>\n",
       "      <th>...</th>\n",
       "      <th>Yeni Malatyaspor</th>\n",
       "      <th>Yeovil Town</th>\n",
       "      <th>Yokohama F. Marinos</th>\n",
       "      <th>Zagłębie Lubin</th>\n",
       "      <th>Zagłębie Sosnowiec</th>\n",
       "      <th>Çaykur Rizespor</th>\n",
       "      <th>Örebro SK</th>\n",
       "      <th>Östersunds FK</th>\n",
       "      <th>Śląsk Wrocław</th>\n",
       "      <th>All</th>\n",
       "    </tr>\n",
       "    <tr>\n",
       "      <th>Nationality</th>\n",
       "      <th></th>\n",
       "      <th></th>\n",
       "      <th></th>\n",
       "      <th></th>\n",
       "      <th></th>\n",
       "      <th></th>\n",
       "      <th></th>\n",
       "      <th></th>\n",
       "      <th></th>\n",
       "      <th></th>\n",
       "      <th></th>\n",
       "      <th></th>\n",
       "      <th></th>\n",
       "      <th></th>\n",
       "      <th></th>\n",
       "      <th></th>\n",
       "      <th></th>\n",
       "      <th></th>\n",
       "      <th></th>\n",
       "      <th></th>\n",
       "      <th></th>\n",
       "    </tr>\n",
       "  </thead>\n",
       "  <tbody>\n",
       "    <tr>\n",
       "      <th>Afghanistan</th>\n",
       "      <td>0.0</td>\n",
       "      <td>0</td>\n",
       "      <td>0.000000</td>\n",
       "      <td>0.0</td>\n",
       "      <td>0.0</td>\n",
       "      <td>0.000000</td>\n",
       "      <td>0.000000</td>\n",
       "      <td>0.000000</td>\n",
       "      <td>0.000000</td>\n",
       "      <td>0</td>\n",
       "      <td>...</td>\n",
       "      <td>0.000000</td>\n",
       "      <td>0.000000</td>\n",
       "      <td>0</td>\n",
       "      <td>0</td>\n",
       "      <td>0.0</td>\n",
       "      <td>0.000000</td>\n",
       "      <td>0.000000</td>\n",
       "      <td>0.0</td>\n",
       "      <td>0.000000</td>\n",
       "      <td>1250.000000</td>\n",
       "    </tr>\n",
       "    <tr>\n",
       "      <th>Albania</th>\n",
       "      <td>0.0</td>\n",
       "      <td>0</td>\n",
       "      <td>0.000000</td>\n",
       "      <td>0.0</td>\n",
       "      <td>0.0</td>\n",
       "      <td>0.000000</td>\n",
       "      <td>0.000000</td>\n",
       "      <td>0.000000</td>\n",
       "      <td>2000.000000</td>\n",
       "      <td>0</td>\n",
       "      <td>...</td>\n",
       "      <td>0.000000</td>\n",
       "      <td>0.000000</td>\n",
       "      <td>0</td>\n",
       "      <td>0</td>\n",
       "      <td>0.0</td>\n",
       "      <td>0.000000</td>\n",
       "      <td>1000.000000</td>\n",
       "      <td>0.0</td>\n",
       "      <td>0.000000</td>\n",
       "      <td>5931.034483</td>\n",
       "    </tr>\n",
       "    <tr>\n",
       "      <th>Algeria</th>\n",
       "      <td>0.0</td>\n",
       "      <td>0</td>\n",
       "      <td>0.000000</td>\n",
       "      <td>0.0</td>\n",
       "      <td>0.0</td>\n",
       "      <td>0.000000</td>\n",
       "      <td>0.000000</td>\n",
       "      <td>0.000000</td>\n",
       "      <td>0.000000</td>\n",
       "      <td>0</td>\n",
       "      <td>...</td>\n",
       "      <td>0.000000</td>\n",
       "      <td>1000.000000</td>\n",
       "      <td>0</td>\n",
       "      <td>0</td>\n",
       "      <td>0.0</td>\n",
       "      <td>0.000000</td>\n",
       "      <td>0.000000</td>\n",
       "      <td>0.0</td>\n",
       "      <td>0.000000</td>\n",
       "      <td>15810.810811</td>\n",
       "    </tr>\n",
       "    <tr>\n",
       "      <th>Andorra</th>\n",
       "      <td>0.0</td>\n",
       "      <td>0</td>\n",
       "      <td>0.000000</td>\n",
       "      <td>0.0</td>\n",
       "      <td>0.0</td>\n",
       "      <td>0.000000</td>\n",
       "      <td>0.000000</td>\n",
       "      <td>0.000000</td>\n",
       "      <td>0.000000</td>\n",
       "      <td>0</td>\n",
       "      <td>...</td>\n",
       "      <td>0.000000</td>\n",
       "      <td>0.000000</td>\n",
       "      <td>0</td>\n",
       "      <td>0</td>\n",
       "      <td>0.0</td>\n",
       "      <td>0.000000</td>\n",
       "      <td>0.000000</td>\n",
       "      <td>0.0</td>\n",
       "      <td>0.000000</td>\n",
       "      <td>1000.000000</td>\n",
       "    </tr>\n",
       "    <tr>\n",
       "      <th>Angola</th>\n",
       "      <td>0.0</td>\n",
       "      <td>0</td>\n",
       "      <td>0.000000</td>\n",
       "      <td>0.0</td>\n",
       "      <td>0.0</td>\n",
       "      <td>0.000000</td>\n",
       "      <td>0.000000</td>\n",
       "      <td>0.000000</td>\n",
       "      <td>0.000000</td>\n",
       "      <td>0</td>\n",
       "      <td>...</td>\n",
       "      <td>0.000000</td>\n",
       "      <td>0.000000</td>\n",
       "      <td>0</td>\n",
       "      <td>0</td>\n",
       "      <td>1000.0</td>\n",
       "      <td>0.000000</td>\n",
       "      <td>0.000000</td>\n",
       "      <td>0.0</td>\n",
       "      <td>0.000000</td>\n",
       "      <td>7100.000000</td>\n",
       "    </tr>\n",
       "    <tr>\n",
       "      <th>...</th>\n",
       "      <td>...</td>\n",
       "      <td>...</td>\n",
       "      <td>...</td>\n",
       "      <td>...</td>\n",
       "      <td>...</td>\n",
       "      <td>...</td>\n",
       "      <td>...</td>\n",
       "      <td>...</td>\n",
       "      <td>...</td>\n",
       "      <td>...</td>\n",
       "      <td>...</td>\n",
       "      <td>...</td>\n",
       "      <td>...</td>\n",
       "      <td>...</td>\n",
       "      <td>...</td>\n",
       "      <td>...</td>\n",
       "      <td>...</td>\n",
       "      <td>...</td>\n",
       "      <td>...</td>\n",
       "      <td>...</td>\n",
       "      <td>...</td>\n",
       "    </tr>\n",
       "    <tr>\n",
       "      <th>Venezuela</th>\n",
       "      <td>0.0</td>\n",
       "      <td>0</td>\n",
       "      <td>0.000000</td>\n",
       "      <td>0.0</td>\n",
       "      <td>0.0</td>\n",
       "      <td>0.000000</td>\n",
       "      <td>0.000000</td>\n",
       "      <td>0.000000</td>\n",
       "      <td>0.000000</td>\n",
       "      <td>0</td>\n",
       "      <td>...</td>\n",
       "      <td>0.000000</td>\n",
       "      <td>0.000000</td>\n",
       "      <td>0</td>\n",
       "      <td>0</td>\n",
       "      <td>0.0</td>\n",
       "      <td>0.000000</td>\n",
       "      <td>0.000000</td>\n",
       "      <td>0.0</td>\n",
       "      <td>0.000000</td>\n",
       "      <td>6611.111111</td>\n",
       "    </tr>\n",
       "    <tr>\n",
       "      <th>Wales</th>\n",
       "      <td>0.0</td>\n",
       "      <td>0</td>\n",
       "      <td>0.000000</td>\n",
       "      <td>0.0</td>\n",
       "      <td>0.0</td>\n",
       "      <td>0.000000</td>\n",
       "      <td>0.000000</td>\n",
       "      <td>0.000000</td>\n",
       "      <td>0.000000</td>\n",
       "      <td>0</td>\n",
       "      <td>...</td>\n",
       "      <td>0.000000</td>\n",
       "      <td>2000.000000</td>\n",
       "      <td>0</td>\n",
       "      <td>0</td>\n",
       "      <td>0.0</td>\n",
       "      <td>0.000000</td>\n",
       "      <td>0.000000</td>\n",
       "      <td>0.0</td>\n",
       "      <td>0.000000</td>\n",
       "      <td>9529.411765</td>\n",
       "    </tr>\n",
       "    <tr>\n",
       "      <th>Zambia</th>\n",
       "      <td>0.0</td>\n",
       "      <td>0</td>\n",
       "      <td>0.000000</td>\n",
       "      <td>0.0</td>\n",
       "      <td>0.0</td>\n",
       "      <td>0.000000</td>\n",
       "      <td>0.000000</td>\n",
       "      <td>0.000000</td>\n",
       "      <td>0.000000</td>\n",
       "      <td>0</td>\n",
       "      <td>...</td>\n",
       "      <td>0.000000</td>\n",
       "      <td>0.000000</td>\n",
       "      <td>0</td>\n",
       "      <td>0</td>\n",
       "      <td>0.0</td>\n",
       "      <td>0.000000</td>\n",
       "      <td>0.000000</td>\n",
       "      <td>0.0</td>\n",
       "      <td>0.000000</td>\n",
       "      <td>2833.333333</td>\n",
       "    </tr>\n",
       "    <tr>\n",
       "      <th>Zimbabwe</th>\n",
       "      <td>0.0</td>\n",
       "      <td>0</td>\n",
       "      <td>0.000000</td>\n",
       "      <td>0.0</td>\n",
       "      <td>0.0</td>\n",
       "      <td>0.000000</td>\n",
       "      <td>0.000000</td>\n",
       "      <td>0.000000</td>\n",
       "      <td>0.000000</td>\n",
       "      <td>0</td>\n",
       "      <td>...</td>\n",
       "      <td>0.000000</td>\n",
       "      <td>0.000000</td>\n",
       "      <td>0</td>\n",
       "      <td>0</td>\n",
       "      <td>0.0</td>\n",
       "      <td>0.000000</td>\n",
       "      <td>0.000000</td>\n",
       "      <td>0.0</td>\n",
       "      <td>0.000000</td>\n",
       "      <td>5000.000000</td>\n",
       "    </tr>\n",
       "    <tr>\n",
       "      <th>All</th>\n",
       "      <td>3750.0</td>\n",
       "      <td>3800</td>\n",
       "      <td>1434.782609</td>\n",
       "      <td>9200.0</td>\n",
       "      <td>4000.0</td>\n",
       "      <td>7153.846154</td>\n",
       "      <td>8545.454545</td>\n",
       "      <td>11363.636364</td>\n",
       "      <td>2210.526316</td>\n",
       "      <td>2200</td>\n",
       "      <td>...</td>\n",
       "      <td>4318.181818</td>\n",
       "      <td>1857.142857</td>\n",
       "      <td>1500</td>\n",
       "      <td>1680</td>\n",
       "      <td>1080.0</td>\n",
       "      <td>5363.636364</td>\n",
       "      <td>1384.615385</td>\n",
       "      <td>1950.0</td>\n",
       "      <td>2083.333333</td>\n",
       "      <td>7517.562224</td>\n",
       "    </tr>\n",
       "  </tbody>\n",
       "</table>\n",
       "<p>157 rows × 651 columns</p>\n",
       "</div>"
      ],
      "text/plain": [
       "                            Wage                                             \\\n",
       "Club         SSV Jahn Regensburg 1. FC Heidenheim 1846 1. FC Kaiserslautern   \n",
       "Nationality                                                                   \n",
       "Afghanistan                  0.0                     0             0.000000   \n",
       "Albania                      0.0                     0             0.000000   \n",
       "Algeria                      0.0                     0             0.000000   \n",
       "Andorra                      0.0                     0             0.000000   \n",
       "Angola                       0.0                     0             0.000000   \n",
       "...                          ...                   ...                  ...   \n",
       "Venezuela                    0.0                     0             0.000000   \n",
       "Wales                        0.0                     0             0.000000   \n",
       "Zambia                       0.0                     0             0.000000   \n",
       "Zimbabwe                     0.0                     0             0.000000   \n",
       "All                       3750.0                  3800          1434.782609   \n",
       "\n",
       "                                                                          \\\n",
       "Club        1. FC Köln 1. FC Magdeburg 1. FC Nürnberg 1. FC Union Berlin   \n",
       "Nationality                                                                \n",
       "Afghanistan        0.0             0.0       0.000000           0.000000   \n",
       "Albania            0.0             0.0       0.000000           0.000000   \n",
       "Algeria            0.0             0.0       0.000000           0.000000   \n",
       "Andorra            0.0             0.0       0.000000           0.000000   \n",
       "Angola             0.0             0.0       0.000000           0.000000   \n",
       "...                ...             ...            ...                ...   \n",
       "Venezuela          0.0             0.0       0.000000           0.000000   \n",
       "Wales              0.0             0.0       0.000000           0.000000   \n",
       "Zambia             0.0             0.0       0.000000           0.000000   \n",
       "Zimbabwe           0.0             0.0       0.000000           0.000000   \n",
       "All             9200.0          4000.0    7153.846154        8545.454545   \n",
       "\n",
       "                                                     ...                   \\\n",
       "Club        1. FSV Mainz 05   AC Ajaccio AC Horsens  ... Yeni Malatyaspor   \n",
       "Nationality                                          ...                    \n",
       "Afghanistan        0.000000     0.000000          0  ...         0.000000   \n",
       "Albania            0.000000  2000.000000          0  ...         0.000000   \n",
       "Algeria            0.000000     0.000000          0  ...         0.000000   \n",
       "Andorra            0.000000     0.000000          0  ...         0.000000   \n",
       "Angola             0.000000     0.000000          0  ...         0.000000   \n",
       "...                     ...          ...        ...  ...              ...   \n",
       "Venezuela          0.000000     0.000000          0  ...         0.000000   \n",
       "Wales              0.000000     0.000000          0  ...         0.000000   \n",
       "Zambia             0.000000     0.000000          0  ...         0.000000   \n",
       "Zimbabwe           0.000000     0.000000          0  ...         0.000000   \n",
       "All            11363.636364  2210.526316       2200  ...      4318.181818   \n",
       "\n",
       "                                                             \\\n",
       "Club         Yeovil Town Yokohama F. Marinos Zagłębie Lubin   \n",
       "Nationality                                                   \n",
       "Afghanistan     0.000000                   0              0   \n",
       "Albania         0.000000                   0              0   \n",
       "Algeria      1000.000000                   0              0   \n",
       "Andorra         0.000000                   0              0   \n",
       "Angola          0.000000                   0              0   \n",
       "...                  ...                 ...            ...   \n",
       "Venezuela       0.000000                   0              0   \n",
       "Wales        2000.000000                   0              0   \n",
       "Zambia          0.000000                   0              0   \n",
       "Zimbabwe        0.000000                   0              0   \n",
       "All          1857.142857                1500           1680   \n",
       "\n",
       "                                                                           \\\n",
       "Club        Zagłębie Sosnowiec Çaykur Rizespor    Örebro SK Östersunds FK   \n",
       "Nationality                                                                 \n",
       "Afghanistan                0.0        0.000000     0.000000           0.0   \n",
       "Albania                    0.0        0.000000  1000.000000           0.0   \n",
       "Algeria                    0.0        0.000000     0.000000           0.0   \n",
       "Andorra                    0.0        0.000000     0.000000           0.0   \n",
       "Angola                  1000.0        0.000000     0.000000           0.0   \n",
       "...                        ...             ...          ...           ...   \n",
       "Venezuela                  0.0        0.000000     0.000000           0.0   \n",
       "Wales                      0.0        0.000000     0.000000           0.0   \n",
       "Zambia                     0.0        0.000000     0.000000           0.0   \n",
       "Zimbabwe                   0.0        0.000000     0.000000           0.0   \n",
       "All                     1080.0     5363.636364  1384.615385        1950.0   \n",
       "\n",
       "                                         \n",
       "Club        Śląsk Wrocław           All  \n",
       "Nationality                              \n",
       "Afghanistan      0.000000   1250.000000  \n",
       "Albania          0.000000   5931.034483  \n",
       "Algeria          0.000000  15810.810811  \n",
       "Andorra          0.000000   1000.000000  \n",
       "Angola           0.000000   7100.000000  \n",
       "...                   ...           ...  \n",
       "Venezuela        0.000000   6611.111111  \n",
       "Wales            0.000000   9529.411765  \n",
       "Zambia           0.000000   2833.333333  \n",
       "Zimbabwe         0.000000   5000.000000  \n",
       "All           2083.333333   7517.562224  \n",
       "\n",
       "[157 rows x 651 columns]"
      ]
     },
     "metadata": {},
     "output_type": "display_data"
    }
   ],
   "source": [
    "pivot = football.pivot_table(values=['Wage'],\n",
    "index=['Nationality'],\n",
    "columns=['Club'],\n",
    "aggfunc='mean',\n",
    "margins=True,\n",
    "fill_value=0)\n",
    "display(pivot)"
   ]
  },
  {
   "cell_type": "code",
   "execution_count": 57,
   "metadata": {},
   "outputs": [
    {
     "data": {
      "text/plain": [
       "61000.0"
      ]
     },
     "execution_count": 57,
     "metadata": {},
     "output_type": "execute_result"
    }
   ],
   "source": [
    "pivot.loc['Russia']['Wage']['AS Monaco']"
   ]
  },
  {
   "cell_type": "markdown",
   "metadata": {},
   "source": [
    "### Задача 2"
   ]
  },
  {
   "cell_type": "code",
   "execution_count": 58,
   "metadata": {},
   "outputs": [
    {
     "data": {
      "text/plain": [
       "Position\n",
       "RS     94.0\n",
       "RM     94.0\n",
       "LM     94.0\n",
       "LS     93.0\n",
       "RB     93.0\n",
       "LB     93.0\n",
       "CF     91.0\n",
       "LW     91.0\n",
       "ST     91.0\n",
       "RDM    91.0\n",
       "RW     91.0\n",
       "RCM    90.0\n",
       "CAM    89.0\n",
       "LF     88.0\n",
       "RCB    88.0\n",
       "LCB    88.0\n",
       "RWB    86.0\n",
       "RF     86.0\n",
       "CM     86.0\n",
       "LWB    86.0\n",
       "LAM    85.0\n",
       "LCM    84.0\n",
       "CDM    83.0\n",
       "LDM    79.0\n",
       "RAM    78.0\n",
       "CB     78.0\n",
       "GK     62.0\n",
       "dtype: float64"
      ]
     },
     "metadata": {},
     "output_type": "display_data"
    }
   ],
   "source": [
    "df2 = football.pivot_table(columns = 'Position', index = 'Club',\n",
    "                           values = 'SprintSpeed', aggfunc = 'mean').max().sort_values(ascending=False)\n",
    "display(df2)"
   ]
  },
  {
   "cell_type": "markdown",
   "metadata": {},
   "source": [
    "### Задача 3"
   ]
  },
  {
   "cell_type": "code",
   "execution_count": 59,
   "metadata": {
    "scrolled": false
   },
   "outputs": [
    {
     "data": {
      "text/plain": [
       "Club\n",
       "Vitória            91.000000\n",
       "Sydney FC          88.000000\n",
       "CD Lugo            87.000000\n",
       "Brøndby IF         84.666667\n",
       "Leicester City     84.500000\n",
       "                     ...    \n",
       "Valencia CF              NaN\n",
       "VfL Bochum 1848          NaN\n",
       "VfL Wolfsburg            NaN\n",
       "Waterford FC             NaN\n",
       "Wigan Athletic           NaN\n",
       "Name: ST, Length: 650, dtype: float64"
      ]
     },
     "metadata": {},
     "output_type": "display_data"
    }
   ],
   "source": [
    "df2 = football.pivot_table(columns = 'Position', index = 'Club', values = 'SprintSpeed', aggfunc = 'mean')\n",
    "display(df2['ST'].sort_values(ascending=False))"
   ]
  },
  {
   "cell_type": "code",
   "execution_count": 68,
   "metadata": {},
   "outputs": [
    {
     "data": {
      "text/html": [
       "<div>\n",
       "<style scoped>\n",
       "    .dataframe tbody tr th:only-of-type {\n",
       "        vertical-align: middle;\n",
       "    }\n",
       "\n",
       "    .dataframe tbody tr th {\n",
       "        vertical-align: top;\n",
       "    }\n",
       "\n",
       "    .dataframe thead th {\n",
       "        text-align: right;\n",
       "    }\n",
       "</style>\n",
       "<table border=\"1\" class=\"dataframe\">\n",
       "  <thead>\n",
       "    <tr style=\"text-align: right;\">\n",
       "      <th></th>\n",
       "      <th>Unnamed: 0</th>\n",
       "      <th>Name</th>\n",
       "      <th>Age</th>\n",
       "      <th>Nationality</th>\n",
       "      <th>Club</th>\n",
       "      <th>Value</th>\n",
       "      <th>Wage</th>\n",
       "      <th>Position</th>\n",
       "      <th>Crossing</th>\n",
       "      <th>Finishing</th>\n",
       "      <th>...</th>\n",
       "      <th>Penalties</th>\n",
       "      <th>Composure</th>\n",
       "      <th>Marking</th>\n",
       "      <th>StandingTackle</th>\n",
       "      <th>SlidingTackle</th>\n",
       "      <th>GKDiving</th>\n",
       "      <th>GKHandling</th>\n",
       "      <th>GKKicking</th>\n",
       "      <th>GKPositioning</th>\n",
       "      <th>GKReflexes</th>\n",
       "    </tr>\n",
       "  </thead>\n",
       "  <tbody>\n",
       "    <tr>\n",
       "      <th>1628</th>\n",
       "      <td>1695</td>\n",
       "      <td>O. Pérez</td>\n",
       "      <td>45</td>\n",
       "      <td>Mexico</td>\n",
       "      <td>Pachuca</td>\n",
       "      <td>1300000</td>\n",
       "      <td>8000</td>\n",
       "      <td>GK</td>\n",
       "      <td>19</td>\n",
       "      <td>14</td>\n",
       "      <td>...</td>\n",
       "      <td>23</td>\n",
       "      <td>62</td>\n",
       "      <td>23</td>\n",
       "      <td>12</td>\n",
       "      <td>11</td>\n",
       "      <td>70</td>\n",
       "      <td>64</td>\n",
       "      <td>65</td>\n",
       "      <td>73</td>\n",
       "      <td>74</td>\n",
       "    </tr>\n",
       "    <tr>\n",
       "      <th>5394</th>\n",
       "      <td>5556</td>\n",
       "      <td>S. Narazaki</td>\n",
       "      <td>42</td>\n",
       "      <td>Japan</td>\n",
       "      <td>Nagoya Grampus</td>\n",
       "      <td>40000</td>\n",
       "      <td>1000</td>\n",
       "      <td>GK</td>\n",
       "      <td>23</td>\n",
       "      <td>11</td>\n",
       "      <td>...</td>\n",
       "      <td>11</td>\n",
       "      <td>45</td>\n",
       "      <td>27</td>\n",
       "      <td>24</td>\n",
       "      <td>22</td>\n",
       "      <td>64</td>\n",
       "      <td>63</td>\n",
       "      <td>62</td>\n",
       "      <td>67</td>\n",
       "      <td>63</td>\n",
       "    </tr>\n",
       "    <tr>\n",
       "      <th>12422</th>\n",
       "      <td>12651</td>\n",
       "      <td>T. Warner</td>\n",
       "      <td>44</td>\n",
       "      <td>Trinidad &amp; Tobago</td>\n",
       "      <td>Accrington Stanley</td>\n",
       "      <td>0</td>\n",
       "      <td>1000</td>\n",
       "      <td>GK</td>\n",
       "      <td>19</td>\n",
       "      <td>13</td>\n",
       "      <td>...</td>\n",
       "      <td>17</td>\n",
       "      <td>46</td>\n",
       "      <td>19</td>\n",
       "      <td>15</td>\n",
       "      <td>14</td>\n",
       "      <td>48</td>\n",
       "      <td>56</td>\n",
       "      <td>56</td>\n",
       "      <td>60</td>\n",
       "      <td>44</td>\n",
       "    </tr>\n",
       "    <tr>\n",
       "      <th>12873</th>\n",
       "      <td>13102</td>\n",
       "      <td>K. Pilkington</td>\n",
       "      <td>44</td>\n",
       "      <td>England</td>\n",
       "      <td>Cambridge United</td>\n",
       "      <td>0</td>\n",
       "      <td>1000</td>\n",
       "      <td>GK</td>\n",
       "      <td>11</td>\n",
       "      <td>12</td>\n",
       "      <td>...</td>\n",
       "      <td>22</td>\n",
       "      <td>56</td>\n",
       "      <td>15</td>\n",
       "      <td>15</td>\n",
       "      <td>13</td>\n",
       "      <td>45</td>\n",
       "      <td>48</td>\n",
       "      <td>44</td>\n",
       "      <td>49</td>\n",
       "      <td>46</td>\n",
       "    </tr>\n",
       "  </tbody>\n",
       "</table>\n",
       "<p>4 rows × 42 columns</p>\n",
       "</div>"
      ],
      "text/plain": [
       "       Unnamed: 0           Name  Age        Nationality                Club  \\\n",
       "1628         1695       O. Pérez   45             Mexico             Pachuca   \n",
       "5394         5556    S. Narazaki   42              Japan      Nagoya Grampus   \n",
       "12422       12651      T. Warner   44  Trinidad & Tobago  Accrington Stanley   \n",
       "12873       13102  K. Pilkington   44            England    Cambridge United   \n",
       "\n",
       "         Value  Wage Position  Crossing  Finishing  ...  Penalties  Composure  \\\n",
       "1628   1300000  8000       GK        19         14  ...         23         62   \n",
       "5394     40000  1000       GK        23         11  ...         11         45   \n",
       "12422        0  1000       GK        19         13  ...         17         46   \n",
       "12873        0  1000       GK        11         12  ...         22         56   \n",
       "\n",
       "       Marking  StandingTackle  SlidingTackle  GKDiving  GKHandling  \\\n",
       "1628        23              12             11        70          64   \n",
       "5394        27              24             22        64          63   \n",
       "12422       19              15             14        48          56   \n",
       "12873       15              15             13        45          48   \n",
       "\n",
       "       GKKicking  GKPositioning  GKReflexes  \n",
       "1628          65             73          74  \n",
       "5394          62             67          63  \n",
       "12422         56             60          44  \n",
       "12873         44             49          46  \n",
       "\n",
       "[4 rows x 42 columns]"
      ]
     },
     "execution_count": 68,
     "metadata": {},
     "output_type": "execute_result"
    }
   ],
   "source": [
    "football[football.Age>41]"
   ]
  },
  {
   "cell_type": "markdown",
   "metadata": {},
   "source": [
    "### Задача 4"
   ]
  },
  {
   "cell_type": "code",
   "execution_count": 71,
   "metadata": {},
   "outputs": [
    {
     "data": {
      "text/html": [
       "<div>\n",
       "<style scoped>\n",
       "    .dataframe tbody tr th:only-of-type {\n",
       "        vertical-align: middle;\n",
       "    }\n",
       "\n",
       "    .dataframe tbody tr th {\n",
       "        vertical-align: top;\n",
       "    }\n",
       "\n",
       "    .dataframe thead tr th {\n",
       "        text-align: left;\n",
       "    }\n",
       "\n",
       "    .dataframe thead tr:last-of-type th {\n",
       "        text-align: right;\n",
       "    }\n",
       "</style>\n",
       "<table border=\"1\" class=\"dataframe\">\n",
       "  <thead>\n",
       "    <tr>\n",
       "      <th></th>\n",
       "      <th colspan=\"4\" halign=\"left\">Name</th>\n",
       "    </tr>\n",
       "    <tr>\n",
       "      <th>Club</th>\n",
       "      <th>FC Barcelona</th>\n",
       "      <th>Manchester United</th>\n",
       "      <th>Real Madrid</th>\n",
       "      <th>All</th>\n",
       "    </tr>\n",
       "    <tr>\n",
       "      <th>Nationality</th>\n",
       "      <th></th>\n",
       "      <th></th>\n",
       "      <th></th>\n",
       "      <th></th>\n",
       "    </tr>\n",
       "  </thead>\n",
       "  <tbody>\n",
       "    <tr>\n",
       "      <th>Argentina</th>\n",
       "      <td>1.0</td>\n",
       "      <td>2.0</td>\n",
       "      <td>NaN</td>\n",
       "      <td>3</td>\n",
       "    </tr>\n",
       "    <tr>\n",
       "      <th>Belgium</th>\n",
       "      <td>1.0</td>\n",
       "      <td>1.0</td>\n",
       "      <td>1.0</td>\n",
       "      <td>3</td>\n",
       "    </tr>\n",
       "    <tr>\n",
       "      <th>Brazil</th>\n",
       "      <td>1.0</td>\n",
       "      <td>NaN</td>\n",
       "      <td>2.0</td>\n",
       "      <td>3</td>\n",
       "    </tr>\n",
       "    <tr>\n",
       "      <th>Chile</th>\n",
       "      <td>1.0</td>\n",
       "      <td>1.0</td>\n",
       "      <td>NaN</td>\n",
       "      <td>2</td>\n",
       "    </tr>\n",
       "    <tr>\n",
       "      <th>Costa Rica</th>\n",
       "      <td>NaN</td>\n",
       "      <td>NaN</td>\n",
       "      <td>1.0</td>\n",
       "      <td>1</td>\n",
       "    </tr>\n",
       "    <tr>\n",
       "      <th>Croatia</th>\n",
       "      <td>1.0</td>\n",
       "      <td>NaN</td>\n",
       "      <td>1.0</td>\n",
       "      <td>2</td>\n",
       "    </tr>\n",
       "    <tr>\n",
       "      <th>Ecuador</th>\n",
       "      <td>NaN</td>\n",
       "      <td>1.0</td>\n",
       "      <td>NaN</td>\n",
       "      <td>1</td>\n",
       "    </tr>\n",
       "    <tr>\n",
       "      <th>England</th>\n",
       "      <td>NaN</td>\n",
       "      <td>3.0</td>\n",
       "      <td>NaN</td>\n",
       "      <td>3</td>\n",
       "    </tr>\n",
       "    <tr>\n",
       "      <th>France</th>\n",
       "      <td>NaN</td>\n",
       "      <td>1.0</td>\n",
       "      <td>2.0</td>\n",
       "      <td>3</td>\n",
       "    </tr>\n",
       "    <tr>\n",
       "      <th>Germany</th>\n",
       "      <td>1.0</td>\n",
       "      <td>NaN</td>\n",
       "      <td>1.0</td>\n",
       "      <td>2</td>\n",
       "    </tr>\n",
       "    <tr>\n",
       "      <th>Italy</th>\n",
       "      <td>NaN</td>\n",
       "      <td>1.0</td>\n",
       "      <td>NaN</td>\n",
       "      <td>1</td>\n",
       "    </tr>\n",
       "    <tr>\n",
       "      <th>Netherlands</th>\n",
       "      <td>1.0</td>\n",
       "      <td>NaN</td>\n",
       "      <td>NaN</td>\n",
       "      <td>1</td>\n",
       "    </tr>\n",
       "    <tr>\n",
       "      <th>Serbia</th>\n",
       "      <td>NaN</td>\n",
       "      <td>1.0</td>\n",
       "      <td>NaN</td>\n",
       "      <td>1</td>\n",
       "    </tr>\n",
       "    <tr>\n",
       "      <th>Spain</th>\n",
       "      <td>3.0</td>\n",
       "      <td>1.0</td>\n",
       "      <td>3.0</td>\n",
       "      <td>7</td>\n",
       "    </tr>\n",
       "    <tr>\n",
       "      <th>Uruguay</th>\n",
       "      <td>1.0</td>\n",
       "      <td>NaN</td>\n",
       "      <td>NaN</td>\n",
       "      <td>1</td>\n",
       "    </tr>\n",
       "    <tr>\n",
       "      <th>Wales</th>\n",
       "      <td>NaN</td>\n",
       "      <td>NaN</td>\n",
       "      <td>1.0</td>\n",
       "      <td>1</td>\n",
       "    </tr>\n",
       "    <tr>\n",
       "      <th>All</th>\n",
       "      <td>11.0</td>\n",
       "      <td>12.0</td>\n",
       "      <td>12.0</td>\n",
       "      <td>35</td>\n",
       "    </tr>\n",
       "  </tbody>\n",
       "</table>\n",
       "</div>"
      ],
      "text/plain": [
       "                    Name                                  \n",
       "Club        FC Barcelona Manchester United Real Madrid All\n",
       "Nationality                                               \n",
       "Argentina            1.0               2.0         NaN   3\n",
       "Belgium              1.0               1.0         1.0   3\n",
       "Brazil               1.0               NaN         2.0   3\n",
       "Chile                1.0               1.0         NaN   2\n",
       "Costa Rica           NaN               NaN         1.0   1\n",
       "Croatia              1.0               NaN         1.0   2\n",
       "Ecuador              NaN               1.0         NaN   1\n",
       "England              NaN               3.0         NaN   3\n",
       "France               NaN               1.0         2.0   3\n",
       "Germany              1.0               NaN         1.0   2\n",
       "Italy                NaN               1.0         NaN   1\n",
       "Netherlands          1.0               NaN         NaN   1\n",
       "Serbia               NaN               1.0         NaN   1\n",
       "Spain                3.0               1.0         3.0   7\n",
       "Uruguay              1.0               NaN         NaN   1\n",
       "Wales                NaN               NaN         1.0   1\n",
       "All                 11.0              12.0        12.0  35"
      ]
     },
     "metadata": {},
     "output_type": "display_data"
    }
   ],
   "source": [
    "pivot = football[football.Age>football.Age.mean()].loc[football['Club'].isin(['FC Barcelona','Real Madrid',\n",
    "                                'Manchester United'])].pivot_table(values=['Name'],\n",
    "index=['Nationality'],\n",
    "columns=['Club'],\n",
    "aggfunc='count',\n",
    "margins=True)\n",
    "display(pivot)"
   ]
  },
  {
   "cell_type": "markdown",
   "metadata": {},
   "source": [
    "# Предобработка данных\n",
    "\n",
    "«Сырые» данные, с которыми работает аналитик, всегда нужно предобработать. Данные в исходном виде практически всегда содержат:\n",
    "\n",
    "        ошибки ввода,\n",
    "        технические ошибки,\n",
    "        пропущенные значения,\n",
    "        дубликаты,\n",
    "        информационный шум и ненужную информацию.\n",
    "\n",
    "Все эти причины не позволяют извлечь полезную информацию из данных, поэтому предобработка — важная часть работы аналитика и data scientist'а, занимающая порой больше времени, чем сам анализ. Предоработку данных можно сравнить с подготовкой к длинному путешествию: покупка билетов и бронь отеля, маршруты, сбор вещей — всё это скучная, но важная часть путешествия. Если её сделать неправильно и не вовремя, то само путешествие может провалиться"
   ]
  },
  {
   "cell_type": "code",
   "execution_count": 1,
   "metadata": {},
   "outputs": [],
   "source": [
    "import pandas as pd # импорт библиотеки Пандас"
   ]
  },
  {
   "cell_type": "markdown",
   "metadata": {},
   "source": [
    "Параметры pd.read_csv\n",
    "\n",
    "        header = None — загрузить без строки с заголовком,\n",
    "        skiprows=n — пропустить n строк (часто у документов бывает техническая «шапка»),\n",
    "        encoding — загрузить в конкретной кодировке,\n",
    "        na_values — список значений, который нужно заменить на NaN (специальный объект, обозначающий\n",
    "        пропущенное  значение)."
   ]
  },
  {
   "cell_type": "code",
   "execution_count": 3,
   "metadata": {
    "scrolled": true
   },
   "outputs": [
    {
     "data": {
      "text/html": [
       "<div>\n",
       "<style scoped>\n",
       "    .dataframe tbody tr th:only-of-type {\n",
       "        vertical-align: middle;\n",
       "    }\n",
       "\n",
       "    .dataframe tbody tr th {\n",
       "        vertical-align: top;\n",
       "    }\n",
       "\n",
       "    .dataframe thead th {\n",
       "        text-align: right;\n",
       "    }\n",
       "</style>\n",
       "<table border=\"1\" class=\"dataframe\">\n",
       "  <thead>\n",
       "    <tr style=\"text-align: right;\">\n",
       "      <th></th>\n",
       "      <th>user_id</th>\n",
       "      <th>email</th>\n",
       "      <th>geo</th>\n",
       "    </tr>\n",
       "  </thead>\n",
       "  <tbody>\n",
       "    <tr>\n",
       "      <th>0</th>\n",
       "      <td>User_943</td>\n",
       "      <td>Accumanst@gmail.com</td>\n",
       "      <td>Ижевск</td>\n",
       "    </tr>\n",
       "    <tr>\n",
       "      <th>1</th>\n",
       "      <td>User_908</td>\n",
       "      <td>Advismowr@mail.ru</td>\n",
       "      <td>Ижевск</td>\n",
       "    </tr>\n",
       "    <tr>\n",
       "      <th>2</th>\n",
       "      <td>User_962</td>\n",
       "      <td>Anachso@ukr.net</td>\n",
       "      <td>Краснодар</td>\n",
       "    </tr>\n",
       "    <tr>\n",
       "      <th>3</th>\n",
       "      <td>User_973</td>\n",
       "      <td>Antecia@inbox.ru</td>\n",
       "      <td>Пермь</td>\n",
       "    </tr>\n",
       "    <tr>\n",
       "      <th>4</th>\n",
       "      <td>User_902</td>\n",
       "      <td>Balliaryva@ukr.net</td>\n",
       "      <td>NaN</td>\n",
       "    </tr>\n",
       "    <tr>\n",
       "      <th>...</th>\n",
       "      <td>...</td>\n",
       "      <td>...</td>\n",
       "      <td>...</td>\n",
       "    </tr>\n",
       "    <tr>\n",
       "      <th>95</th>\n",
       "      <td>User_959</td>\n",
       "      <td>UpdatesCurious@yahoo.com</td>\n",
       "      <td>Тюмень</td>\n",
       "    </tr>\n",
       "    <tr>\n",
       "      <th>96</th>\n",
       "      <td>User_901</td>\n",
       "      <td>V2artierso@mail.ru</td>\n",
       "      <td>Арзангелтск</td>\n",
       "    </tr>\n",
       "    <tr>\n",
       "      <th>97</th>\n",
       "      <td>User_970</td>\n",
       "      <td>Vashoterlo@bk.ru</td>\n",
       "      <td>Воронеж</td>\n",
       "    </tr>\n",
       "    <tr>\n",
       "      <th>98</th>\n",
       "      <td>User_965</td>\n",
       "      <td>Visuareda@yahoo.com</td>\n",
       "      <td>Воронеж</td>\n",
       "    </tr>\n",
       "    <tr>\n",
       "      <th>99</th>\n",
       "      <td>User_921</td>\n",
       "      <td>Aavast@ya.ru</td>\n",
       "      <td>Ижевск</td>\n",
       "    </tr>\n",
       "  </tbody>\n",
       "</table>\n",
       "<p>100 rows × 3 columns</p>\n",
       "</div>"
      ],
      "text/plain": [
       "     user_id                     email          geo\n",
       "0   User_943       Accumanst@gmail.com       Ижевск\n",
       "1   User_908         Advismowr@mail.ru       Ижевск\n",
       "2   User_962           Anachso@ukr.net    Краснодар\n",
       "3   User_973          Antecia@inbox.ru        Пермь\n",
       "4   User_902        Balliaryva@ukr.net          NaN\n",
       "..       ...                       ...          ...\n",
       "95  User_959  UpdatesCurious@yahoo.com       Тюмень\n",
       "96  User_901        V2artierso@mail.ru  Арзангелтск\n",
       "97  User_970          Vashoterlo@bk.ru      Воронеж\n",
       "98  User_965       Visuareda@yahoo.com      Воронеж\n",
       "99  User_921              Aavast@ya.ru       Ижевск\n",
       "\n",
       "[100 rows x 3 columns]"
      ]
     },
     "execution_count": 3,
     "metadata": {},
     "output_type": "execute_result"
    }
   ],
   "source": [
    "users = pd.read_csv('users.csv',sep='\\t',encoding='KOI8-R')\n",
    "users.columns =['user_id','email','geo']\n",
    "users"
   ]
  },
  {
   "cell_type": "code",
   "execution_count": 9,
   "metadata": {},
   "outputs": [
    {
     "data": {
      "text/html": [
       "<div>\n",
       "<style scoped>\n",
       "    .dataframe tbody tr th:only-of-type {\n",
       "        vertical-align: middle;\n",
       "    }\n",
       "\n",
       "    .dataframe tbody tr th {\n",
       "        vertical-align: top;\n",
       "    }\n",
       "\n",
       "    .dataframe thead th {\n",
       "        text-align: right;\n",
       "    }\n",
       "</style>\n",
       "<table border=\"1\" class=\"dataframe\">\n",
       "  <thead>\n",
       "    <tr style=\"text-align: right;\">\n",
       "      <th></th>\n",
       "      <th>user_id</th>\n",
       "      <th>time</th>\n",
       "      <th>bet</th>\n",
       "      <th>win</th>\n",
       "    </tr>\n",
       "  </thead>\n",
       "  <tbody>\n",
       "    <tr>\n",
       "      <th>0</th>\n",
       "      <td>Запись пользователя № - user_919</td>\n",
       "      <td>[2019-01-01 14:06:51</td>\n",
       "      <td>NaN</td>\n",
       "      <td>NaN</td>\n",
       "    </tr>\n",
       "    <tr>\n",
       "      <th>1</th>\n",
       "      <td>Запись пользователя № - user_973</td>\n",
       "      <td>[2019-01-01 14:51:16</td>\n",
       "      <td>NaN</td>\n",
       "      <td>NaN</td>\n",
       "    </tr>\n",
       "    <tr>\n",
       "      <th>2</th>\n",
       "      <td>Запись пользователя № - user_903</td>\n",
       "      <td>[2019-01-01 16:31:16</td>\n",
       "      <td>NaN</td>\n",
       "      <td>NaN</td>\n",
       "    </tr>\n",
       "    <tr>\n",
       "      <th>3</th>\n",
       "      <td>Запись пользователя № - user_954</td>\n",
       "      <td>[2019-01-01 17:17:51</td>\n",
       "      <td>NaN</td>\n",
       "      <td>NaN</td>\n",
       "    </tr>\n",
       "    <tr>\n",
       "      <th>4</th>\n",
       "      <td>Запись пользователя № - user_954</td>\n",
       "      <td>[2019-01-01 21:31:18</td>\n",
       "      <td>NaN</td>\n",
       "      <td>NaN</td>\n",
       "    </tr>\n",
       "    <tr>\n",
       "      <th>...</th>\n",
       "      <td>...</td>\n",
       "      <td>...</td>\n",
       "      <td>...</td>\n",
       "      <td>...</td>\n",
       "    </tr>\n",
       "    <tr>\n",
       "      <th>995</th>\n",
       "      <td>Запись пользователя № - user_984</td>\n",
       "      <td>[2019-04-20 9:59:58</td>\n",
       "      <td>9754.0</td>\n",
       "      <td>NaN</td>\n",
       "    </tr>\n",
       "    <tr>\n",
       "      <th>996</th>\n",
       "      <td>#error</td>\n",
       "      <td>NaN</td>\n",
       "      <td>10054.0</td>\n",
       "      <td>29265.0</td>\n",
       "    </tr>\n",
       "    <tr>\n",
       "      <th>997</th>\n",
       "      <td>#error</td>\n",
       "      <td>NaN</td>\n",
       "      <td>10454.0</td>\n",
       "      <td>NaN</td>\n",
       "    </tr>\n",
       "    <tr>\n",
       "      <th>998</th>\n",
       "      <td>#error</td>\n",
       "      <td>NaN</td>\n",
       "      <td>1000.0</td>\n",
       "      <td>NaN</td>\n",
       "    </tr>\n",
       "    <tr>\n",
       "      <th>999</th>\n",
       "      <td>#error</td>\n",
       "      <td>NaN</td>\n",
       "      <td>10754.0</td>\n",
       "      <td>NaN</td>\n",
       "    </tr>\n",
       "  </tbody>\n",
       "</table>\n",
       "<p>1000 rows × 4 columns</p>\n",
       "</div>"
      ],
      "text/plain": [
       "                              user_id                  time      bet      win\n",
       "0    Запись пользователя № - user_919  [2019-01-01 14:06:51      NaN      NaN\n",
       "1    Запись пользователя № - user_973  [2019-01-01 14:51:16      NaN      NaN\n",
       "2    Запись пользователя № - user_903  [2019-01-01 16:31:16      NaN      NaN\n",
       "3    Запись пользователя № - user_954  [2019-01-01 17:17:51      NaN      NaN\n",
       "4    Запись пользователя № - user_954  [2019-01-01 21:31:18      NaN      NaN\n",
       "..                                ...                   ...      ...      ...\n",
       "995  Запись пользователя № - user_984   [2019-04-20 9:59:58   9754.0      NaN\n",
       "996                            #error                   NaN  10054.0  29265.0\n",
       "997                            #error                   NaN  10454.0      NaN\n",
       "998                            #error                   NaN   1000.0      NaN\n",
       "999                            #error                   NaN  10754.0      NaN\n",
       "\n",
       "[1000 rows x 4 columns]"
      ]
     },
     "execution_count": 9,
     "metadata": {},
     "output_type": "execute_result"
    }
   ],
   "source": [
    "log = pd.read_csv(\"log.csv\",header=None)\n",
    "log.columns = ['user_id','time', 'bet','win']\n",
    "log"
   ]
  },
  {
   "cell_type": "markdown",
   "metadata": {},
   "source": [
    "# Функция $query$\n",
    "\n",
    "### $Pandas$ помогает фильтровать значения без создания циклов, главное — сформулировать, что именно ты ищешь. Наиболее мощный и удобный способ проводить фильтрацию — использовать функцию $query$. Она позволяет писать сложные запросы к датафрейму."
   ]
  },
  {
   "cell_type": "code",
   "execution_count": 4,
   "metadata": {},
   "outputs": [
    {
     "data": {
      "text/html": [
       "<div>\n",
       "<style scoped>\n",
       "    .dataframe tbody tr th:only-of-type {\n",
       "        vertical-align: middle;\n",
       "    }\n",
       "\n",
       "    .dataframe tbody tr th {\n",
       "        vertical-align: top;\n",
       "    }\n",
       "\n",
       "    .dataframe thead th {\n",
       "        text-align: right;\n",
       "    }\n",
       "</style>\n",
       "<table border=\"1\" class=\"dataframe\">\n",
       "  <thead>\n",
       "    <tr style=\"text-align: right;\">\n",
       "      <th></th>\n",
       "      <th>Name</th>\n",
       "      <th>City</th>\n",
       "      <th>Age</th>\n",
       "      <th>Profession</th>\n",
       "    </tr>\n",
       "  </thead>\n",
       "  <tbody>\n",
       "    <tr>\n",
       "      <th>0</th>\n",
       "      <td>Иванов</td>\n",
       "      <td>Москва</td>\n",
       "      <td>25</td>\n",
       "      <td>Клинер</td>\n",
       "    </tr>\n",
       "    <tr>\n",
       "      <th>1</th>\n",
       "      <td>NaN</td>\n",
       "      <td>Волгоград</td>\n",
       "      <td>31</td>\n",
       "      <td>Менеджер</td>\n",
       "    </tr>\n",
       "    <tr>\n",
       "      <th>2</th>\n",
       "      <td>Иванов</td>\n",
       "      <td>Москва</td>\n",
       "      <td>25</td>\n",
       "      <td>Клинер</td>\n",
       "    </tr>\n",
       "    <tr>\n",
       "      <th>3</th>\n",
       "      <td>sidorov</td>\n",
       "      <td>Владивосток</td>\n",
       "      <td>43</td>\n",
       "      <td>Менеджер</td>\n",
       "    </tr>\n",
       "    <tr>\n",
       "      <th>4</th>\n",
       "      <td>_______</td>\n",
       "      <td>Курск</td>\n",
       "      <td>50</td>\n",
       "      <td>Водитель</td>\n",
       "    </tr>\n",
       "    <tr>\n",
       "      <th>6</th>\n",
       "      <td>Сажин</td>\n",
       "      <td>Сургут</td>\n",
       "      <td>29</td>\n",
       "      <td>Рабочий</td>\n",
       "    </tr>\n",
       "    <tr>\n",
       "      <th>7</th>\n",
       "      <td>Котлеревский</td>\n",
       "      <td>Йошкар-Ола</td>\n",
       "      <td>32</td>\n",
       "      <td>Рабочий</td>\n",
       "    </tr>\n",
       "    <tr>\n",
       "      <th>8</th>\n",
       "      <td>Завалишина</td>\n",
       "      <td>Чебоксары</td>\n",
       "      <td>36</td>\n",
       "      <td>Менеджер</td>\n",
       "    </tr>\n",
       "    <tr>\n",
       "      <th>9</th>\n",
       "      <td>Левина</td>\n",
       "      <td>NaN</td>\n",
       "      <td>55</td>\n",
       "      <td>Рабочий</td>\n",
       "    </tr>\n",
       "    <tr>\n",
       "      <th>10</th>\n",
       "      <td>Фикс</td>\n",
       "      <td>Рига</td>\n",
       "      <td>42</td>\n",
       "      <td>Рабочий</td>\n",
       "    </tr>\n",
       "  </tbody>\n",
       "</table>\n",
       "</div>"
      ],
      "text/plain": [
       "            Name         City  Age Profession\n",
       "0         Иванов       Москва   25     Клинер\n",
       "1            NaN    Волгоград   31   Менеджер\n",
       "2         Иванов       Москва   25     Клинер\n",
       "3        sidorov  Владивосток   43   Менеджер\n",
       "4        _______        Курск   50   Водитель\n",
       "6          Сажин       Сургут   29    Рабочий\n",
       "7   Котлеревский   Йошкар-Ола   32    Рабочий\n",
       "8     Завалишина    Чебоксары   36   Менеджер\n",
       "9         Левина          NaN   55    Рабочий\n",
       "10          Фикс         Рига   42    Рабочий"
      ]
     },
     "execution_count": 4,
     "metadata": {},
     "output_type": "execute_result"
    }
   ],
   "source": [
    "sample = pd.read_csv('sample.csv')\n",
    "sample.query('Age>20')"
   ]
  },
  {
   "cell_type": "code",
   "execution_count": 5,
   "metadata": {},
   "outputs": [
    {
     "data": {
      "text/plain": [
       "19"
      ]
     },
     "execution_count": 5,
     "metadata": {},
     "output_type": "execute_result"
    }
   ],
   "source": [
    "sample.Age.min()"
   ]
  },
  {
   "cell_type": "code",
   "execution_count": 6,
   "metadata": {},
   "outputs": [
    {
     "data": {
      "text/html": [
       "<div>\n",
       "<style scoped>\n",
       "    .dataframe tbody tr th:only-of-type {\n",
       "        vertical-align: middle;\n",
       "    }\n",
       "\n",
       "    .dataframe tbody tr th {\n",
       "        vertical-align: top;\n",
       "    }\n",
       "\n",
       "    .dataframe thead th {\n",
       "        text-align: right;\n",
       "    }\n",
       "</style>\n",
       "<table border=\"1\" class=\"dataframe\">\n",
       "  <thead>\n",
       "    <tr style=\"text-align: right;\">\n",
       "      <th></th>\n",
       "      <th>Name</th>\n",
       "      <th>City</th>\n",
       "      <th>Age</th>\n",
       "      <th>Profession</th>\n",
       "    </tr>\n",
       "  </thead>\n",
       "  <tbody>\n",
       "    <tr>\n",
       "      <th>5</th>\n",
       "      <td>Кузнецов</td>\n",
       "      <td>Сочи</td>\n",
       "      <td>19</td>\n",
       "      <td>Рабочий</td>\n",
       "    </tr>\n",
       "    <tr>\n",
       "      <th>10</th>\n",
       "      <td>Фикс</td>\n",
       "      <td>Рига</td>\n",
       "      <td>42</td>\n",
       "      <td>Рабочий</td>\n",
       "    </tr>\n",
       "  </tbody>\n",
       "</table>\n",
       "</div>"
      ],
      "text/plain": [
       "        Name  City  Age Profession\n",
       "5   Кузнецов  Сочи   19    Рабочий\n",
       "10      Фикс  Рига   42    Рабочий"
      ]
     },
     "execution_count": 6,
     "metadata": {},
     "output_type": "execute_result"
    }
   ],
   "source": [
    "sample.query('City in [\"Рига\",\"Сочи\"]')"
   ]
  },
  {
   "cell_type": "code",
   "execution_count": 7,
   "metadata": {},
   "outputs": [
    {
     "data": {
      "text/html": [
       "<div>\n",
       "<style scoped>\n",
       "    .dataframe tbody tr th:only-of-type {\n",
       "        vertical-align: middle;\n",
       "    }\n",
       "\n",
       "    .dataframe tbody tr th {\n",
       "        vertical-align: top;\n",
       "    }\n",
       "\n",
       "    .dataframe thead th {\n",
       "        text-align: right;\n",
       "    }\n",
       "</style>\n",
       "<table border=\"1\" class=\"dataframe\">\n",
       "  <thead>\n",
       "    <tr style=\"text-align: right;\">\n",
       "      <th></th>\n",
       "      <th>Name</th>\n",
       "      <th>City</th>\n",
       "      <th>Age</th>\n",
       "      <th>Profession</th>\n",
       "    </tr>\n",
       "  </thead>\n",
       "  <tbody>\n",
       "    <tr>\n",
       "      <th>6</th>\n",
       "      <td>Сажин</td>\n",
       "      <td>Сургут</td>\n",
       "      <td>29</td>\n",
       "      <td>Рабочий</td>\n",
       "    </tr>\n",
       "    <tr>\n",
       "      <th>10</th>\n",
       "      <td>Фикс</td>\n",
       "      <td>Рига</td>\n",
       "      <td>42</td>\n",
       "      <td>Рабочий</td>\n",
       "    </tr>\n",
       "  </tbody>\n",
       "</table>\n",
       "</div>"
      ],
      "text/plain": [
       "     Name    City  Age Profession\n",
       "6   Сажин  Сургут   29    Рабочий\n",
       "10   Фикс    Рига   42    Рабочий"
      ]
     },
     "execution_count": 7,
     "metadata": {},
     "output_type": "execute_result"
    }
   ],
   "source": [
    "sample.query('City in [\"Рига\", \"Сочи\",\"Чебоксары\", \"Сургут\"] & 21<Age<50 & Profession!=\"Менеджер\"')"
   ]
  },
  {
   "cell_type": "code",
   "execution_count": 10,
   "metadata": {},
   "outputs": [
    {
     "data": {
      "text/html": [
       "<div>\n",
       "<style scoped>\n",
       "    .dataframe tbody tr th:only-of-type {\n",
       "        vertical-align: middle;\n",
       "    }\n",
       "\n",
       "    .dataframe tbody tr th {\n",
       "        vertical-align: top;\n",
       "    }\n",
       "\n",
       "    .dataframe thead th {\n",
       "        text-align: right;\n",
       "    }\n",
       "</style>\n",
       "<table border=\"1\" class=\"dataframe\">\n",
       "  <thead>\n",
       "    <tr style=\"text-align: right;\">\n",
       "      <th></th>\n",
       "      <th>user_id</th>\n",
       "      <th>time</th>\n",
       "      <th>bet</th>\n",
       "      <th>win</th>\n",
       "    </tr>\n",
       "  </thead>\n",
       "  <tbody>\n",
       "    <tr>\n",
       "      <th>151</th>\n",
       "      <td>Запись пользователя № - user_982</td>\n",
       "      <td>[2019-01-16 21:54:22</td>\n",
       "      <td>100.0</td>\n",
       "      <td>4749.0</td>\n",
       "    </tr>\n",
       "    <tr>\n",
       "      <th>189</th>\n",
       "      <td>Запись пользователя № - user_964</td>\n",
       "      <td>[2019-01-21 18:34:44</td>\n",
       "      <td>200.0</td>\n",
       "      <td>4667.0</td>\n",
       "    </tr>\n",
       "    <tr>\n",
       "      <th>205</th>\n",
       "      <td>Запись пользователя № - user_931</td>\n",
       "      <td>[2019-01-22 5:26:59</td>\n",
       "      <td>300.0</td>\n",
       "      <td>4319.0</td>\n",
       "    </tr>\n",
       "    <tr>\n",
       "      <th>232</th>\n",
       "      <td>Запись пользователя № - user_998</td>\n",
       "      <td>[2019-01-25 8:57:20</td>\n",
       "      <td>500.0</td>\n",
       "      <td>5069.0</td>\n",
       "    </tr>\n",
       "    <tr>\n",
       "      <th>265</th>\n",
       "      <td>Запись пользователя № - user_998</td>\n",
       "      <td>[2019-01-29 10:37:55</td>\n",
       "      <td>500.0</td>\n",
       "      <td>6294.0</td>\n",
       "    </tr>\n",
       "    <tr>\n",
       "      <th>...</th>\n",
       "      <td>...</td>\n",
       "      <td>...</td>\n",
       "      <td>...</td>\n",
       "      <td>...</td>\n",
       "    </tr>\n",
       "    <tr>\n",
       "      <th>962</th>\n",
       "      <td>Запись пользователя № - user_976</td>\n",
       "      <td>[2019-04-19 14:18:45</td>\n",
       "      <td>400.0</td>\n",
       "      <td>5997.0</td>\n",
       "    </tr>\n",
       "    <tr>\n",
       "      <th>965</th>\n",
       "      <td>Запись пользователя № - user_900</td>\n",
       "      <td>[2019-04-19 19:31:48</td>\n",
       "      <td>900.0</td>\n",
       "      <td>6767.0</td>\n",
       "    </tr>\n",
       "    <tr>\n",
       "      <th>967</th>\n",
       "      <td>Запись пользователя № - user_975</td>\n",
       "      <td>[2019-04-19 22:25:15</td>\n",
       "      <td>1000.0</td>\n",
       "      <td>6108.0</td>\n",
       "    </tr>\n",
       "    <tr>\n",
       "      <th>981</th>\n",
       "      <td>#error</td>\n",
       "      <td>NaN</td>\n",
       "      <td>800.0</td>\n",
       "      <td>7035.0</td>\n",
       "    </tr>\n",
       "    <tr>\n",
       "      <th>991</th>\n",
       "      <td>Запись пользователя № - user_965</td>\n",
       "      <td>[2019-04-20 12:55:41</td>\n",
       "      <td>800.0</td>\n",
       "      <td>6927.0</td>\n",
       "    </tr>\n",
       "  </tbody>\n",
       "</table>\n",
       "<p>113 rows × 4 columns</p>\n",
       "</div>"
      ],
      "text/plain": [
       "                              user_id                  time     bet     win\n",
       "151  Запись пользователя № - user_982  [2019-01-16 21:54:22   100.0  4749.0\n",
       "189  Запись пользователя № - user_964  [2019-01-21 18:34:44   200.0  4667.0\n",
       "205  Запись пользователя № - user_931   [2019-01-22 5:26:59   300.0  4319.0\n",
       "232  Запись пользователя № - user_998   [2019-01-25 8:57:20   500.0  5069.0\n",
       "265  Запись пользователя № - user_998  [2019-01-29 10:37:55   500.0  6294.0\n",
       "..                                ...                   ...     ...     ...\n",
       "962  Запись пользователя № - user_976  [2019-04-19 14:18:45   400.0  5997.0\n",
       "965  Запись пользователя № - user_900  [2019-04-19 19:31:48   900.0  6767.0\n",
       "967  Запись пользователя № - user_975  [2019-04-19 22:25:15  1000.0  6108.0\n",
       "981                            #error                   NaN   800.0  7035.0\n",
       "991  Запись пользователя № - user_965  [2019-04-20 12:55:41   800.0  6927.0\n",
       "\n",
       "[113 rows x 4 columns]"
      ]
     },
     "execution_count": 10,
     "metadata": {},
     "output_type": "execute_result"
    }
   ],
   "source": [
    "log2=log.query('bet<2000 & win>0')\n",
    "log2"
   ]
  },
  {
   "cell_type": "markdown",
   "metadata": {},
   "source": [
    "# Функции $str.match$ и $str.contains$\n",
    "\n",
    "Часто приходится фильтровать значения в столбце по соответствию строки или её части. Для этого есть две полезные функции:\n",
    "\n",
    "    str.match (\"abc\") — ищет строки, которые начинаются c abc,\n",
    "    str.contains (\"abc\") — ищет строки, в которых есть abc.\n",
    "   \n",
    "Обе функции применимы только к объектам Series и не могут работать с NaN, необходимо использовать параметр na = False\n",
    "\n",
    "В результате применения функции мы получаем своеобразную маску, которую мы можем наложить на датафрейм для фильтрации."
   ]
  },
  {
   "cell_type": "code",
   "execution_count": 11,
   "metadata": {},
   "outputs": [
    {
     "data": {
      "text/html": [
       "<div>\n",
       "<style scoped>\n",
       "    .dataframe tbody tr th:only-of-type {\n",
       "        vertical-align: middle;\n",
       "    }\n",
       "\n",
       "    .dataframe tbody tr th {\n",
       "        vertical-align: top;\n",
       "    }\n",
       "\n",
       "    .dataframe thead th {\n",
       "        text-align: right;\n",
       "    }\n",
       "</style>\n",
       "<table border=\"1\" class=\"dataframe\">\n",
       "  <thead>\n",
       "    <tr style=\"text-align: right;\">\n",
       "      <th></th>\n",
       "      <th>Name</th>\n",
       "      <th>City</th>\n",
       "      <th>Age</th>\n",
       "      <th>Profession</th>\n",
       "    </tr>\n",
       "  </thead>\n",
       "  <tbody>\n",
       "    <tr>\n",
       "      <th>0</th>\n",
       "      <td>Иванов</td>\n",
       "      <td>Москва</td>\n",
       "      <td>25</td>\n",
       "      <td>Клинер</td>\n",
       "    </tr>\n",
       "    <tr>\n",
       "      <th>1</th>\n",
       "      <td>NaN</td>\n",
       "      <td>Волгоград</td>\n",
       "      <td>31</td>\n",
       "      <td>Менеджер</td>\n",
       "    </tr>\n",
       "    <tr>\n",
       "      <th>2</th>\n",
       "      <td>Иванов</td>\n",
       "      <td>Москва</td>\n",
       "      <td>25</td>\n",
       "      <td>Клинер</td>\n",
       "    </tr>\n",
       "    <tr>\n",
       "      <th>3</th>\n",
       "      <td>sidorov</td>\n",
       "      <td>Владивосток</td>\n",
       "      <td>43</td>\n",
       "      <td>Менеджер</td>\n",
       "    </tr>\n",
       "    <tr>\n",
       "      <th>4</th>\n",
       "      <td>_______</td>\n",
       "      <td>Курск</td>\n",
       "      <td>50</td>\n",
       "      <td>Водитель</td>\n",
       "    </tr>\n",
       "    <tr>\n",
       "      <th>5</th>\n",
       "      <td>Кузнецов</td>\n",
       "      <td>Сочи</td>\n",
       "      <td>19</td>\n",
       "      <td>Рабочий</td>\n",
       "    </tr>\n",
       "    <tr>\n",
       "      <th>6</th>\n",
       "      <td>Сажин</td>\n",
       "      <td>Сургут</td>\n",
       "      <td>29</td>\n",
       "      <td>Рабочий</td>\n",
       "    </tr>\n",
       "    <tr>\n",
       "      <th>7</th>\n",
       "      <td>Котлеревский</td>\n",
       "      <td>Йошкар-Ола</td>\n",
       "      <td>32</td>\n",
       "      <td>Рабочий</td>\n",
       "    </tr>\n",
       "    <tr>\n",
       "      <th>8</th>\n",
       "      <td>Завалишина</td>\n",
       "      <td>Чебоксары</td>\n",
       "      <td>36</td>\n",
       "      <td>Менеджер</td>\n",
       "    </tr>\n",
       "    <tr>\n",
       "      <th>9</th>\n",
       "      <td>Левина</td>\n",
       "      <td>NaN</td>\n",
       "      <td>55</td>\n",
       "      <td>Рабочий</td>\n",
       "    </tr>\n",
       "    <tr>\n",
       "      <th>10</th>\n",
       "      <td>Фикс</td>\n",
       "      <td>Рига</td>\n",
       "      <td>42</td>\n",
       "      <td>Рабочий</td>\n",
       "    </tr>\n",
       "  </tbody>\n",
       "</table>\n",
       "</div>"
      ],
      "text/plain": [
       "            Name         City  Age Profession\n",
       "0         Иванов       Москва   25     Клинер\n",
       "1            NaN    Волгоград   31   Менеджер\n",
       "2         Иванов       Москва   25     Клинер\n",
       "3        sidorov  Владивосток   43   Менеджер\n",
       "4        _______        Курск   50   Водитель\n",
       "5       Кузнецов         Сочи   19    Рабочий\n",
       "6          Сажин       Сургут   29    Рабочий\n",
       "7   Котлеревский   Йошкар-Ола   32    Рабочий\n",
       "8     Завалишина    Чебоксары   36   Менеджер\n",
       "9         Левина          NaN   55    Рабочий\n",
       "10          Фикс         Рига   42    Рабочий"
      ]
     },
     "execution_count": 11,
     "metadata": {},
     "output_type": "execute_result"
    }
   ],
   "source": [
    "sample"
   ]
  },
  {
   "cell_type": "code",
   "execution_count": 12,
   "metadata": {},
   "outputs": [
    {
     "data": {
      "text/plain": [
       "0     False\n",
       "1     False\n",
       "2     False\n",
       "3     False\n",
       "4     False\n",
       "5      True\n",
       "6     False\n",
       "7      True\n",
       "8     False\n",
       "9     False\n",
       "10    False\n",
       "Name: Name, dtype: bool"
      ]
     },
     "execution_count": 12,
     "metadata": {},
     "output_type": "execute_result"
    }
   ],
   "source": [
    "sample.Name.str.match(\"К\", na=False)"
   ]
  },
  {
   "cell_type": "code",
   "execution_count": 13,
   "metadata": {},
   "outputs": [
    {
     "data": {
      "text/html": [
       "<div>\n",
       "<style scoped>\n",
       "    .dataframe tbody tr th:only-of-type {\n",
       "        vertical-align: middle;\n",
       "    }\n",
       "\n",
       "    .dataframe tbody tr th {\n",
       "        vertical-align: top;\n",
       "    }\n",
       "\n",
       "    .dataframe thead th {\n",
       "        text-align: right;\n",
       "    }\n",
       "</style>\n",
       "<table border=\"1\" class=\"dataframe\">\n",
       "  <thead>\n",
       "    <tr style=\"text-align: right;\">\n",
       "      <th></th>\n",
       "      <th>Name</th>\n",
       "      <th>City</th>\n",
       "      <th>Age</th>\n",
       "      <th>Profession</th>\n",
       "    </tr>\n",
       "  </thead>\n",
       "  <tbody>\n",
       "    <tr>\n",
       "      <th>5</th>\n",
       "      <td>Кузнецов</td>\n",
       "      <td>Сочи</td>\n",
       "      <td>19</td>\n",
       "      <td>Рабочий</td>\n",
       "    </tr>\n",
       "    <tr>\n",
       "      <th>7</th>\n",
       "      <td>Котлеревский</td>\n",
       "      <td>Йошкар-Ола</td>\n",
       "      <td>32</td>\n",
       "      <td>Рабочий</td>\n",
       "    </tr>\n",
       "  </tbody>\n",
       "</table>\n",
       "</div>"
      ],
      "text/plain": [
       "           Name        City  Age Profession\n",
       "5      Кузнецов        Сочи   19    Рабочий\n",
       "7  Котлеревский  Йошкар-Ола   32    Рабочий"
      ]
     },
     "execution_count": 13,
     "metadata": {},
     "output_type": "execute_result"
    }
   ],
   "source": [
    "sample[sample.Name.str.match(\"К\", na=False)]"
   ]
  },
  {
   "cell_type": "markdown",
   "metadata": {},
   "source": [
    "### Если хотим получить значения которые не удолетворяют условю:"
   ]
  },
  {
   "cell_type": "code",
   "execution_count": 14,
   "metadata": {},
   "outputs": [
    {
     "data": {
      "text/html": [
       "<div>\n",
       "<style scoped>\n",
       "    .dataframe tbody tr th:only-of-type {\n",
       "        vertical-align: middle;\n",
       "    }\n",
       "\n",
       "    .dataframe tbody tr th {\n",
       "        vertical-align: top;\n",
       "    }\n",
       "\n",
       "    .dataframe thead th {\n",
       "        text-align: right;\n",
       "    }\n",
       "</style>\n",
       "<table border=\"1\" class=\"dataframe\">\n",
       "  <thead>\n",
       "    <tr style=\"text-align: right;\">\n",
       "      <th></th>\n",
       "      <th>Name</th>\n",
       "      <th>City</th>\n",
       "      <th>Age</th>\n",
       "      <th>Profession</th>\n",
       "    </tr>\n",
       "  </thead>\n",
       "  <tbody>\n",
       "    <tr>\n",
       "      <th>0</th>\n",
       "      <td>Иванов</td>\n",
       "      <td>Москва</td>\n",
       "      <td>25</td>\n",
       "      <td>Клинер</td>\n",
       "    </tr>\n",
       "    <tr>\n",
       "      <th>1</th>\n",
       "      <td>NaN</td>\n",
       "      <td>Волгоград</td>\n",
       "      <td>31</td>\n",
       "      <td>Менеджер</td>\n",
       "    </tr>\n",
       "    <tr>\n",
       "      <th>2</th>\n",
       "      <td>Иванов</td>\n",
       "      <td>Москва</td>\n",
       "      <td>25</td>\n",
       "      <td>Клинер</td>\n",
       "    </tr>\n",
       "    <tr>\n",
       "      <th>3</th>\n",
       "      <td>sidorov</td>\n",
       "      <td>Владивосток</td>\n",
       "      <td>43</td>\n",
       "      <td>Менеджер</td>\n",
       "    </tr>\n",
       "    <tr>\n",
       "      <th>4</th>\n",
       "      <td>_______</td>\n",
       "      <td>Курск</td>\n",
       "      <td>50</td>\n",
       "      <td>Водитель</td>\n",
       "    </tr>\n",
       "    <tr>\n",
       "      <th>6</th>\n",
       "      <td>Сажин</td>\n",
       "      <td>Сургут</td>\n",
       "      <td>29</td>\n",
       "      <td>Рабочий</td>\n",
       "    </tr>\n",
       "    <tr>\n",
       "      <th>8</th>\n",
       "      <td>Завалишина</td>\n",
       "      <td>Чебоксары</td>\n",
       "      <td>36</td>\n",
       "      <td>Менеджер</td>\n",
       "    </tr>\n",
       "    <tr>\n",
       "      <th>9</th>\n",
       "      <td>Левина</td>\n",
       "      <td>NaN</td>\n",
       "      <td>55</td>\n",
       "      <td>Рабочий</td>\n",
       "    </tr>\n",
       "    <tr>\n",
       "      <th>10</th>\n",
       "      <td>Фикс</td>\n",
       "      <td>Рига</td>\n",
       "      <td>42</td>\n",
       "      <td>Рабочий</td>\n",
       "    </tr>\n",
       "  </tbody>\n",
       "</table>\n",
       "</div>"
      ],
      "text/plain": [
       "          Name         City  Age Profession\n",
       "0       Иванов       Москва   25     Клинер\n",
       "1          NaN    Волгоград   31   Менеджер\n",
       "2       Иванов       Москва   25     Клинер\n",
       "3      sidorov  Владивосток   43   Менеджер\n",
       "4      _______        Курск   50   Водитель\n",
       "6        Сажин       Сургут   29    Рабочий\n",
       "8   Завалишина    Чебоксары   36   Менеджер\n",
       "9       Левина          NaN   55    Рабочий\n",
       "10        Фикс         Рига   42    Рабочий"
      ]
     },
     "execution_count": 14,
     "metadata": {},
     "output_type": "execute_result"
    }
   ],
   "source": [
    "sample[~sample.Name.str.match(\"К\", na=False)]"
   ]
  },
  {
   "cell_type": "markdown",
   "metadata": {},
   "source": [
    "# Простые задачи на закрепление\n",
    "\n",
    "1. Найдите записи в sample, где в городах есть буква «о».\n",
    "2. Сохраните в переменную new_log датафрейм, из которого удалены записи с ошибкой в поле user_id\n",
    "3. Оставьте в new_log только те данные, в которых есть значения bet и win, используя функцию query"
   ]
  },
  {
   "cell_type": "markdown",
   "metadata": {},
   "source": [
    "### Задача 1"
   ]
  },
  {
   "cell_type": "code",
   "execution_count": 16,
   "metadata": {
    "scrolled": true
   },
   "outputs": [
    {
     "data": {
      "text/html": [
       "<div>\n",
       "<style scoped>\n",
       "    .dataframe tbody tr th:only-of-type {\n",
       "        vertical-align: middle;\n",
       "    }\n",
       "\n",
       "    .dataframe tbody tr th {\n",
       "        vertical-align: top;\n",
       "    }\n",
       "\n",
       "    .dataframe thead th {\n",
       "        text-align: right;\n",
       "    }\n",
       "</style>\n",
       "<table border=\"1\" class=\"dataframe\">\n",
       "  <thead>\n",
       "    <tr style=\"text-align: right;\">\n",
       "      <th></th>\n",
       "      <th>Name</th>\n",
       "      <th>City</th>\n",
       "      <th>Age</th>\n",
       "      <th>Profession</th>\n",
       "    </tr>\n",
       "  </thead>\n",
       "  <tbody>\n",
       "    <tr>\n",
       "      <th>0</th>\n",
       "      <td>Иванов</td>\n",
       "      <td>Москва</td>\n",
       "      <td>25</td>\n",
       "      <td>Клинер</td>\n",
       "    </tr>\n",
       "    <tr>\n",
       "      <th>1</th>\n",
       "      <td>NaN</td>\n",
       "      <td>Волгоград</td>\n",
       "      <td>31</td>\n",
       "      <td>Менеджер</td>\n",
       "    </tr>\n",
       "    <tr>\n",
       "      <th>2</th>\n",
       "      <td>Иванов</td>\n",
       "      <td>Москва</td>\n",
       "      <td>25</td>\n",
       "      <td>Клинер</td>\n",
       "    </tr>\n",
       "    <tr>\n",
       "      <th>3</th>\n",
       "      <td>sidorov</td>\n",
       "      <td>Владивосток</td>\n",
       "      <td>43</td>\n",
       "      <td>Менеджер</td>\n",
       "    </tr>\n",
       "    <tr>\n",
       "      <th>5</th>\n",
       "      <td>Кузнецов</td>\n",
       "      <td>Сочи</td>\n",
       "      <td>19</td>\n",
       "      <td>Рабочий</td>\n",
       "    </tr>\n",
       "    <tr>\n",
       "      <th>7</th>\n",
       "      <td>Котлеревский</td>\n",
       "      <td>Йошкар-Ола</td>\n",
       "      <td>32</td>\n",
       "      <td>Рабочий</td>\n",
       "    </tr>\n",
       "    <tr>\n",
       "      <th>8</th>\n",
       "      <td>Завалишина</td>\n",
       "      <td>Чебоксары</td>\n",
       "      <td>36</td>\n",
       "      <td>Менеджер</td>\n",
       "    </tr>\n",
       "  </tbody>\n",
       "</table>\n",
       "</div>"
      ],
      "text/plain": [
       "           Name         City  Age Profession\n",
       "0        Иванов       Москва   25     Клинер\n",
       "1           NaN    Волгоград   31   Менеджер\n",
       "2        Иванов       Москва   25     Клинер\n",
       "3       sidorov  Владивосток   43   Менеджер\n",
       "5      Кузнецов         Сочи   19    Рабочий\n",
       "7  Котлеревский   Йошкар-Ола   32    Рабочий\n",
       "8    Завалишина    Чебоксары   36   Менеджер"
      ]
     },
     "execution_count": 16,
     "metadata": {},
     "output_type": "execute_result"
    }
   ],
   "source": [
    "sample[sample.City.str.contains(\"о\",na=False)]"
   ]
  },
  {
   "cell_type": "markdown",
   "metadata": {},
   "source": [
    "### Задача 2"
   ]
  },
  {
   "cell_type": "code",
   "execution_count": null,
   "metadata": {},
   "outputs": [],
   "source": [
    "new_log=log[~log.user_id.str.match(\"#error\",na=False)]\n",
    "new_log"
   ]
  },
  {
   "cell_type": "markdown",
   "metadata": {},
   "source": [
    "### Задача 3"
   ]
  },
  {
   "cell_type": "code",
   "execution_count": 20,
   "metadata": {},
   "outputs": [
    {
     "data": {
      "text/html": [
       "<div>\n",
       "<style scoped>\n",
       "    .dataframe tbody tr th:only-of-type {\n",
       "        vertical-align: middle;\n",
       "    }\n",
       "\n",
       "    .dataframe tbody tr th {\n",
       "        vertical-align: top;\n",
       "    }\n",
       "\n",
       "    .dataframe thead th {\n",
       "        text-align: right;\n",
       "    }\n",
       "</style>\n",
       "<table border=\"1\" class=\"dataframe\">\n",
       "  <thead>\n",
       "    <tr style=\"text-align: right;\">\n",
       "      <th></th>\n",
       "      <th>user_id</th>\n",
       "      <th>time</th>\n",
       "      <th>bet</th>\n",
       "      <th>win</th>\n",
       "    </tr>\n",
       "  </thead>\n",
       "  <tbody>\n",
       "    <tr>\n",
       "      <th>14</th>\n",
       "      <td>Запись пользователя № - user_917</td>\n",
       "      <td>[2019-01-02 8:57:36</td>\n",
       "      <td>145732.0</td>\n",
       "      <td>1987653.0</td>\n",
       "    </tr>\n",
       "    <tr>\n",
       "      <th>29</th>\n",
       "      <td>Запись пользователя № - user_942</td>\n",
       "      <td>[2019-01-04 13:59:42</td>\n",
       "      <td>1678321.0</td>\n",
       "      <td>9876543.0</td>\n",
       "    </tr>\n",
       "    <tr>\n",
       "      <th>151</th>\n",
       "      <td>Запись пользователя № - user_982</td>\n",
       "      <td>[2019-01-16 21:54:22</td>\n",
       "      <td>100.0</td>\n",
       "      <td>4749.0</td>\n",
       "    </tr>\n",
       "    <tr>\n",
       "      <th>189</th>\n",
       "      <td>Запись пользователя № - user_964</td>\n",
       "      <td>[2019-01-21 18:34:44</td>\n",
       "      <td>200.0</td>\n",
       "      <td>4667.0</td>\n",
       "    </tr>\n",
       "    <tr>\n",
       "      <th>205</th>\n",
       "      <td>Запись пользователя № - user_931</td>\n",
       "      <td>[2019-01-22 5:26:59</td>\n",
       "      <td>300.0</td>\n",
       "      <td>4319.0</td>\n",
       "    </tr>\n",
       "    <tr>\n",
       "      <th>...</th>\n",
       "      <td>...</td>\n",
       "      <td>...</td>\n",
       "      <td>...</td>\n",
       "      <td>...</td>\n",
       "    </tr>\n",
       "    <tr>\n",
       "      <th>967</th>\n",
       "      <td>Запись пользователя № - user_975</td>\n",
       "      <td>[2019-04-19 22:25:15</td>\n",
       "      <td>1000.0</td>\n",
       "      <td>6108.0</td>\n",
       "    </tr>\n",
       "    <tr>\n",
       "      <th>971</th>\n",
       "      <td>Запись пользователя № - user_912</td>\n",
       "      <td>[2019-04-20 10:35:49</td>\n",
       "      <td>10554.0</td>\n",
       "      <td>31799.0</td>\n",
       "    </tr>\n",
       "    <tr>\n",
       "      <th>972</th>\n",
       "      <td>Запись пользователя № - user_926</td>\n",
       "      <td>[2019-04-20 10:35:50</td>\n",
       "      <td>10354.0</td>\n",
       "      <td>30244.0</td>\n",
       "    </tr>\n",
       "    <tr>\n",
       "      <th>976</th>\n",
       "      <td>Запись пользователя № - user_970</td>\n",
       "      <td>[2019-04-20 10:35:54</td>\n",
       "      <td>10354.0</td>\n",
       "      <td>30691.0</td>\n",
       "    </tr>\n",
       "    <tr>\n",
       "      <th>991</th>\n",
       "      <td>Запись пользователя № - user_965</td>\n",
       "      <td>[2019-04-20 12:55:41</td>\n",
       "      <td>800.0</td>\n",
       "      <td>6927.0</td>\n",
       "    </tr>\n",
       "  </tbody>\n",
       "</table>\n",
       "<p>133 rows × 4 columns</p>\n",
       "</div>"
      ],
      "text/plain": [
       "                              user_id                  time        bet  \\\n",
       "14   Запись пользователя № - user_917   [2019-01-02 8:57:36   145732.0   \n",
       "29   Запись пользователя № - user_942  [2019-01-04 13:59:42  1678321.0   \n",
       "151  Запись пользователя № - user_982  [2019-01-16 21:54:22      100.0   \n",
       "189  Запись пользователя № - user_964  [2019-01-21 18:34:44      200.0   \n",
       "205  Запись пользователя № - user_931   [2019-01-22 5:26:59      300.0   \n",
       "..                                ...                   ...        ...   \n",
       "967  Запись пользователя № - user_975  [2019-04-19 22:25:15     1000.0   \n",
       "971  Запись пользователя № - user_912  [2019-04-20 10:35:49    10554.0   \n",
       "972  Запись пользователя № - user_926  [2019-04-20 10:35:50    10354.0   \n",
       "976  Запись пользователя № - user_970  [2019-04-20 10:35:54    10354.0   \n",
       "991  Запись пользователя № - user_965  [2019-04-20 12:55:41      800.0   \n",
       "\n",
       "           win  \n",
       "14   1987653.0  \n",
       "29   9876543.0  \n",
       "151     4749.0  \n",
       "189     4667.0  \n",
       "205     4319.0  \n",
       "..         ...  \n",
       "967     6108.0  \n",
       "971    31799.0  \n",
       "972    30244.0  \n",
       "976    30691.0  \n",
       "991     6927.0  \n",
       "\n",
       "[133 rows x 4 columns]"
      ]
     },
     "execution_count": 20,
     "metadata": {},
     "output_type": "execute_result"
    }
   ],
   "source": [
    "new_log.query('win>0 & bet>0')"
   ]
  },
  {
   "cell_type": "markdown",
   "metadata": {},
   "source": [
    "# Преобразование данных\n",
    "\n",
    "Часто данные оказываются плохо приспособленными к анализу, поэтому их следует преобразовать. Для решения этой задачи используется функция apply.  \n",
    "\n",
    "df.column_name.apply(func)\n",
    "\n",
    "Apply вызывает свою функцию для каждого элемента колонки. Функции, с которыми работает apply, бывают двух видов:\n",
    "\n",
    "    лямбда-функции (можно задать внутри apply),\n",
    "    обычные именные функции (определяются через def).\n"
   ]
  },
  {
   "cell_type": "code",
   "execution_count": 21,
   "metadata": {},
   "outputs": [
    {
     "data": {
      "text/plain": [
       "0      625\n",
       "1      961\n",
       "2      625\n",
       "3     1849\n",
       "4     2500\n",
       "5      361\n",
       "6      841\n",
       "7     1024\n",
       "8     1296\n",
       "9     3025\n",
       "10    1764\n",
       "Name: Age, dtype: int64"
      ]
     },
     "execution_count": 21,
     "metadata": {},
     "output_type": "execute_result"
    }
   ],
   "source": [
    "sample.Age.apply(lambda x:x**2)"
   ]
  },
  {
   "cell_type": "code",
   "execution_count": 22,
   "metadata": {},
   "outputs": [
    {
     "data": {
      "text/plain": [
       "0      0\n",
       "1      0\n",
       "2      0\n",
       "3      0\n",
       "4      0\n",
       "5     19\n",
       "6      0\n",
       "7      0\n",
       "8      0\n",
       "9      0\n",
       "10     0\n",
       "Name: Age, dtype: int64"
      ]
     },
     "execution_count": 22,
     "metadata": {},
     "output_type": "execute_result"
    }
   ],
   "source": [
    "# Обнулим значения возраста для всех возрастов больше 19\n",
    "def func(x):\n",
    "    if x<20:\n",
    "        return x\n",
    "    else:\n",
    "        return 0\n",
    "sample.Age.apply(func)\n",
    "# Передаем только имя функции"
   ]
  },
  {
   "cell_type": "markdown",
   "metadata": {},
   "source": [
    "# Задания для закрепления\n",
    "\n",
    "1. "
   ]
  },
  {
   "cell_type": "code",
   "execution_count": 25,
   "metadata": {},
   "outputs": [
    {
     "data": {
      "text/html": [
       "<div>\n",
       "<style scoped>\n",
       "    .dataframe tbody tr th:only-of-type {\n",
       "        vertical-align: middle;\n",
       "    }\n",
       "\n",
       "    .dataframe tbody tr th {\n",
       "        vertical-align: top;\n",
       "    }\n",
       "\n",
       "    .dataframe thead th {\n",
       "        text-align: right;\n",
       "    }\n",
       "</style>\n",
       "<table border=\"1\" class=\"dataframe\">\n",
       "  <thead>\n",
       "    <tr style=\"text-align: right;\">\n",
       "      <th></th>\n",
       "      <th>Name</th>\n",
       "      <th>City</th>\n",
       "      <th>Age</th>\n",
       "      <th>Profession</th>\n",
       "    </tr>\n",
       "  </thead>\n",
       "  <tbody>\n",
       "    <tr>\n",
       "      <th>0</th>\n",
       "      <td>Иванов</td>\n",
       "      <td>Москва</td>\n",
       "      <td>25</td>\n",
       "      <td>Клинер</td>\n",
       "    </tr>\n",
       "    <tr>\n",
       "      <th>1</th>\n",
       "      <td>NaN</td>\n",
       "      <td>Волгоград</td>\n",
       "      <td>31</td>\n",
       "      <td>Менеджер</td>\n",
       "    </tr>\n",
       "    <tr>\n",
       "      <th>2</th>\n",
       "      <td>Иванов</td>\n",
       "      <td>Москва</td>\n",
       "      <td>25</td>\n",
       "      <td>Клинер</td>\n",
       "    </tr>\n",
       "    <tr>\n",
       "      <th>3</th>\n",
       "      <td>sidorov</td>\n",
       "      <td>Владивосток</td>\n",
       "      <td>43</td>\n",
       "      <td>Менеджер</td>\n",
       "    </tr>\n",
       "    <tr>\n",
       "      <th>4</th>\n",
       "      <td>_______</td>\n",
       "      <td>Курск</td>\n",
       "      <td>50</td>\n",
       "      <td>Водитель</td>\n",
       "    </tr>\n",
       "    <tr>\n",
       "      <th>5</th>\n",
       "      <td>Кузнецов</td>\n",
       "      <td>Сочи</td>\n",
       "      <td>19</td>\n",
       "      <td>Рабочий</td>\n",
       "    </tr>\n",
       "    <tr>\n",
       "      <th>6</th>\n",
       "      <td>Сажин</td>\n",
       "      <td>Сургут</td>\n",
       "      <td>29</td>\n",
       "      <td>Рабочий</td>\n",
       "    </tr>\n",
       "    <tr>\n",
       "      <th>7</th>\n",
       "      <td>Котлеревский</td>\n",
       "      <td>Йошкар-Ола</td>\n",
       "      <td>32</td>\n",
       "      <td>Рабочий</td>\n",
       "    </tr>\n",
       "    <tr>\n",
       "      <th>8</th>\n",
       "      <td>Завалишина</td>\n",
       "      <td>Чебоксары</td>\n",
       "      <td>36</td>\n",
       "      <td>Менеджер</td>\n",
       "    </tr>\n",
       "    <tr>\n",
       "      <th>9</th>\n",
       "      <td>Левина</td>\n",
       "      <td>NaN</td>\n",
       "      <td>55</td>\n",
       "      <td>Рабочий</td>\n",
       "    </tr>\n",
       "    <tr>\n",
       "      <th>10</th>\n",
       "      <td>Фикс</td>\n",
       "      <td>Рига</td>\n",
       "      <td>42</td>\n",
       "      <td>Рабочий</td>\n",
       "    </tr>\n",
       "  </tbody>\n",
       "</table>\n",
       "</div>"
      ],
      "text/plain": [
       "            Name         City  Age Profession\n",
       "0         Иванов       Москва   25     Клинер\n",
       "1            NaN    Волгоград   31   Менеджер\n",
       "2         Иванов       Москва   25     Клинер\n",
       "3        sidorov  Владивосток   43   Менеджер\n",
       "4        _______        Курск   50   Водитель\n",
       "5       Кузнецов         Сочи   19    Рабочий\n",
       "6          Сажин       Сургут   29    Рабочий\n",
       "7   Котлеревский   Йошкар-Ола   32    Рабочий\n",
       "8     Завалишина    Чебоксары   36   Менеджер\n",
       "9         Левина          NaN   55    Рабочий\n",
       "10          Фикс         Рига   42    Рабочий"
      ]
     },
     "execution_count": 25,
     "metadata": {},
     "output_type": "execute_result"
    }
   ],
   "source": [
    "sample"
   ]
  },
  {
   "cell_type": "code",
   "execution_count": 30,
   "metadata": {},
   "outputs": [
    {
     "ename": "SyntaxError",
     "evalue": "invalid syntax (<ipython-input-30-b79b3b79a6ee>, line 2)",
     "output_type": "error",
     "traceback": [
      "\u001b[0;36m  File \u001b[0;32m\"<ipython-input-30-b79b3b79a6ee>\"\u001b[0;36m, line \u001b[0;32m2\u001b[0m\n\u001b[0;31m    sample[sample.Age=sample2]\u001b[0m\n\u001b[0m                     ^\u001b[0m\n\u001b[0;31mSyntaxError\u001b[0m\u001b[0;31m:\u001b[0m invalid syntax\n"
     ]
    }
   ],
   "source": [
    "sample2=sample.Age.apply(lambda x: x+1)\n",
    "sample[sample.Age=sample2]"
   ]
  },
  {
   "cell_type": "code",
   "execution_count": null,
   "metadata": {},
   "outputs": [],
   "source": []
  }
 ],
 "metadata": {
  "kernelspec": {
   "display_name": "Python 3",
   "language": "python",
   "name": "python3"
  },
  "language_info": {
   "codemirror_mode": {
    "name": "ipython",
    "version": 3
   },
   "file_extension": ".py",
   "mimetype": "text/x-python",
   "name": "python",
   "nbconvert_exporter": "python",
   "pygments_lexer": "ipython3",
   "version": "3.6.9"
  }
 },
 "nbformat": 4,
 "nbformat_minor": 4
}
